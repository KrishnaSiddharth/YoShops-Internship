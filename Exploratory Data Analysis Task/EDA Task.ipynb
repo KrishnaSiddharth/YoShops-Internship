{
 "cells": [
  {
   "cell_type": "code",
   "execution_count": 1,
   "metadata": {},
   "outputs": [],
   "source": [
    "import warnings\n",
    "warnings.filterwarnings('ignore')"
   ]
  },
  {
   "cell_type": "code",
   "execution_count": 1,
   "metadata": {},
   "outputs": [],
   "source": [
    "import pandas as pd\n",
    "import numpy as np\n",
    "import PyPDF2\n",
    "from os import remove\n",
    "from os import startfile"
   ]
  },
  {
   "cell_type": "code",
   "execution_count": 3,
   "metadata": {},
   "outputs": [],
   "source": [
    "review = pd.read_csv('review_dataset.csv')"
   ]
  },
  {
   "cell_type": "code",
   "execution_count": 4,
   "metadata": {},
   "outputs": [],
   "source": [
    "order = pd.read_csv('orders_2016-2020_Dataset.csv')"
   ]
  },
  {
   "cell_type": "code",
   "execution_count": 5,
   "metadata": {},
   "outputs": [
    {
     "data": {
      "text/html": [
       "<div>\n",
       "<style scoped>\n",
       "    .dataframe tbody tr th:only-of-type {\n",
       "        vertical-align: middle;\n",
       "    }\n",
       "\n",
       "    .dataframe tbody tr th {\n",
       "        vertical-align: top;\n",
       "    }\n",
       "\n",
       "    .dataframe thead th {\n",
       "        text-align: right;\n",
       "    }\n",
       "</style>\n",
       "<table border=\"1\" class=\"dataframe\">\n",
       "  <thead>\n",
       "    <tr style=\"text-align: right;\">\n",
       "      <th></th>\n",
       "      <th>product_name</th>\n",
       "      <th>product_url</th>\n",
       "      <th>category</th>\n",
       "      <th>status</th>\n",
       "      <th>stars</th>\n",
       "    </tr>\n",
       "  </thead>\n",
       "  <tbody>\n",
       "    <tr>\n",
       "      <th>0</th>\n",
       "      <td>Sony PlayStation PS2 Gaming Console 150 GB Har...</td>\n",
       "      <td>https://yoshops.com/products/sony-playstation-...</td>\n",
       "      <td>Toys &amp; Games</td>\n",
       "      <td>Reviewd</td>\n",
       "      <td>5.0 star rating</td>\n",
       "    </tr>\n",
       "    <tr>\n",
       "      <th>1</th>\n",
       "      <td>Vmax HX 750 Quadcopter Drone (No Camera)</td>\n",
       "      <td>https://yoshops.com/products/hx-750-remote-con...</td>\n",
       "      <td>Toys &amp; Games</td>\n",
       "      <td>Reviewd</td>\n",
       "      <td>5.0 star rating</td>\n",
       "    </tr>\n",
       "    <tr>\n",
       "      <th>2</th>\n",
       "      <td>Yoshops VR BOX Virtual Reality Glasses Headset...</td>\n",
       "      <td>https://yoshops.com/products/yoshops-vr-box-vi...</td>\n",
       "      <td>Toys &amp; Games</td>\n",
       "      <td>Reviewd</td>\n",
       "      <td>5.0 star rating</td>\n",
       "    </tr>\n",
       "    <tr>\n",
       "      <th>3</th>\n",
       "      <td>Sony PlayStation PS3 Console Slim 320 GB (Black)</td>\n",
       "      <td>https://yoshops.com/products/sony-playstation-...</td>\n",
       "      <td>Toys &amp; Games</td>\n",
       "      <td>Reviewd</td>\n",
       "      <td>4.9 star rating</td>\n",
       "    </tr>\n",
       "    <tr>\n",
       "      <th>4</th>\n",
       "      <td>Barbie Doll (pink)</td>\n",
       "      <td>https://yoshops.com/products/barbie-doll</td>\n",
       "      <td>Toys &amp; Games</td>\n",
       "      <td>Reviewd</td>\n",
       "      <td>4.9 star rating</td>\n",
       "    </tr>\n",
       "  </tbody>\n",
       "</table>\n",
       "</div>"
      ],
      "text/plain": [
       "                                        product_name  \\\n",
       "0  Sony PlayStation PS2 Gaming Console 150 GB Har...   \n",
       "1           Vmax HX 750 Quadcopter Drone (No Camera)   \n",
       "2  Yoshops VR BOX Virtual Reality Glasses Headset...   \n",
       "3   Sony PlayStation PS3 Console Slim 320 GB (Black)   \n",
       "4                                 Barbie Doll (pink)   \n",
       "\n",
       "                                         product_url      category   status  \\\n",
       "0  https://yoshops.com/products/sony-playstation-...  Toys & Games  Reviewd   \n",
       "1  https://yoshops.com/products/hx-750-remote-con...  Toys & Games  Reviewd   \n",
       "2  https://yoshops.com/products/yoshops-vr-box-vi...  Toys & Games  Reviewd   \n",
       "3  https://yoshops.com/products/sony-playstation-...  Toys & Games  Reviewd   \n",
       "4           https://yoshops.com/products/barbie-doll  Toys & Games  Reviewd   \n",
       "\n",
       "             stars  \n",
       "0  5.0 star rating  \n",
       "1  5.0 star rating  \n",
       "2  5.0 star rating  \n",
       "3  4.9 star rating  \n",
       "4  4.9 star rating  "
      ]
     },
     "execution_count": 5,
     "metadata": {},
     "output_type": "execute_result"
    }
   ],
   "source": [
    "review.head()"
   ]
  },
  {
   "cell_type": "code",
   "execution_count": 6,
   "metadata": {},
   "outputs": [
    {
     "data": {
      "text/plain": [
       "(1861, 5)"
      ]
     },
     "execution_count": 6,
     "metadata": {},
     "output_type": "execute_result"
    }
   ],
   "source": [
    "review.shape"
   ]
  },
  {
   "cell_type": "code",
   "execution_count": 7,
   "metadata": {},
   "outputs": [
    {
     "name": "stdout",
     "output_type": "stream",
     "text": [
      "<class 'pandas.core.frame.DataFrame'>\n",
      "RangeIndex: 1861 entries, 0 to 1860\n",
      "Data columns (total 5 columns):\n",
      " #   Column        Non-Null Count  Dtype \n",
      "---  ------        --------------  ----- \n",
      " 0   product_name  1861 non-null   object\n",
      " 1   product_url   1861 non-null   object\n",
      " 2   category      1861 non-null   object\n",
      " 3   status        606 non-null    object\n",
      " 4   stars         606 non-null    object\n",
      "dtypes: object(5)\n",
      "memory usage: 72.8+ KB\n"
     ]
    }
   ],
   "source": [
    "review.info()"
   ]
  },
  {
   "cell_type": "code",
   "execution_count": 8,
   "metadata": {},
   "outputs": [
    {
     "data": {
      "text/plain": [
       "product_name       0\n",
       "product_url        0\n",
       "category           0\n",
       "status          1255\n",
       "stars           1255\n",
       "dtype: int64"
      ]
     },
     "execution_count": 8,
     "metadata": {},
     "output_type": "execute_result"
    }
   ],
   "source": [
    "review.isnull().sum() # Number of missing values"
   ]
  },
  {
   "cell_type": "code",
   "execution_count": 9,
   "metadata": {},
   "outputs": [
    {
     "data": {
      "text/plain": [
       "0       Reviewd\n",
       "1       Reviewd\n",
       "2       Reviewd\n",
       "3       Reviewd\n",
       "4       Reviewd\n",
       "         ...   \n",
       "1856        NaN\n",
       "1857        NaN\n",
       "1858        NaN\n",
       "1859    Reviewd\n",
       "1860        NaN\n",
       "Name: status, Length: 1861, dtype: object"
      ]
     },
     "execution_count": 9,
     "metadata": {},
     "output_type": "execute_result"
    }
   ],
   "source": [
    "review['status']"
   ]
  },
  {
   "cell_type": "code",
   "execution_count": 10,
   "metadata": {},
   "outputs": [
    {
     "data": {
      "text/plain": [
       "array(['Reviewd', nan], dtype=object)"
      ]
     },
     "execution_count": 10,
     "metadata": {},
     "output_type": "execute_result"
    }
   ],
   "source": [
    "review['status'].unique()"
   ]
  },
  {
   "cell_type": "code",
   "execution_count": 11,
   "metadata": {},
   "outputs": [],
   "source": [
    "review['status'] = review['status'].fillna('Reviewd')"
   ]
  },
  {
   "cell_type": "code",
   "execution_count": 12,
   "metadata": {},
   "outputs": [
    {
     "data": {
      "text/plain": [
       "0       5.0 star rating\n",
       "1       5.0 star rating\n",
       "2       5.0 star rating\n",
       "3       4.9 star rating\n",
       "4       4.9 star rating\n",
       "             ...       \n",
       "1856                NaN\n",
       "1857                NaN\n",
       "1858                NaN\n",
       "1859    5.0 star rating\n",
       "1860                NaN\n",
       "Name: stars, Length: 1861, dtype: object"
      ]
     },
     "execution_count": 12,
     "metadata": {},
     "output_type": "execute_result"
    }
   ],
   "source": [
    "review['stars']"
   ]
  },
  {
   "cell_type": "code",
   "execution_count": 13,
   "metadata": {},
   "outputs": [
    {
     "data": {
      "text/plain": [
       "array(['5.0 star rating', '4.9 star rating', '4.6 star rating',\n",
       "       '4.8 star rating', '4.0 star rating', nan, '3.0 star rating',\n",
       "       '2.3 star rating', '4.3 star rating', '4.7 star rating',\n",
       "       '3.3 star rating', '4.2 star rating', '4.5 star rating'],\n",
       "      dtype=object)"
      ]
     },
     "execution_count": 13,
     "metadata": {},
     "output_type": "execute_result"
    }
   ],
   "source": [
    "review['stars'].unique()"
   ]
  },
  {
   "cell_type": "code",
   "execution_count": 14,
   "metadata": {},
   "outputs": [
    {
     "data": {
      "text/plain": [
       "0    5.0 star rating\n",
       "Name: stars, dtype: object"
      ]
     },
     "execution_count": 14,
     "metadata": {},
     "output_type": "execute_result"
    }
   ],
   "source": [
    "review['stars'].mode()"
   ]
  },
  {
   "cell_type": "code",
   "execution_count": 15,
   "metadata": {},
   "outputs": [],
   "source": [
    "review['stars'] = review['stars'].fillna('no_review')"
   ]
  },
  {
   "cell_type": "code",
   "execution_count": 16,
   "metadata": {},
   "outputs": [
    {
     "data": {
      "text/plain": [
       "product_name    0\n",
       "product_url     0\n",
       "category        0\n",
       "status          0\n",
       "stars           0\n",
       "dtype: int64"
      ]
     },
     "execution_count": 16,
     "metadata": {},
     "output_type": "execute_result"
    }
   ],
   "source": [
    "review.isnull().sum()"
   ]
  },
  {
   "cell_type": "code",
   "execution_count": 17,
   "metadata": {},
   "outputs": [
    {
     "data": {
      "text/plain": [
       "no_review          1255\n",
       "5.0 star rating     499\n",
       "4.9 star rating      33\n",
       "4.5 star rating      16\n",
       "4.8 star rating      13\n",
       "4.7 star rating       8\n",
       "4.6 star rating       7\n",
       "4.3 star rating       7\n",
       "4.2 star rating       7\n",
       "3.0 star rating       6\n",
       "4.0 star rating       4\n",
       "2.3 star rating       4\n",
       "3.3 star rating       2\n",
       "Name: stars, dtype: int64"
      ]
     },
     "execution_count": 17,
     "metadata": {},
     "output_type": "execute_result"
    }
   ],
   "source": [
    "review['stars'].value_counts()"
   ]
  },
  {
   "cell_type": "code",
   "execution_count": 18,
   "metadata": {},
   "outputs": [],
   "source": [
    "import matplotlib.backends.backend_tkagg\n",
    "import matplotlib.backends.backend_pdf\n",
    "import matplotlib.pyplot as plt\n",
    "import seaborn as sns"
   ]
  },
  {
   "cell_type": "code",
   "execution_count": 19,
   "metadata": {},
   "outputs": [
    {
     "data": {
      "text/plain": [
       "0       5.0 star rating\n",
       "1       5.0 star rating\n",
       "2       5.0 star rating\n",
       "3       4.9 star rating\n",
       "4       4.9 star rating\n",
       "             ...       \n",
       "1856          no_review\n",
       "1857          no_review\n",
       "1858          no_review\n",
       "1859    5.0 star rating\n",
       "1860          no_review\n",
       "Name: stars, Length: 1861, dtype: object"
      ]
     },
     "execution_count": 19,
     "metadata": {},
     "output_type": "execute_result"
    }
   ],
   "source": [
    "review['stars']"
   ]
  },
  {
   "cell_type": "code",
   "execution_count": 20,
   "metadata": {},
   "outputs": [],
   "source": [
    "review['stars'] = review['stars'].str.split(' ')"
   ]
  },
  {
   "cell_type": "code",
   "execution_count": 21,
   "metadata": {},
   "outputs": [
    {
     "data": {
      "text/plain": [
       "0       [5.0, star, rating]\n",
       "1       [5.0, star, rating]\n",
       "2       [5.0, star, rating]\n",
       "3       [4.9, star, rating]\n",
       "4       [4.9, star, rating]\n",
       "               ...         \n",
       "1856            [no_review]\n",
       "1857            [no_review]\n",
       "1858            [no_review]\n",
       "1859    [5.0, star, rating]\n",
       "1860            [no_review]\n",
       "Name: stars, Length: 1861, dtype: object"
      ]
     },
     "execution_count": 21,
     "metadata": {},
     "output_type": "execute_result"
    }
   ],
   "source": [
    "review['stars']"
   ]
  },
  {
   "cell_type": "code",
   "execution_count": 22,
   "metadata": {},
   "outputs": [
    {
     "data": {
      "text/html": [
       "<div>\n",
       "<style scoped>\n",
       "    .dataframe tbody tr th:only-of-type {\n",
       "        vertical-align: middle;\n",
       "    }\n",
       "\n",
       "    .dataframe tbody tr th {\n",
       "        vertical-align: top;\n",
       "    }\n",
       "\n",
       "    .dataframe thead th {\n",
       "        text-align: right;\n",
       "    }\n",
       "</style>\n",
       "<table border=\"1\" class=\"dataframe\">\n",
       "  <thead>\n",
       "    <tr style=\"text-align: right;\">\n",
       "      <th></th>\n",
       "      <th>0</th>\n",
       "      <th>1</th>\n",
       "      <th>2</th>\n",
       "    </tr>\n",
       "  </thead>\n",
       "  <tbody>\n",
       "    <tr>\n",
       "      <th>0</th>\n",
       "      <td>5.0</td>\n",
       "      <td>star</td>\n",
       "      <td>rating</td>\n",
       "    </tr>\n",
       "    <tr>\n",
       "      <th>1</th>\n",
       "      <td>5.0</td>\n",
       "      <td>star</td>\n",
       "      <td>rating</td>\n",
       "    </tr>\n",
       "    <tr>\n",
       "      <th>2</th>\n",
       "      <td>5.0</td>\n",
       "      <td>star</td>\n",
       "      <td>rating</td>\n",
       "    </tr>\n",
       "    <tr>\n",
       "      <th>3</th>\n",
       "      <td>4.9</td>\n",
       "      <td>star</td>\n",
       "      <td>rating</td>\n",
       "    </tr>\n",
       "    <tr>\n",
       "      <th>4</th>\n",
       "      <td>4.9</td>\n",
       "      <td>star</td>\n",
       "      <td>rating</td>\n",
       "    </tr>\n",
       "    <tr>\n",
       "      <th>...</th>\n",
       "      <td>...</td>\n",
       "      <td>...</td>\n",
       "      <td>...</td>\n",
       "    </tr>\n",
       "    <tr>\n",
       "      <th>1856</th>\n",
       "      <td>no_review</td>\n",
       "      <td>None</td>\n",
       "      <td>None</td>\n",
       "    </tr>\n",
       "    <tr>\n",
       "      <th>1857</th>\n",
       "      <td>no_review</td>\n",
       "      <td>None</td>\n",
       "      <td>None</td>\n",
       "    </tr>\n",
       "    <tr>\n",
       "      <th>1858</th>\n",
       "      <td>no_review</td>\n",
       "      <td>None</td>\n",
       "      <td>None</td>\n",
       "    </tr>\n",
       "    <tr>\n",
       "      <th>1859</th>\n",
       "      <td>5.0</td>\n",
       "      <td>star</td>\n",
       "      <td>rating</td>\n",
       "    </tr>\n",
       "    <tr>\n",
       "      <th>1860</th>\n",
       "      <td>no_review</td>\n",
       "      <td>None</td>\n",
       "      <td>None</td>\n",
       "    </tr>\n",
       "  </tbody>\n",
       "</table>\n",
       "<p>1861 rows × 3 columns</p>\n",
       "</div>"
      ],
      "text/plain": [
       "              0     1       2\n",
       "0           5.0  star  rating\n",
       "1           5.0  star  rating\n",
       "2           5.0  star  rating\n",
       "3           4.9  star  rating\n",
       "4           4.9  star  rating\n",
       "...         ...   ...     ...\n",
       "1856  no_review  None    None\n",
       "1857  no_review  None    None\n",
       "1858  no_review  None    None\n",
       "1859        5.0  star  rating\n",
       "1860  no_review  None    None\n",
       "\n",
       "[1861 rows x 3 columns]"
      ]
     },
     "execution_count": 22,
     "metadata": {},
     "output_type": "execute_result"
    }
   ],
   "source": [
    "spilt_review_dataframe = pd.DataFrame(review['stars'].tolist())\n",
    "spilt_review_dataframe"
   ]
  },
  {
   "cell_type": "code",
   "execution_count": 23,
   "metadata": {},
   "outputs": [],
   "source": [
    "review['stars'] = spilt_review_dataframe[0]"
   ]
  },
  {
   "cell_type": "code",
   "execution_count": 24,
   "metadata": {},
   "outputs": [
    {
     "data": {
      "text/plain": [
       "0             5.0\n",
       "1             5.0\n",
       "2             5.0\n",
       "3             4.9\n",
       "4             4.9\n",
       "          ...    \n",
       "1856    no_review\n",
       "1857    no_review\n",
       "1858    no_review\n",
       "1859          5.0\n",
       "1860    no_review\n",
       "Name: stars, Length: 1861, dtype: object"
      ]
     },
     "execution_count": 24,
     "metadata": {},
     "output_type": "execute_result"
    }
   ],
   "source": [
    "review['stars']"
   ]
  },
  {
   "cell_type": "code",
   "execution_count": 25,
   "metadata": {},
   "outputs": [
    {
     "data": {
      "text/plain": [
       "array(['5.0', '4.9', '4.6', '4.8', '4.0', 'no_review', '3.0', '2.3',\n",
       "       '4.3', '4.7', '3.3', '4.2', '4.5'], dtype=object)"
      ]
     },
     "execution_count": 25,
     "metadata": {},
     "output_type": "execute_result"
    }
   ],
   "source": [
    "review['stars'].unique()"
   ]
  },
  {
   "cell_type": "markdown",
   "metadata": {},
   "source": [
    "## Task - 1"
   ]
  },
  {
   "cell_type": "code",
   "execution_count": 26,
   "metadata": {
    "scrolled": false
   },
   "outputs": [
    {
     "data": {
      "image/png": "[encoded data removed]",
      "text/plain": [
       "<Figure size 1440x720 with 1 Axes>"
      ]
     },
     "metadata": {
      "needs_background": "light"
     },
     "output_type": "display_data"
    }
   ],
   "source": [
    "plt.figure(figsize=(20,10))\n",
    "sns.countplot(review['stars']).set_title('Analysis of Reviews given by Customers')\n",
    "plt.savefig('edatask1.pdf')"
   ]
  },
  {
   "cell_type": "markdown",
   "metadata": {},
   "source": [
    "## Task - 2"
   ]
  },
  {
   "cell_type": "code",
   "execution_count": 27,
   "metadata": {},
   "outputs": [
    {
     "data": {
      "text/html": [
       "<div>\n",
       "<style scoped>\n",
       "    .dataframe tbody tr th:only-of-type {\n",
       "        vertical-align: middle;\n",
       "    }\n",
       "\n",
       "    .dataframe tbody tr th {\n",
       "        vertical-align: top;\n",
       "    }\n",
       "\n",
       "    .dataframe thead th {\n",
       "        text-align: right;\n",
       "    }\n",
       "</style>\n",
       "<table border=\"1\" class=\"dataframe\">\n",
       "  <thead>\n",
       "    <tr style=\"text-align: right;\">\n",
       "      <th></th>\n",
       "      <th>Order #</th>\n",
       "      <th>Order Date and Time Stamp</th>\n",
       "      <th>Fulfillment Status</th>\n",
       "      <th>Payment Status</th>\n",
       "      <th>Payment Date and Time Stamp</th>\n",
       "      <th>Fulfillment Date and Time Stamp</th>\n",
       "      <th>Currency</th>\n",
       "      <th>Subtotal</th>\n",
       "      <th>Shipping Method</th>\n",
       "      <th>Shipping Cost</th>\n",
       "      <th>...</th>\n",
       "      <th>Payment Method</th>\n",
       "      <th>Tracking #</th>\n",
       "      <th>Special Instructions</th>\n",
       "      <th>LineItem Name</th>\n",
       "      <th>LineItem SKU</th>\n",
       "      <th>LineItem Options</th>\n",
       "      <th>LineItem Add-ons</th>\n",
       "      <th>LineItem Qty</th>\n",
       "      <th>LineItem Sale Price</th>\n",
       "      <th>LineItem Type</th>\n",
       "    </tr>\n",
       "  </thead>\n",
       "  <tbody>\n",
       "    <tr>\n",
       "      <th>0</th>\n",
       "      <td>R929392577</td>\n",
       "      <td>09-11-2020 20:36:26 +0530</td>\n",
       "      <td>Unfulfilled</td>\n",
       "      <td>Unpaid</td>\n",
       "      <td>NaN</td>\n",
       "      <td>NaN</td>\n",
       "      <td>INR</td>\n",
       "      <td>₹ 799.00</td>\n",
       "      <td>Ships Free</td>\n",
       "      <td>₹ 0.00</td>\n",
       "      <td>...</td>\n",
       "      <td>NaN</td>\n",
       "      <td>NaN</td>\n",
       "      <td>NaN</td>\n",
       "      <td>Boat Rockerz 530 Bluetooth Headphone with Mic ...</td>\n",
       "      <td>NaN</td>\n",
       "      <td>NaN</td>\n",
       "      <td>NaN</td>\n",
       "      <td>1</td>\n",
       "      <td>₹ 799.00</td>\n",
       "      <td>physical</td>\n",
       "    </tr>\n",
       "    <tr>\n",
       "      <th>1</th>\n",
       "      <td>R653462960</td>\n",
       "      <td>09-11-2020 20:18:26 +0530</td>\n",
       "      <td>Unfulfilled</td>\n",
       "      <td>Unpaid</td>\n",
       "      <td>NaN</td>\n",
       "      <td>NaN</td>\n",
       "      <td>INR</td>\n",
       "      <td>₹ 699.00</td>\n",
       "      <td>Ships Free</td>\n",
       "      <td>₹ 0.00</td>\n",
       "      <td>...</td>\n",
       "      <td>NaN</td>\n",
       "      <td>NaN</td>\n",
       "      <td>NaN</td>\n",
       "      <td>Samsung U Flex Wireless Bluetooth Flexible Hea...</td>\n",
       "      <td>PL000032123</td>\n",
       "      <td>NaN</td>\n",
       "      <td>NaN</td>\n",
       "      <td>1</td>\n",
       "      <td>₹ 699.00</td>\n",
       "      <td>physical</td>\n",
       "    </tr>\n",
       "    <tr>\n",
       "      <th>2</th>\n",
       "      <td>R226302759</td>\n",
       "      <td>09-11-2020 19:56:21 +0530</td>\n",
       "      <td>Unfulfilled</td>\n",
       "      <td>Unpaid</td>\n",
       "      <td>NaN</td>\n",
       "      <td>NaN</td>\n",
       "      <td>INR</td>\n",
       "      <td>₹ 799.00</td>\n",
       "      <td>Ships Free</td>\n",
       "      <td>₹ 0.00</td>\n",
       "      <td>...</td>\n",
       "      <td>NaN</td>\n",
       "      <td>NaN</td>\n",
       "      <td>NaN</td>\n",
       "      <td>Boat Rockerz 530 Bluetooth Headphone with Mic ...</td>\n",
       "      <td>NaN</td>\n",
       "      <td>NaN</td>\n",
       "      <td>NaN</td>\n",
       "      <td>1</td>\n",
       "      <td>₹ 799.00</td>\n",
       "      <td>physical</td>\n",
       "    </tr>\n",
       "    <tr>\n",
       "      <th>3</th>\n",
       "      <td>R390235057</td>\n",
       "      <td>09-11-2020 19:37:40 +0530</td>\n",
       "      <td>Unfulfilled</td>\n",
       "      <td>Unpaid</td>\n",
       "      <td>NaN</td>\n",
       "      <td>NaN</td>\n",
       "      <td>INR</td>\n",
       "      <td>₹ 599.00</td>\n",
       "      <td>Ships Free</td>\n",
       "      <td>₹ 0.00</td>\n",
       "      <td>...</td>\n",
       "      <td>NaN</td>\n",
       "      <td>NaN</td>\n",
       "      <td>NaN</td>\n",
       "      <td>JBL Tempo On-Ear Headphone</td>\n",
       "      <td>PL000157</td>\n",
       "      <td>NaN</td>\n",
       "      <td>NaN</td>\n",
       "      <td>1</td>\n",
       "      <td>₹ 599.00</td>\n",
       "      <td>physical</td>\n",
       "    </tr>\n",
       "    <tr>\n",
       "      <th>4</th>\n",
       "      <td>R813855117</td>\n",
       "      <td>09-11-2020 18:35:47 +0530</td>\n",
       "      <td>Cancelled</td>\n",
       "      <td>Paid</td>\n",
       "      <td>NaN</td>\n",
       "      <td>NaN</td>\n",
       "      <td>INR</td>\n",
       "      <td>₹ 699.00</td>\n",
       "      <td>Ships Free</td>\n",
       "      <td>₹ 0.00</td>\n",
       "      <td>...</td>\n",
       "      <td>NaN</td>\n",
       "      <td>NaN</td>\n",
       "      <td>NaN</td>\n",
       "      <td>Mi Neckband Bluetooth Headset with Mic (Black)</td>\n",
       "      <td>PL000041332</td>\n",
       "      <td>NaN</td>\n",
       "      <td>NaN</td>\n",
       "      <td>1</td>\n",
       "      <td>₹ 699.00</td>\n",
       "      <td>physical</td>\n",
       "    </tr>\n",
       "  </tbody>\n",
       "</table>\n",
       "<p>5 rows × 41 columns</p>\n",
       "</div>"
      ],
      "text/plain": [
       "      Order #  Order Date and Time Stamp Fulfillment Status Payment Status  \\\n",
       "0  R929392577  09-11-2020 20:36:26 +0530        Unfulfilled         Unpaid   \n",
       "1  R653462960  09-11-2020 20:18:26 +0530        Unfulfilled         Unpaid   \n",
       "2  R226302759  09-11-2020 19:56:21 +0530        Unfulfilled         Unpaid   \n",
       "3  R390235057  09-11-2020 19:37:40 +0530        Unfulfilled         Unpaid   \n",
       "4  R813855117  09-11-2020 18:35:47 +0530          Cancelled           Paid   \n",
       "\n",
       "  Payment Date and Time Stamp Fulfillment Date and Time Stamp Currency  \\\n",
       "0                         NaN                             NaN      INR   \n",
       "1                         NaN                             NaN      INR   \n",
       "2                         NaN                             NaN      INR   \n",
       "3                         NaN                             NaN      INR   \n",
       "4                         NaN                             NaN      INR   \n",
       "\n",
       "   Subtotal Shipping Method Shipping Cost  ... Payment Method Tracking #  \\\n",
       "0  ₹ 799.00      Ships Free        ₹ 0.00  ...            NaN        NaN   \n",
       "1  ₹ 699.00      Ships Free        ₹ 0.00  ...            NaN        NaN   \n",
       "2  ₹ 799.00      Ships Free        ₹ 0.00  ...            NaN        NaN   \n",
       "3  ₹ 599.00      Ships Free        ₹ 0.00  ...            NaN        NaN   \n",
       "4  ₹ 699.00      Ships Free        ₹ 0.00  ...            NaN        NaN   \n",
       "\n",
       "  Special Instructions                                      LineItem Name  \\\n",
       "0                  NaN  Boat Rockerz 530 Bluetooth Headphone with Mic ...   \n",
       "1                  NaN  Samsung U Flex Wireless Bluetooth Flexible Hea...   \n",
       "2                  NaN  Boat Rockerz 530 Bluetooth Headphone with Mic ...   \n",
       "3                  NaN                         JBL Tempo On-Ear Headphone   \n",
       "4                  NaN     Mi Neckband Bluetooth Headset with Mic (Black)   \n",
       "\n",
       "  LineItem SKU LineItem Options LineItem Add-ons LineItem Qty  \\\n",
       "0          NaN              NaN              NaN            1   \n",
       "1  PL000032123              NaN              NaN            1   \n",
       "2          NaN              NaN              NaN            1   \n",
       "3     PL000157              NaN              NaN            1   \n",
       "4  PL000041332              NaN              NaN            1   \n",
       "\n",
       "  LineItem Sale Price LineItem Type  \n",
       "0            ₹ 799.00      physical  \n",
       "1            ₹ 699.00      physical  \n",
       "2            ₹ 799.00      physical  \n",
       "3            ₹ 599.00      physical  \n",
       "4            ₹ 699.00      physical  \n",
       "\n",
       "[5 rows x 41 columns]"
      ]
     },
     "execution_count": 27,
     "metadata": {},
     "output_type": "execute_result"
    }
   ],
   "source": [
    "order.head()"
   ]
  },
  {
   "cell_type": "code",
   "execution_count": 28,
   "metadata": {},
   "outputs": [
    {
     "data": {
      "text/plain": [
       "Order #                               0\n",
       "Order Date and Time Stamp             0\n",
       "Fulfillment Status                    0\n",
       "Payment Status                        0\n",
       "Payment Date and Time Stamp        2057\n",
       "Fulfillment Date and Time Stamp    2068\n",
       "Currency                              0\n",
       "Subtotal                              0\n",
       "Shipping Method                       0\n",
       "Shipping Cost                         0\n",
       "Tax Method                         2296\n",
       "Taxes                                 0\n",
       "Total                                 0\n",
       "Coupon Code                        2140\n",
       "Coupon Code Name                   2140\n",
       "Discount                              0\n",
       "Billing Name                       1967\n",
       "Billing Country                    1967\n",
       "Billing Street Address             1967\n",
       "Billing Street Address 2           2100\n",
       "Billing City                       1967\n",
       "Billing State                      1975\n",
       "Billing Zip                        1967\n",
       "Shipping Name                         0\n",
       "Shipping Country                      0\n",
       "Shipping Street Address              18\n",
       "Shipping Street Address 2           771\n",
       "Shipping City                        18\n",
       "Shipping State                       21\n",
       "Shipping Zip                         21\n",
       "Gift Cards                         2297\n",
       "Payment Method                     2057\n",
       "Tracking #                         2214\n",
       "Special Instructions               2297\n",
       "LineItem Name                         0\n",
       "LineItem SKU                         89\n",
       "LineItem Options                   2128\n",
       "LineItem Add-ons                   2206\n",
       "LineItem Qty                          0\n",
       "LineItem Sale Price                   0\n",
       "LineItem Type                         0\n",
       "dtype: int64"
      ]
     },
     "execution_count": 28,
     "metadata": {},
     "output_type": "execute_result"
    }
   ],
   "source": [
    "order.isnull().sum()"
   ]
  },
  {
   "cell_type": "code",
   "execution_count": 29,
   "metadata": {},
   "outputs": [
    {
     "data": {
      "text/plain": [
       "array([nan, 'CCAvenue ₹140.00', 'CCAvenue ₹1,700.00',\n",
       "       'CCAvenue ₹1,299.00', 'CCAvenue ₹799.00', 'CCAvenue ₹1,599.00',\n",
       "       'CCAvenue ₹6,999.00', 'Offline Payment ₹799.00',\n",
       "       'Offline Payment ₹1,099.00', 'Offline Payment ₹1,999.00',\n",
       "       'Offline Payment ₹299.00', 'Offline Payment ₹549.00',\n",
       "       'Offline Payment ₹5,999.00',\n",
       "       'Offline Payment ₹1,099.00;Offline Payment -₹1,099.00',\n",
       "       'CCAvenue ₹1,099.00', 'Offline Payment ₹349.00',\n",
       "       'Offline Payment ₹199.00', 'Offline Payment ₹400.00',\n",
       "       'Offline Payment ₹1,199.00', 'Offline Payment ₹259.00',\n",
       "       'Offline Payment ₹5,097.00', 'Offline Payment ₹230.00',\n",
       "       'Offline Payment ₹4,369.05', 'Offline Payment ₹849.00',\n",
       "       'Offline Payment ₹1,399.00;Offline Payment -₹1,399.00',\n",
       "       'Offline Payment ₹699.00;Offline Payment -₹699.00',\n",
       "       'CCAvenue ₹2,099.00', 'CCAvenue ₹1,596.00', 'CCAvenue ₹1,399.00',\n",
       "       'Offline Payment ₹1,699.00', 'Offline Payment ₹800.00',\n",
       "       'Offline Payment ₹1,399.00', 'CCAvenue ₹2,199.00',\n",
       "       'Offline Payment ₹999.00', 'Offline Payment ₹499.00',\n",
       "       'Offline Payment ₹1,499.00', 'Offline Payment ₹44,970.00',\n",
       "       'Offline Payment ₹2,199.00',\n",
       "       'CCAvenue ₹1,499.00;Offline Payment -₹1,499.00',\n",
       "       'Offline Payment ₹200.00', 'CCAvenue ₹1,499.00',\n",
       "       'Offline Payment ₹46,166.00', 'Offline Payment ₹43,168.00',\n",
       "       'Offline Payment ₹2,099.00', 'Offline Payment ₹449.00',\n",
       "       'Offline Payment ₹35,976.00', 'Offline Payment ₹2,798.00',\n",
       "       'Offline Payment ₹37,972.00', 'Offline Payment ₹5,196.00',\n",
       "       'Offline Payment ₹5,399.00', 'Offline Payment ₹3,298.00',\n",
       "       'Offline Payment ₹399.00', 'Offline Payment ₹17,578.00',\n",
       "       'Offline Payment ₹19,900.00', 'Offline Payment ₹35,774.00',\n",
       "       'Offline Payment ₹599.00', 'Offline Payment ₹369.00',\n",
       "       'Offline Payment ₹19,176.00', 'Offline Payment ₹19,576.00',\n",
       "       'Offline Payment ₹9,950.00', 'Offline Payment ₹13,990.00',\n",
       "       'Offline Payment ₹22,064.67', 'Offline Payment ₹38,519.00',\n",
       "       'Offline Payment ₹10,198.00', 'Offline Payment ₹22,980.00',\n",
       "       'Offline Payment ₹18,995.00', 'Offline Payment ₹22,995.00',\n",
       "       'Offline Payment ₹340.00', 'Offline Payment ₹899.00',\n",
       "       'Offline Payment ₹15,597.00', 'Offline Payment ₹22,485.00',\n",
       "       'CCAvenue ₹20,238.75', 'CCAvenue ₹299.00', 'CCAvenue ₹1,799.00',\n",
       "       'Offline Payment ₹10,398.00', 'Offline Payment ₹269.00',\n",
       "       'CCAvenue ₹269.00', 'Offline Payment ₹1,095.00',\n",
       "       'Offline Payment ₹4,599.00', 'CCAvenue ₹749.00',\n",
       "       'Offline Payment ₹10,500.00', 'Offline Payment ₹3,399.00',\n",
       "       'Offline Payment ₹1,050.00', 'Offline Payment ₹300.00',\n",
       "       'Offline Payment ₹249.00', 'Offline Payment ₹522.50',\n",
       "       'Offline Payment ₹1,166.10', 'Offline Payment ₹250.00',\n",
       "       'CCAvenue ₹100.00', 'Offline Payment ₹12,500.00',\n",
       "       'Offline Payment ₹500.00', 'CCAvenue ₹300.00', 'CCAvenue ₹800.00',\n",
       "       'Offline Payment ₹100.00', 'CCAvenue ₹150.00',\n",
       "       'Offline Payment ₹150.00', 'Offline Payment ₹2,000.00'],\n",
       "      dtype=object)"
      ]
     },
     "execution_count": 29,
     "metadata": {},
     "output_type": "execute_result"
    }
   ],
   "source": [
    "order['Payment Method'].unique()"
   ]
  },
  {
   "cell_type": "code",
   "execution_count": 30,
   "metadata": {},
   "outputs": [
    {
     "data": {
      "text/plain": [
       "0    Offline Payment ₹1,499.00\n",
       "Name: Payment Method, dtype: object"
      ]
     },
     "execution_count": 30,
     "metadata": {},
     "output_type": "execute_result"
    }
   ],
   "source": [
    "order['Payment Method'].mode()"
   ]
  },
  {
   "cell_type": "code",
   "execution_count": 31,
   "metadata": {},
   "outputs": [],
   "source": [
    "order['Payment Method'] = order['Payment Method'].fillna('Offline Payment ₹1,499.00')"
   ]
  },
  {
   "cell_type": "code",
   "execution_count": 32,
   "metadata": {},
   "outputs": [],
   "source": [
    "order['Payment Method'] = order['Payment Method'].str.split('₹')"
   ]
  },
  {
   "cell_type": "code",
   "execution_count": 33,
   "metadata": {},
   "outputs": [
    {
     "data": {
      "text/plain": [
       "0       [Offline Payment , 1,499.00]\n",
       "1       [Offline Payment , 1,499.00]\n",
       "2       [Offline Payment , 1,499.00]\n",
       "3       [Offline Payment , 1,499.00]\n",
       "4       [Offline Payment , 1,499.00]\n",
       "                    ...             \n",
       "2292    [Offline Payment , 1,499.00]\n",
       "2293    [Offline Payment , 1,499.00]\n",
       "2294    [Offline Payment , 1,499.00]\n",
       "2295    [Offline Payment , 1,499.00]\n",
       "2296    [Offline Payment , 2,000.00]\n",
       "Name: Payment Method, Length: 2297, dtype: object"
      ]
     },
     "execution_count": 33,
     "metadata": {},
     "output_type": "execute_result"
    }
   ],
   "source": [
    "order['Payment Method']"
   ]
  },
  {
   "cell_type": "code",
   "execution_count": 34,
   "metadata": {},
   "outputs": [],
   "source": [
    "split_dataframe = pd.DataFrame(order['Payment Method'].tolist())"
   ]
  },
  {
   "cell_type": "code",
   "execution_count": 35,
   "metadata": {},
   "outputs": [
    {
     "data": {
      "text/plain": [
       "array(['Offline Payment ', 'CCAvenue '], dtype=object)"
      ]
     },
     "execution_count": 35,
     "metadata": {},
     "output_type": "execute_result"
    }
   ],
   "source": [
    "split_dataframe[0].unique()"
   ]
  },
  {
   "cell_type": "code",
   "execution_count": 36,
   "metadata": {},
   "outputs": [
    {
     "data": {
      "text/plain": [
       "0       Offline Payment \n",
       "1       Offline Payment \n",
       "2       Offline Payment \n",
       "3       Offline Payment \n",
       "4       Offline Payment \n",
       "              ...       \n",
       "2292    Offline Payment \n",
       "2293    Offline Payment \n",
       "2294    Offline Payment \n",
       "2295    Offline Payment \n",
       "2296    Offline Payment \n",
       "Name: 0, Length: 2297, dtype: object"
      ]
     },
     "execution_count": 36,
     "metadata": {},
     "output_type": "execute_result"
    }
   ],
   "source": [
    "split_dataframe[0]"
   ]
  },
  {
   "cell_type": "code",
   "execution_count": 37,
   "metadata": {},
   "outputs": [],
   "source": [
    "order['Payment Method'] = split_dataframe[0]"
   ]
  },
  {
   "cell_type": "code",
   "execution_count": 38,
   "metadata": {},
   "outputs": [
    {
     "data": {
      "text/html": [
       "<div>\n",
       "<style scoped>\n",
       "    .dataframe tbody tr th:only-of-type {\n",
       "        vertical-align: middle;\n",
       "    }\n",
       "\n",
       "    .dataframe tbody tr th {\n",
       "        vertical-align: top;\n",
       "    }\n",
       "\n",
       "    .dataframe thead th {\n",
       "        text-align: right;\n",
       "    }\n",
       "</style>\n",
       "<table border=\"1\" class=\"dataframe\">\n",
       "  <thead>\n",
       "    <tr style=\"text-align: right;\">\n",
       "      <th></th>\n",
       "      <th>Order #</th>\n",
       "      <th>Order Date and Time Stamp</th>\n",
       "      <th>Fulfillment Status</th>\n",
       "      <th>Payment Status</th>\n",
       "      <th>Payment Date and Time Stamp</th>\n",
       "      <th>Fulfillment Date and Time Stamp</th>\n",
       "      <th>Currency</th>\n",
       "      <th>Subtotal</th>\n",
       "      <th>Shipping Method</th>\n",
       "      <th>Shipping Cost</th>\n",
       "      <th>...</th>\n",
       "      <th>Payment Method</th>\n",
       "      <th>Tracking #</th>\n",
       "      <th>Special Instructions</th>\n",
       "      <th>LineItem Name</th>\n",
       "      <th>LineItem SKU</th>\n",
       "      <th>LineItem Options</th>\n",
       "      <th>LineItem Add-ons</th>\n",
       "      <th>LineItem Qty</th>\n",
       "      <th>LineItem Sale Price</th>\n",
       "      <th>LineItem Type</th>\n",
       "    </tr>\n",
       "  </thead>\n",
       "  <tbody>\n",
       "    <tr>\n",
       "      <th>0</th>\n",
       "      <td>R929392577</td>\n",
       "      <td>09-11-2020 20:36:26 +0530</td>\n",
       "      <td>Unfulfilled</td>\n",
       "      <td>Unpaid</td>\n",
       "      <td>NaN</td>\n",
       "      <td>NaN</td>\n",
       "      <td>INR</td>\n",
       "      <td>₹ 799.00</td>\n",
       "      <td>Ships Free</td>\n",
       "      <td>₹ 0.00</td>\n",
       "      <td>...</td>\n",
       "      <td>Offline Payment</td>\n",
       "      <td>NaN</td>\n",
       "      <td>NaN</td>\n",
       "      <td>Boat Rockerz 530 Bluetooth Headphone with Mic ...</td>\n",
       "      <td>NaN</td>\n",
       "      <td>NaN</td>\n",
       "      <td>NaN</td>\n",
       "      <td>1</td>\n",
       "      <td>₹ 799.00</td>\n",
       "      <td>physical</td>\n",
       "    </tr>\n",
       "    <tr>\n",
       "      <th>1</th>\n",
       "      <td>R653462960</td>\n",
       "      <td>09-11-2020 20:18:26 +0530</td>\n",
       "      <td>Unfulfilled</td>\n",
       "      <td>Unpaid</td>\n",
       "      <td>NaN</td>\n",
       "      <td>NaN</td>\n",
       "      <td>INR</td>\n",
       "      <td>₹ 699.00</td>\n",
       "      <td>Ships Free</td>\n",
       "      <td>₹ 0.00</td>\n",
       "      <td>...</td>\n",
       "      <td>Offline Payment</td>\n",
       "      <td>NaN</td>\n",
       "      <td>NaN</td>\n",
       "      <td>Samsung U Flex Wireless Bluetooth Flexible Hea...</td>\n",
       "      <td>PL000032123</td>\n",
       "      <td>NaN</td>\n",
       "      <td>NaN</td>\n",
       "      <td>1</td>\n",
       "      <td>₹ 699.00</td>\n",
       "      <td>physical</td>\n",
       "    </tr>\n",
       "    <tr>\n",
       "      <th>2</th>\n",
       "      <td>R226302759</td>\n",
       "      <td>09-11-2020 19:56:21 +0530</td>\n",
       "      <td>Unfulfilled</td>\n",
       "      <td>Unpaid</td>\n",
       "      <td>NaN</td>\n",
       "      <td>NaN</td>\n",
       "      <td>INR</td>\n",
       "      <td>₹ 799.00</td>\n",
       "      <td>Ships Free</td>\n",
       "      <td>₹ 0.00</td>\n",
       "      <td>...</td>\n",
       "      <td>Offline Payment</td>\n",
       "      <td>NaN</td>\n",
       "      <td>NaN</td>\n",
       "      <td>Boat Rockerz 530 Bluetooth Headphone with Mic ...</td>\n",
       "      <td>NaN</td>\n",
       "      <td>NaN</td>\n",
       "      <td>NaN</td>\n",
       "      <td>1</td>\n",
       "      <td>₹ 799.00</td>\n",
       "      <td>physical</td>\n",
       "    </tr>\n",
       "    <tr>\n",
       "      <th>3</th>\n",
       "      <td>R390235057</td>\n",
       "      <td>09-11-2020 19:37:40 +0530</td>\n",
       "      <td>Unfulfilled</td>\n",
       "      <td>Unpaid</td>\n",
       "      <td>NaN</td>\n",
       "      <td>NaN</td>\n",
       "      <td>INR</td>\n",
       "      <td>₹ 599.00</td>\n",
       "      <td>Ships Free</td>\n",
       "      <td>₹ 0.00</td>\n",
       "      <td>...</td>\n",
       "      <td>Offline Payment</td>\n",
       "      <td>NaN</td>\n",
       "      <td>NaN</td>\n",
       "      <td>JBL Tempo On-Ear Headphone</td>\n",
       "      <td>PL000157</td>\n",
       "      <td>NaN</td>\n",
       "      <td>NaN</td>\n",
       "      <td>1</td>\n",
       "      <td>₹ 599.00</td>\n",
       "      <td>physical</td>\n",
       "    </tr>\n",
       "    <tr>\n",
       "      <th>4</th>\n",
       "      <td>R813855117</td>\n",
       "      <td>09-11-2020 18:35:47 +0530</td>\n",
       "      <td>Cancelled</td>\n",
       "      <td>Paid</td>\n",
       "      <td>NaN</td>\n",
       "      <td>NaN</td>\n",
       "      <td>INR</td>\n",
       "      <td>₹ 699.00</td>\n",
       "      <td>Ships Free</td>\n",
       "      <td>₹ 0.00</td>\n",
       "      <td>...</td>\n",
       "      <td>Offline Payment</td>\n",
       "      <td>NaN</td>\n",
       "      <td>NaN</td>\n",
       "      <td>Mi Neckband Bluetooth Headset with Mic (Black)</td>\n",
       "      <td>PL000041332</td>\n",
       "      <td>NaN</td>\n",
       "      <td>NaN</td>\n",
       "      <td>1</td>\n",
       "      <td>₹ 699.00</td>\n",
       "      <td>physical</td>\n",
       "    </tr>\n",
       "  </tbody>\n",
       "</table>\n",
       "<p>5 rows × 41 columns</p>\n",
       "</div>"
      ],
      "text/plain": [
       "      Order #  Order Date and Time Stamp Fulfillment Status Payment Status  \\\n",
       "0  R929392577  09-11-2020 20:36:26 +0530        Unfulfilled         Unpaid   \n",
       "1  R653462960  09-11-2020 20:18:26 +0530        Unfulfilled         Unpaid   \n",
       "2  R226302759  09-11-2020 19:56:21 +0530        Unfulfilled         Unpaid   \n",
       "3  R390235057  09-11-2020 19:37:40 +0530        Unfulfilled         Unpaid   \n",
       "4  R813855117  09-11-2020 18:35:47 +0530          Cancelled           Paid   \n",
       "\n",
       "  Payment Date and Time Stamp Fulfillment Date and Time Stamp Currency  \\\n",
       "0                         NaN                             NaN      INR   \n",
       "1                         NaN                             NaN      INR   \n",
       "2                         NaN                             NaN      INR   \n",
       "3                         NaN                             NaN      INR   \n",
       "4                         NaN                             NaN      INR   \n",
       "\n",
       "   Subtotal Shipping Method Shipping Cost  ...    Payment Method Tracking #  \\\n",
       "0  ₹ 799.00      Ships Free        ₹ 0.00  ...  Offline Payment         NaN   \n",
       "1  ₹ 699.00      Ships Free        ₹ 0.00  ...  Offline Payment         NaN   \n",
       "2  ₹ 799.00      Ships Free        ₹ 0.00  ...  Offline Payment         NaN   \n",
       "3  ₹ 599.00      Ships Free        ₹ 0.00  ...  Offline Payment         NaN   \n",
       "4  ₹ 699.00      Ships Free        ₹ 0.00  ...  Offline Payment         NaN   \n",
       "\n",
       "  Special Instructions                                      LineItem Name  \\\n",
       "0                  NaN  Boat Rockerz 530 Bluetooth Headphone with Mic ...   \n",
       "1                  NaN  Samsung U Flex Wireless Bluetooth Flexible Hea...   \n",
       "2                  NaN  Boat Rockerz 530 Bluetooth Headphone with Mic ...   \n",
       "3                  NaN                         JBL Tempo On-Ear Headphone   \n",
       "4                  NaN     Mi Neckband Bluetooth Headset with Mic (Black)   \n",
       "\n",
       "  LineItem SKU LineItem Options LineItem Add-ons LineItem Qty  \\\n",
       "0          NaN              NaN              NaN            1   \n",
       "1  PL000032123              NaN              NaN            1   \n",
       "2          NaN              NaN              NaN            1   \n",
       "3     PL000157              NaN              NaN            1   \n",
       "4  PL000041332              NaN              NaN            1   \n",
       "\n",
       "  LineItem Sale Price LineItem Type  \n",
       "0            ₹ 799.00      physical  \n",
       "1            ₹ 699.00      physical  \n",
       "2            ₹ 799.00      physical  \n",
       "3            ₹ 599.00      physical  \n",
       "4            ₹ 699.00      physical  \n",
       "\n",
       "[5 rows x 41 columns]"
      ]
     },
     "execution_count": 38,
     "metadata": {},
     "output_type": "execute_result"
    }
   ],
   "source": [
    "order.head()"
   ]
  },
  {
   "cell_type": "code",
   "execution_count": 39,
   "metadata": {},
   "outputs": [
    {
     "data": {
      "text/plain": [
       "array(['Offline Payment ', 'CCAvenue '], dtype=object)"
      ]
     },
     "execution_count": 39,
     "metadata": {},
     "output_type": "execute_result"
    }
   ],
   "source": [
    "order['Payment Method'].unique()"
   ]
  },
  {
   "cell_type": "code",
   "execution_count": 40,
   "metadata": {},
   "outputs": [
    {
     "data": {
      "text/plain": [
       "Offline Payment     2252\n",
       "CCAvenue              45\n",
       "Name: Payment Method, dtype: int64"
      ]
     },
     "execution_count": 40,
     "metadata": {},
     "output_type": "execute_result"
    }
   ],
   "source": [
    "order['Payment Method'].value_counts()"
   ]
  },
  {
   "cell_type": "code",
   "execution_count": 41,
   "metadata": {},
   "outputs": [
    {
     "data": {
      "image/png": "[encoded data removed]",
      "text/plain": [
       "<Figure size 432x288 with 1 Axes>"
      ]
     },
     "metadata": {
      "needs_background": "light"
     },
     "output_type": "display_data"
    }
   ],
   "source": [
    "edatask2 = sns.countplot(order['Payment Method']).set(title='Analysis of Payment Methods')\n",
    "plt.savefig('edatask2.pdf')"
   ]
  },
  {
   "cell_type": "markdown",
   "metadata": {},
   "source": [
    "## Task - 3"
   ]
  },
  {
   "cell_type": "code",
   "execution_count": 42,
   "metadata": {},
   "outputs": [
    {
     "data": {
      "text/plain": [
       "Order #                              0.000000\n",
       "Order Date and Time Stamp            0.000000\n",
       "Fulfillment Status                   0.000000\n",
       "Payment Status                       0.000000\n",
       "Payment Date and Time Stamp         89.551589\n",
       "Fulfillment Date and Time Stamp     90.030475\n",
       "Currency                             0.000000\n",
       "Subtotal                             0.000000\n",
       "Shipping Method                      0.000000\n",
       "Shipping Cost                        0.000000\n",
       "Tax Method                          99.956465\n",
       "Taxes                                0.000000\n",
       "Total                                0.000000\n",
       "Coupon Code                         93.164998\n",
       "Coupon Code Name                    93.164998\n",
       "Discount                             0.000000\n",
       "Billing Name                        85.633435\n",
       "Billing Country                     85.633435\n",
       "Billing Street Address              85.633435\n",
       "Billing Street Address 2            91.423596\n",
       "Billing City                        85.633435\n",
       "Billing State                       85.981715\n",
       "Billing Zip                         85.633435\n",
       "Shipping Name                        0.000000\n",
       "Shipping Country                     0.000000\n",
       "Shipping Street Address              0.783631\n",
       "Shipping Street Address 2           33.565520\n",
       "Shipping City                        0.783631\n",
       "Shipping State                       0.914236\n",
       "Shipping Zip                         0.914236\n",
       "Gift Cards                         100.000000\n",
       "Payment Method                       0.000000\n",
       "Tracking #                          96.386591\n",
       "Special Instructions               100.000000\n",
       "LineItem Name                        0.000000\n",
       "LineItem SKU                         3.874619\n",
       "LineItem Options                    92.642577\n",
       "LineItem Add-ons                    96.038311\n",
       "LineItem Qty                         0.000000\n",
       "LineItem Sale Price                  0.000000\n",
       "LineItem Type                        0.000000\n",
       "dtype: float64"
      ]
     },
     "execution_count": 42,
     "metadata": {},
     "output_type": "execute_result"
    }
   ],
   "source": [
    "order.isnull().sum() / order.shape[0] * 100"
   ]
  },
  {
   "cell_type": "code",
   "execution_count": 43,
   "metadata": {},
   "outputs": [
    {
     "data": {
      "text/plain": [
       "array([nan, 'IN-UP', 'IN-OR', 'IN-TN', 'IN-MH', 'IN-PB', 'IN-KL', 'IN-MP',\n",
       "       'IN-NL', 'IN-AP', 'IN-KA', 'IN-DL', 'IN-RJ', 'IN-UT', 'IN-BR',\n",
       "       'IN-JH', 'IN-PY', 'IN-AN', 'IN-HP', 'IN-HR', 'MA', 'IN-CT',\n",
       "       'IN-WB', 'IN-TG', 'IN-GJ', 'IN-CH', 'IN-JK', 'IN-GA', 'IN-DN',\n",
       "       'IN-DD', 'TX', 'PE'], dtype=object)"
      ]
     },
     "execution_count": 43,
     "metadata": {},
     "output_type": "execute_result"
    }
   ],
   "source": [
    "order['Billing State'].unique()"
   ]
  },
  {
   "cell_type": "code",
   "execution_count": 44,
   "metadata": {},
   "outputs": [
    {
     "data": {
      "text/plain": [
       "0    IN-TN\n",
       "Name: Billing State, dtype: object"
      ]
     },
     "execution_count": 44,
     "metadata": {},
     "output_type": "execute_result"
    }
   ],
   "source": [
    "order['Billing State'].mode()"
   ]
  },
  {
   "cell_type": "code",
   "execution_count": 45,
   "metadata": {},
   "outputs": [],
   "source": [
    "order['Billing State'] = order['Billing State'].fillna('IN-TN')"
   ]
  },
  {
   "cell_type": "code",
   "execution_count": 46,
   "metadata": {},
   "outputs": [
    {
     "data": {
      "text/plain": [
       "0"
      ]
     },
     "execution_count": 46,
     "metadata": {},
     "output_type": "execute_result"
    }
   ],
   "source": [
    "order['Billing State'].isnull().sum()"
   ]
  },
  {
   "cell_type": "code",
   "execution_count": 47,
   "metadata": {},
   "outputs": [
    {
     "data": {
      "text/plain": [
       "IN-TN    2045\n",
       "IN-AN      50\n",
       "IN-MH      32\n",
       "Name: Billing State, dtype: int64"
      ]
     },
     "execution_count": 47,
     "metadata": {},
     "output_type": "execute_result"
    }
   ],
   "source": [
    "order['Billing State'].value_counts()[0:3] "
   ]
  },
  {
   "cell_type": "code",
   "execution_count": 48,
   "metadata": {},
   "outputs": [
    {
     "data": {
      "image/png": "[encoded data removed]",
      "text/plain": [
       "<Figure size 1440x720 with 1 Axes>"
      ]
     },
     "metadata": {
      "needs_background": "light"
     },
     "output_type": "display_data"
    }
   ],
   "source": [
    "plt.figure(figsize=(20,10))\n",
    "sns.countplot(order['Billing State']).set_title('Analysis of Top Consumer Indian States')\n",
    "plt.savefig('edatask3.pdf')"
   ]
  },
  {
   "cell_type": "markdown",
   "metadata": {},
   "source": [
    "## Task - 4"
   ]
  },
  {
   "cell_type": "code",
   "execution_count": 49,
   "metadata": {},
   "outputs": [
    {
     "data": {
      "text/plain": [
       "array([nan, 'Allahabad', 'Bhubaneswar', 'CHENNAI ANNANAGAR', 'Kalyan',\n",
       "       'Ludhiana', 'Chennai', 'Ernakulam', 'Noida', 'Bhopal', 'Dimapur',\n",
       "       'PURI', 'Dombivli', 'S.rayavaram', 'Mandideep', 'Darwad', 'City',\n",
       "       'Mumbai', 'Ghaziabad', 'Angul', 'Rewa', 'Bangalore', 'Delhi',\n",
       "       'Pratapgarh', 'Haldwani', 'Anthiyur', 'GAYA', 'jhinkpani',\n",
       "       'Yavatmal', 'Vardha', 'Pondicherry', 'TIRUPATI', 'Raebareli',\n",
       "       'INDORE', 'Ranchi', 'Gautam Buddha Nagar', 'chennai 600009',\n",
       "       'Baddi', 'Salem', 'Bengaluru', 'Dharwad', 'Pune', 'Gingee',\n",
       "       'Visakhapatnam', 'Tets', 'Maruti Kunj', 'Dehradun', 'GHAZIABAD',\n",
       "       'Barmer', 'BANGALORE', 'Jammu', 'AshlandAshland', 'Nagpur',\n",
       "       'Kanchipuram', 'Pundri', 'Rajnandgaon', 'Rajnandgoan', 'Kharagpur',\n",
       "       'New Delhi', 'Guna', 'HYDERABAD', 'Banglore', 'Mangalore',\n",
       "       'LUDHIANA', 'Thane', 'Suryapet', 'Ahmedabad', 'Nizamabad',\n",
       "       'ग्राम सादुलपुर', 'Vijayapur', 'pioyuih', 'Bettiah', 'Coimbatore',\n",
       "       'bangalore', 'CHENNAI', 'Gurgaon', 'Chandigarh', 'Tumkur',\n",
       "       'DHANBAD', 'Tiptur', 'paonta sahib,distt.sirmour,taruwala',\n",
       "       'Bikaner', 'delhi', 'MUGHALSARAI, CHANDAULI',\n",
       "       'khetri nagar, distt - jhunjhunu', 'Yamakanmardi',\n",
       "       'Tiruvannamalai', 'Mancherial', 'Parbhani', 'Kondapur, Hyderabad',\n",
       "       'Jalgaon', 'Bhilai', 'Nodia', 'Jeypore', 'Kolkata', 'Borigumma',\n",
       "       'Lucknow', 'Laxmipur', 'Tiruppur', 'Jamui', 'vellore', 'Anantnag',\n",
       "       'Guntur', 'Bihar', 'Kabirdham', 'Patiala', 'Eluru', 'Rajpura',\n",
       "       'MAPUSA', 'PANAJI', 'unnao', 'howrah', 'Ambala cantt', 'Hyderabad',\n",
       "       'bhubaneswar', 'Palakkad', 'gurgaon', 'Nashik', 'Indore',\n",
       "       'Haridwar', 'New delhi', 'Hoshangabad', 'chennai', 'Faridabad',\n",
       "       'PUNE', 'Vellore', 'Madurai', 'thrissur', 'Omu-aran, Kwara State',\n",
       "       'AHMEDABAD', 'Panjim', 'Srinagar', 'Hisar', 'krishnagiri',\n",
       "       'Kottayam', 'surendranagar', 'sds', 'rgtvrg', 'gfhhcgh', 'qwq',\n",
       "       'fghghgh', 'fdgdf', 'qrwerg t', 'sadasd', '212', 'DF', '2121',\n",
       "       '1231', 'QIHDZF', 'dsfgdfyt', 'rterter', 'sads', 'gfgffg',\n",
       "       'fwerew', 'asdf', 'gfhgfhjj', 'asds', 'kolkata', 'sambalpur',\n",
       "       'Rayagda', 'diu', 'Navi Mumbai', 'hooghly', 'Gajuwaka',\n",
       "       'Navi Mumbai ', 'MUMBAI', 'Thiruvalla', 'brahmapur', 'Diva',\n",
       "       'Bhimavaram', 'Berhampur', 'abc', 'Hyderabad ', 'Belapurr',\n",
       "       'madurai', 'Sri Ganganagar', 'sdas', 'mohali', 'test', 'dwwwwwwww',\n",
       "       'iBall Excelance CompBook 11.6-inch Laptop', 'hotcourses',\n",
       "       'Houston', ';lkjhgf', 'TAMILNADU', 'aaaaaaaaaaaaaaaaaaaaa', '$%^&',\n",
       "       'MADURAI', 'Chenai', 'Gccch', 'BERHAMPUR', 'berhampur'],\n",
       "      dtype=object)"
      ]
     },
     "execution_count": 49,
     "metadata": {},
     "output_type": "execute_result"
    }
   ],
   "source": [
    "order['Billing City'].unique()"
   ]
  },
  {
   "cell_type": "code",
   "execution_count": 50,
   "metadata": {},
   "outputs": [
    {
     "data": {
      "text/plain": [
       "0    Chennai\n",
       "Name: Billing City, dtype: object"
      ]
     },
     "execution_count": 50,
     "metadata": {},
     "output_type": "execute_result"
    }
   ],
   "source": [
    "order['Billing City'].mode()"
   ]
  },
  {
   "cell_type": "code",
   "execution_count": 51,
   "metadata": {},
   "outputs": [],
   "source": [
    "order['Billing City'] = order['Billing City'].fillna('Chennai')"
   ]
  },
  {
   "cell_type": "code",
   "execution_count": 52,
   "metadata": {},
   "outputs": [
    {
     "data": {
      "text/plain": [
       "Chennai      1988\n",
       "chennai        16\n",
       "Bangalore      12\n",
       "Name: Billing City, dtype: int64"
      ]
     },
     "execution_count": 52,
     "metadata": {},
     "output_type": "execute_result"
    }
   ],
   "source": [
    "order['Billing City'].value_counts()[0:3]"
   ]
  },
  {
   "cell_type": "code",
   "execution_count": 53,
   "metadata": {},
   "outputs": [],
   "source": [
    "order['Billing City'] = order['Billing City'].replace('chennai', 'Chennai')"
   ]
  },
  {
   "cell_type": "code",
   "execution_count": 54,
   "metadata": {},
   "outputs": [
    {
     "data": {
      "text/plain": [
       "Chennai                                2004\n",
       "Bangalore                                12\n",
       "CHENNAI                                   9\n",
       "Mumbai                                    8\n",
       "test                                      7\n",
       "                                       ... \n",
       "Tumkur                                    1\n",
       "DHANBAD                                   1\n",
       "Tiptur                                    1\n",
       "paonta sahib,distt.sirmour,taruwala       1\n",
       "berhampur                                 1\n",
       "Name: Billing City, Length: 190, dtype: int64"
      ]
     },
     "execution_count": 54,
     "metadata": {},
     "output_type": "execute_result"
    }
   ],
   "source": [
    "order['Billing City'].value_counts()"
   ]
  },
  {
   "cell_type": "code",
   "execution_count": 55,
   "metadata": {},
   "outputs": [
    {
     "data": {
      "text/plain": [
       "array(['Chennai', 'Allahabad', 'Bhubaneswar', 'CHENNAI ANNANAGAR',\n",
       "       'Kalyan', 'Ludhiana', 'Ernakulam', 'Noida', 'Bhopal', 'Dimapur',\n",
       "       'PURI', 'Dombivli', 'S.rayavaram', 'Mandideep', 'Darwad', 'City',\n",
       "       'Mumbai', 'Ghaziabad', 'Angul', 'Rewa', 'Bangalore', 'Delhi',\n",
       "       'Pratapgarh', 'Haldwani', 'Anthiyur', 'GAYA', 'jhinkpani',\n",
       "       'Yavatmal', 'Vardha', 'Pondicherry', 'TIRUPATI', 'Raebareli',\n",
       "       'INDORE', 'Ranchi', 'Gautam Buddha Nagar', 'chennai 600009',\n",
       "       'Baddi', 'Salem', 'Bengaluru', 'Dharwad', 'Pune', 'Gingee',\n",
       "       'Visakhapatnam', 'Tets', 'Maruti Kunj', 'Dehradun', 'GHAZIABAD',\n",
       "       'Barmer', 'BANGALORE', 'Jammu', 'AshlandAshland', 'Nagpur',\n",
       "       'Kanchipuram', 'Pundri', 'Rajnandgaon', 'Rajnandgoan', 'Kharagpur',\n",
       "       'New Delhi', 'Guna', 'HYDERABAD', 'Banglore', 'Mangalore',\n",
       "       'LUDHIANA', 'Thane', 'Suryapet', 'Ahmedabad', 'Nizamabad',\n",
       "       'ग्राम सादुलपुर', 'Vijayapur', 'pioyuih', 'Bettiah', 'Coimbatore',\n",
       "       'bangalore', 'Gurgaon', 'Chandigarh', 'Tumkur', 'DHANBAD',\n",
       "       'Tiptur', 'paonta sahib,distt.sirmour,taruwala', 'Bikaner',\n",
       "       'delhi', 'MUGHALSARAI, CHANDAULI',\n",
       "       'khetri nagar, distt - jhunjhunu', 'Yamakanmardi',\n",
       "       'Tiruvannamalai', 'Mancherial', 'Parbhani', 'Kondapur, Hyderabad',\n",
       "       'Jalgaon', 'Bhilai', 'Nodia', 'Jeypore', 'Kolkata', 'Borigumma',\n",
       "       'Lucknow', 'Laxmipur', 'Tiruppur', 'Jamui', 'vellore', 'Anantnag',\n",
       "       'Guntur', 'Bihar', 'Kabirdham', 'Patiala', 'Eluru', 'Rajpura',\n",
       "       'MAPUSA', 'PANAJI', 'unnao', 'howrah', 'Ambala cantt', 'Hyderabad',\n",
       "       'bhubaneswar', 'Palakkad', 'gurgaon', 'Nashik', 'Indore',\n",
       "       'Haridwar', 'New delhi', 'Hoshangabad', 'Faridabad', 'PUNE',\n",
       "       'Vellore', 'Madurai', 'thrissur', 'Omu-aran, Kwara State',\n",
       "       'AHMEDABAD', 'Panjim', 'Srinagar', 'Hisar', 'krishnagiri',\n",
       "       'Kottayam', 'surendranagar', 'sds', nan, 'gfhhcgh', 'qwq',\n",
       "       'fghghgh', 'fdgdf', 'qrwerg t', 'sadasd', '212', 'DF', '2121',\n",
       "       '1231', 'QIHDZF', 'dsfgdfyt', 'rterter', 'sads', 'gfgffg',\n",
       "       'fwerew', 'asdf', 'gfhgfhjj', 'asds', 'kolkata', 'sambalpur',\n",
       "       'Rayagda', 'diu', 'Navi Mumbai', 'hooghly', 'Gajuwaka',\n",
       "       'Navi Mumbai ', 'MUMBAI', 'Thiruvalla', 'brahmapur', 'Diva',\n",
       "       'Bhimavaram', 'Berhampur', 'abc', 'Hyderabad ', 'Belapurr',\n",
       "       'madurai', 'Sri Ganganagar', 'sdas', 'mohali',\n",
       "       'iBall Excelance CompBook 11.6-inch Laptop', 'hotcourses',\n",
       "       'Houston', ';lkjhgf', 'aaaaaaaaaaaaaaaaaaaaa', '$%^&', 'MADURAI',\n",
       "       'Chenai', 'Gccch', 'BERHAMPUR', 'berhampur'], dtype=object)"
      ]
     },
     "execution_count": 55,
     "metadata": {},
     "output_type": "execute_result"
    }
   ],
   "source": [
    "orderCleaned = order[\"Billing City\"]\n",
    "filter1 = orderCleaned != \"test\"\n",
    "filter2 = orderCleaned != \"TAMILNADU\"\n",
    "filter3 = orderCleaned != \"dwwwwwwww\"\n",
    "filter4 = orderCleaned != \"rgtvrg\"\n",
    "orderCleaned = orderCleaned.where(filter1 & filter2 & filter3 & filter4, inplace = False).replace('CHENNAI', 'Chennai')\n",
    "orderCleaned.unique()"
   ]
  },
  {
   "cell_type": "code",
   "execution_count": 56,
   "metadata": {},
   "outputs": [
    {
     "data": {
      "image/png": "[encoded data removed]",
      "text/plain": [
       "<Figure size 1440x720 with 1 Axes>"
      ]
     },
     "metadata": {
      "needs_background": "light"
     },
     "output_type": "display_data"
    }
   ],
   "source": [
    "plt.figure(figsize=(20,10))\n",
    "sns.countplot(orderCleaned, order=orderCleaned.value_counts().iloc[:10].index).set_title('Analysis of Top Consumer Indian Cities')\n",
    "plt.savefig('edatask4.pdf')"
   ]
  },
  {
   "cell_type": "markdown",
   "metadata": {},
   "source": [
    "## Task - 5"
   ]
  },
  {
   "cell_type": "code",
   "execution_count": 57,
   "metadata": {},
   "outputs": [
    {
     "data": {
      "text/plain": [
       "0"
      ]
     },
     "execution_count": 57,
     "metadata": {},
     "output_type": "execute_result"
    }
   ],
   "source": [
    "review['category'].isnull().sum()"
   ]
  },
  {
   "cell_type": "code",
   "execution_count": 58,
   "metadata": {},
   "outputs": [
    {
     "data": {
      "text/plain": [
       "Mobiles             163\n",
       "Services            116\n",
       "Chennai             112\n",
       "Bengaluru           108\n",
       "Accessories         107\n",
       "                   ... \n",
       "Stationery            3\n",
       "Personal Laptops      3\n",
       "Gaming Laptops        3\n",
       "Vegetable             1\n",
       "Sunglasses            1\n",
       "Name: category, Length: 62, dtype: int64"
      ]
     },
     "execution_count": 58,
     "metadata": {},
     "output_type": "execute_result"
    }
   ],
   "source": [
    "review['category'].value_counts()"
   ]
  },
  {
   "cell_type": "code",
   "execution_count": 59,
   "metadata": {},
   "outputs": [
    {
     "data": {
      "text/plain": [
       "0    Mobiles\n",
       "Name: category, dtype: object"
      ]
     },
     "execution_count": 59,
     "metadata": {},
     "output_type": "execute_result"
    }
   ],
   "source": [
    "review['category'].mode()"
   ]
  },
  {
   "cell_type": "code",
   "execution_count": 60,
   "metadata": {},
   "outputs": [],
   "source": [
    "review['category'] =review['category'].replace('Chennai','Mobiles')\n",
    "review['category'] =review['category'].replace('Bengaluru','Mobiles')\n",
    "review['category'] =review['category'].replace('Mumbai','Mobiles')"
   ]
  },
  {
   "cell_type": "code",
   "execution_count": 61,
   "metadata": {},
   "outputs": [
    {
     "data": {
      "text/plain": [
       "Mobiles        475\n",
       "Services       116\n",
       "Accessories    107\n",
       "Name: category, dtype: int64"
      ]
     },
     "execution_count": 61,
     "metadata": {},
     "output_type": "execute_result"
    }
   ],
   "source": [
    "review['category'].value_counts()[0:3]"
   ]
  },
  {
   "cell_type": "code",
   "execution_count": 62,
   "metadata": {},
   "outputs": [
    {
     "data": {
      "image/png": "[encoded data removed]",
      "text/plain": [
       "<Figure size 1440x720 with 1 Axes>"
      ]
     },
     "metadata": {
      "needs_background": "light"
     },
     "output_type": "display_data"
    }
   ],
   "source": [
    "plt.figure(figsize = (20,10))\n",
    "sns.countplot(review['category'], order=review['category'].value_counts().iloc[:10].index).set_title('Analysis of Top Selling Product Categories')\n",
    "plt.savefig('edatask5.pdf')"
   ]
  },
  {
   "cell_type": "markdown",
   "metadata": {},
   "source": [
    "## Task - 6"
   ]
  },
  {
   "cell_type": "code",
   "execution_count": 63,
   "metadata": {},
   "outputs": [
    {
     "data": {
      "text/plain": [
       "array(['5.0', '4.9', '4.6', '4.8', '4.0', 'no_review', '3.0', '2.3',\n",
       "       '4.3', '4.7', '3.3', '4.2', '4.5'], dtype=object)"
      ]
     },
     "execution_count": 63,
     "metadata": {},
     "output_type": "execute_result"
    }
   ],
   "source": [
    "review['stars'].unique()"
   ]
  },
  {
   "cell_type": "code",
   "execution_count": 64,
   "metadata": {},
   "outputs": [
    {
     "data": {
      "text/plain": [
       "array(['5.0', '4.5-5', '4.0-4.5', 'no_review', '3.0-3.5', '2.0-2.5'],\n",
       "      dtype=object)"
      ]
     },
     "execution_count": 64,
     "metadata": {},
     "output_type": "execute_result"
    }
   ],
   "source": [
    "reviewlist = review['category'].value_counts().index.tolist()[:10]\n",
    "selectedCategories = review[['category','stars']]\n",
    "selectedCategories = selectedCategories[selectedCategories['category'].isin(reviewlist)]   ## https://stackoverflow.com/questions/27965295/dropping-rows-from-dataframe-based-on-a-not-in-condition\n",
    "\n",
    "for index in selectedCategories.index:\n",
    "    if (selectedCategories['stars'][index] != 'no_review'):\n",
    "        x = float(selectedCategories['stars'][index])\n",
    "        if x >=  4.5 and x <  5:\n",
    "            selectedCategories['stars'][index] = '4.5-5'\n",
    "        if x >=  4.0 and x <  4.5:\n",
    "            selectedCategories['stars'][index] = '4.0-4.5'\n",
    "        if x >=  3.5 and x <  4:\n",
    "            selectedCategories['stars'][index] = '3.5-4.0'\n",
    "        if x >=  3.0 and x <  3.5:\n",
    "            selectedCategories['stars'][index] = '3.0-3.5'\n",
    "        if x >=  2.5 and x <  3:\n",
    "            selectedCategories['stars'][index] = '2.5-3.0'\n",
    "        if x >=  2.0 and x <  2.5:\n",
    "            selectedCategories['stars'][index] = '2.0-2.5'\n",
    "\n",
    "selectedCategories['stars'].unique()"
   ]
  },
  {
   "cell_type": "code",
   "execution_count": 65,
   "metadata": {},
   "outputs": [
    {
     "data": {
      "text/html": [
       "<div>\n",
       "<style scoped>\n",
       "    .dataframe tbody tr th:only-of-type {\n",
       "        vertical-align: middle;\n",
       "    }\n",
       "\n",
       "    .dataframe tbody tr th {\n",
       "        vertical-align: top;\n",
       "    }\n",
       "\n",
       "    .dataframe thead th {\n",
       "        text-align: right;\n",
       "    }\n",
       "</style>\n",
       "<table border=\"1\" class=\"dataframe\">\n",
       "  <thead>\n",
       "    <tr style=\"text-align: right;\">\n",
       "      <th></th>\n",
       "      <th></th>\n",
       "      <th>Count</th>\n",
       "    </tr>\n",
       "    <tr>\n",
       "      <th>category</th>\n",
       "      <th>stars</th>\n",
       "      <th></th>\n",
       "    </tr>\n",
       "  </thead>\n",
       "  <tbody>\n",
       "    <tr>\n",
       "      <th rowspan=\"4\" valign=\"top\">Accessories</th>\n",
       "      <th>no_review</th>\n",
       "      <td>81</td>\n",
       "    </tr>\n",
       "    <tr>\n",
       "      <th>5.0</th>\n",
       "      <td>21</td>\n",
       "    </tr>\n",
       "    <tr>\n",
       "      <th>4.5-5</th>\n",
       "      <td>4</td>\n",
       "    </tr>\n",
       "    <tr>\n",
       "      <th>4.0-4.5</th>\n",
       "      <td>1</td>\n",
       "    </tr>\n",
       "    <tr>\n",
       "      <th rowspan=\"3\" valign=\"top\">Fashion</th>\n",
       "      <th>no_review</th>\n",
       "      <td>44</td>\n",
       "    </tr>\n",
       "    <tr>\n",
       "      <th>5.0</th>\n",
       "      <td>24</td>\n",
       "    </tr>\n",
       "    <tr>\n",
       "      <th>4.5-5</th>\n",
       "      <td>1</td>\n",
       "    </tr>\n",
       "    <tr>\n",
       "      <th rowspan=\"2\" valign=\"top\">Foods</th>\n",
       "      <th>no_review</th>\n",
       "      <td>56</td>\n",
       "    </tr>\n",
       "    <tr>\n",
       "      <th>5.0</th>\n",
       "      <td>2</td>\n",
       "    </tr>\n",
       "    <tr>\n",
       "      <th rowspan=\"5\" valign=\"top\">Headphones</th>\n",
       "      <th>no_review</th>\n",
       "      <td>57</td>\n",
       "    </tr>\n",
       "    <tr>\n",
       "      <th>5.0</th>\n",
       "      <td>20</td>\n",
       "    </tr>\n",
       "    <tr>\n",
       "      <th>4.5-5</th>\n",
       "      <td>12</td>\n",
       "    </tr>\n",
       "    <tr>\n",
       "      <th>3.0-3.5</th>\n",
       "      <td>1</td>\n",
       "    </tr>\n",
       "    <tr>\n",
       "      <th>4.0-4.5</th>\n",
       "      <td>1</td>\n",
       "    </tr>\n",
       "    <tr>\n",
       "      <th rowspan=\"3\" valign=\"top\">Laptop Accessories</th>\n",
       "      <th>no_review</th>\n",
       "      <td>43</td>\n",
       "    </tr>\n",
       "    <tr>\n",
       "      <th>5.0</th>\n",
       "      <td>11</td>\n",
       "    </tr>\n",
       "    <tr>\n",
       "      <th>4.5-5</th>\n",
       "      <td>3</td>\n",
       "    </tr>\n",
       "    <tr>\n",
       "      <th rowspan=\"5\" valign=\"top\">Laptops</th>\n",
       "      <th>no_review</th>\n",
       "      <td>45</td>\n",
       "    </tr>\n",
       "    <tr>\n",
       "      <th>5.0</th>\n",
       "      <td>14</td>\n",
       "    </tr>\n",
       "    <tr>\n",
       "      <th>4.5-5</th>\n",
       "      <td>4</td>\n",
       "    </tr>\n",
       "    <tr>\n",
       "      <th>4.0-4.5</th>\n",
       "      <td>1</td>\n",
       "    </tr>\n",
       "    <tr>\n",
       "      <th>3.0-3.5</th>\n",
       "      <td>1</td>\n",
       "    </tr>\n",
       "    <tr>\n",
       "      <th rowspan=\"6\" valign=\"top\">Mobiles</th>\n",
       "      <th>no_review</th>\n",
       "      <td>298</td>\n",
       "    </tr>\n",
       "    <tr>\n",
       "      <th>5.0</th>\n",
       "      <td>148</td>\n",
       "    </tr>\n",
       "    <tr>\n",
       "      <th>4.5-5</th>\n",
       "      <td>22</td>\n",
       "    </tr>\n",
       "    <tr>\n",
       "      <th>4.0-4.5</th>\n",
       "      <td>5</td>\n",
       "    </tr>\n",
       "    <tr>\n",
       "      <th>3.0-3.5</th>\n",
       "      <td>1</td>\n",
       "    </tr>\n",
       "    <tr>\n",
       "      <th>2.0-2.5</th>\n",
       "      <td>1</td>\n",
       "    </tr>\n",
       "    <tr>\n",
       "      <th rowspan=\"5\" valign=\"top\">Mobiles Accessories</th>\n",
       "      <th>no_review</th>\n",
       "      <td>50</td>\n",
       "    </tr>\n",
       "    <tr>\n",
       "      <th>5.0</th>\n",
       "      <td>12</td>\n",
       "    </tr>\n",
       "    <tr>\n",
       "      <th>4.5-5</th>\n",
       "      <td>4</td>\n",
       "    </tr>\n",
       "    <tr>\n",
       "      <th>4.0-4.5</th>\n",
       "      <td>3</td>\n",
       "    </tr>\n",
       "    <tr>\n",
       "      <th>2.0-2.5</th>\n",
       "      <td>1</td>\n",
       "    </tr>\n",
       "    <tr>\n",
       "      <th rowspan=\"3\" valign=\"top\">Services</th>\n",
       "      <th>no_review</th>\n",
       "      <td>76</td>\n",
       "    </tr>\n",
       "    <tr>\n",
       "      <th>5.0</th>\n",
       "      <td>39</td>\n",
       "    </tr>\n",
       "    <tr>\n",
       "      <th>4.5-5</th>\n",
       "      <td>1</td>\n",
       "    </tr>\n",
       "    <tr>\n",
       "      <th rowspan=\"6\" valign=\"top\">Toys &amp; Games</th>\n",
       "      <th>no_review</th>\n",
       "      <td>53</td>\n",
       "    </tr>\n",
       "    <tr>\n",
       "      <th>5.0</th>\n",
       "      <td>26</td>\n",
       "    </tr>\n",
       "    <tr>\n",
       "      <th>4.5-5</th>\n",
       "      <td>6</td>\n",
       "    </tr>\n",
       "    <tr>\n",
       "      <th>3.0-3.5</th>\n",
       "      <td>1</td>\n",
       "    </tr>\n",
       "    <tr>\n",
       "      <th>2.0-2.5</th>\n",
       "      <td>1</td>\n",
       "    </tr>\n",
       "    <tr>\n",
       "      <th>4.0-4.5</th>\n",
       "      <td>1</td>\n",
       "    </tr>\n",
       "  </tbody>\n",
       "</table>\n",
       "</div>"
      ],
      "text/plain": [
       "                               Count\n",
       "category            stars           \n",
       "Accessories         no_review     81\n",
       "                    5.0           21\n",
       "                    4.5-5          4\n",
       "                    4.0-4.5        1\n",
       "Fashion             no_review     44\n",
       "                    5.0           24\n",
       "                    4.5-5          1\n",
       "Foods               no_review     56\n",
       "                    5.0            2\n",
       "Headphones          no_review     57\n",
       "                    5.0           20\n",
       "                    4.5-5         12\n",
       "                    3.0-3.5        1\n",
       "                    4.0-4.5        1\n",
       "Laptop Accessories  no_review     43\n",
       "                    5.0           11\n",
       "                    4.5-5          3\n",
       "Laptops             no_review     45\n",
       "                    5.0           14\n",
       "                    4.5-5          4\n",
       "                    4.0-4.5        1\n",
       "                    3.0-3.5        1\n",
       "Mobiles             no_review    298\n",
       "                    5.0          148\n",
       "                    4.5-5         22\n",
       "                    4.0-4.5        5\n",
       "                    3.0-3.5        1\n",
       "                    2.0-2.5        1\n",
       "Mobiles Accessories no_review     50\n",
       "                    5.0           12\n",
       "                    4.5-5          4\n",
       "                    4.0-4.5        3\n",
       "                    2.0-2.5        1\n",
       "Services            no_review     76\n",
       "                    5.0           39\n",
       "                    4.5-5          1\n",
       "Toys & Games        no_review     53\n",
       "                    5.0           26\n",
       "                    4.5-5          6\n",
       "                    3.0-3.5        1\n",
       "                    2.0-2.5        1\n",
       "                    4.0-4.5        1"
      ]
     },
     "execution_count": 65,
     "metadata": {},
     "output_type": "execute_result"
    }
   ],
   "source": [
    "selectedCategories = selectedCategories.groupby('category').value_counts().to_frame()\n",
    "selectedCategories.columns = ['Count']\n",
    "selectedCategories"
   ]
  },
  {
   "cell_type": "code",
   "execution_count": 66,
   "metadata": {},
   "outputs": [
    {
     "data": {
      "text/plain": [
       "category             stars    \n",
       "Accessories          no_review     81\n",
       "                     5.0           21\n",
       "                     4.5-5          4\n",
       "                     4.0-4.5        1\n",
       "Fashion              no_review     44\n",
       "                     5.0           24\n",
       "                     4.5-5          1\n",
       "Foods                no_review     56\n",
       "                     5.0            2\n",
       "Headphones           no_review     57\n",
       "                     5.0           20\n",
       "                     4.5-5         12\n",
       "                     3.0-3.5        1\n",
       "                     4.0-4.5        1\n",
       "Laptop Accessories   no_review     43\n",
       "                     5.0           11\n",
       "                     4.5-5          3\n",
       "Laptops              no_review     45\n",
       "                     5.0           14\n",
       "                     4.5-5          4\n",
       "                     4.0-4.5        1\n",
       "                     3.0-3.5        1\n",
       "Mobiles              no_review    298\n",
       "                     5.0          148\n",
       "                     4.5-5         22\n",
       "                     4.0-4.5        5\n",
       "                     3.0-3.5        1\n",
       "                     2.0-2.5        1\n",
       "Mobiles Accessories  no_review     50\n",
       "                     5.0           12\n",
       "                     4.5-5          4\n",
       "                     4.0-4.5        3\n",
       "                     2.0-2.5        1\n",
       "Services             no_review     76\n",
       "                     5.0           39\n",
       "                     4.5-5          1\n",
       "Toys & Games         no_review     53\n",
       "                     5.0           26\n",
       "                     4.5-5          6\n",
       "                     3.0-3.5        1\n",
       "                     2.0-2.5        1\n",
       "                     4.0-4.5        1\n",
       "Name: Count, dtype: int32"
      ]
     },
     "execution_count": 66,
     "metadata": {},
     "output_type": "execute_result"
    }
   ],
   "source": [
    "selectedCategories['Count'].astype(int) ## Converting the last count column from string to int for plotting"
   ]
  },
  {
   "cell_type": "code",
   "execution_count": 67,
   "metadata": {},
   "outputs": [
    {
     "data": {
      "text/html": [
       "<div>\n",
       "<style scoped>\n",
       "    .dataframe tbody tr th:only-of-type {\n",
       "        vertical-align: middle;\n",
       "    }\n",
       "\n",
       "    .dataframe tbody tr th {\n",
       "        vertical-align: top;\n",
       "    }\n",
       "\n",
       "    .dataframe thead tr th {\n",
       "        text-align: left;\n",
       "    }\n",
       "\n",
       "    .dataframe thead tr:last-of-type th {\n",
       "        text-align: right;\n",
       "    }\n",
       "</style>\n",
       "<table border=\"1\" class=\"dataframe\">\n",
       "  <thead>\n",
       "    <tr>\n",
       "      <th></th>\n",
       "      <th colspan=\"6\" halign=\"left\">Count</th>\n",
       "      <th>Total (Reviewed)</th>\n",
       "      <th>Grand Total</th>\n",
       "    </tr>\n",
       "    <tr>\n",
       "      <th>stars</th>\n",
       "      <th>2.0-2.5</th>\n",
       "      <th>3.0-3.5</th>\n",
       "      <th>4.0-4.5</th>\n",
       "      <th>4.5-5</th>\n",
       "      <th>5.0</th>\n",
       "      <th>no_review</th>\n",
       "      <th></th>\n",
       "      <th></th>\n",
       "    </tr>\n",
       "    <tr>\n",
       "      <th>category</th>\n",
       "      <th></th>\n",
       "      <th></th>\n",
       "      <th></th>\n",
       "      <th></th>\n",
       "      <th></th>\n",
       "      <th></th>\n",
       "      <th></th>\n",
       "      <th></th>\n",
       "    </tr>\n",
       "  </thead>\n",
       "  <tbody>\n",
       "    <tr>\n",
       "      <th>Accessories</th>\n",
       "      <td>0.0</td>\n",
       "      <td>0.0</td>\n",
       "      <td>1.0</td>\n",
       "      <td>4.0</td>\n",
       "      <td>21.0</td>\n",
       "      <td>81.0</td>\n",
       "      <td>26.0</td>\n",
       "      <td>107.0</td>\n",
       "    </tr>\n",
       "    <tr>\n",
       "      <th>Fashion</th>\n",
       "      <td>0.0</td>\n",
       "      <td>0.0</td>\n",
       "      <td>0.0</td>\n",
       "      <td>1.0</td>\n",
       "      <td>24.0</td>\n",
       "      <td>44.0</td>\n",
       "      <td>25.0</td>\n",
       "      <td>69.0</td>\n",
       "    </tr>\n",
       "    <tr>\n",
       "      <th>Foods</th>\n",
       "      <td>0.0</td>\n",
       "      <td>0.0</td>\n",
       "      <td>0.0</td>\n",
       "      <td>0.0</td>\n",
       "      <td>2.0</td>\n",
       "      <td>56.0</td>\n",
       "      <td>2.0</td>\n",
       "      <td>58.0</td>\n",
       "    </tr>\n",
       "    <tr>\n",
       "      <th>Headphones</th>\n",
       "      <td>0.0</td>\n",
       "      <td>1.0</td>\n",
       "      <td>1.0</td>\n",
       "      <td>12.0</td>\n",
       "      <td>20.0</td>\n",
       "      <td>57.0</td>\n",
       "      <td>34.0</td>\n",
       "      <td>91.0</td>\n",
       "    </tr>\n",
       "    <tr>\n",
       "      <th>Laptop Accessories</th>\n",
       "      <td>0.0</td>\n",
       "      <td>0.0</td>\n",
       "      <td>0.0</td>\n",
       "      <td>3.0</td>\n",
       "      <td>11.0</td>\n",
       "      <td>43.0</td>\n",
       "      <td>14.0</td>\n",
       "      <td>57.0</td>\n",
       "    </tr>\n",
       "    <tr>\n",
       "      <th>Laptops</th>\n",
       "      <td>0.0</td>\n",
       "      <td>1.0</td>\n",
       "      <td>1.0</td>\n",
       "      <td>4.0</td>\n",
       "      <td>14.0</td>\n",
       "      <td>45.0</td>\n",
       "      <td>20.0</td>\n",
       "      <td>65.0</td>\n",
       "    </tr>\n",
       "    <tr>\n",
       "      <th>Mobiles</th>\n",
       "      <td>1.0</td>\n",
       "      <td>1.0</td>\n",
       "      <td>5.0</td>\n",
       "      <td>22.0</td>\n",
       "      <td>148.0</td>\n",
       "      <td>298.0</td>\n",
       "      <td>177.0</td>\n",
       "      <td>475.0</td>\n",
       "    </tr>\n",
       "    <tr>\n",
       "      <th>Mobiles Accessories</th>\n",
       "      <td>1.0</td>\n",
       "      <td>0.0</td>\n",
       "      <td>3.0</td>\n",
       "      <td>4.0</td>\n",
       "      <td>12.0</td>\n",
       "      <td>50.0</td>\n",
       "      <td>20.0</td>\n",
       "      <td>70.0</td>\n",
       "    </tr>\n",
       "    <tr>\n",
       "      <th>Services</th>\n",
       "      <td>0.0</td>\n",
       "      <td>0.0</td>\n",
       "      <td>0.0</td>\n",
       "      <td>1.0</td>\n",
       "      <td>39.0</td>\n",
       "      <td>76.0</td>\n",
       "      <td>40.0</td>\n",
       "      <td>116.0</td>\n",
       "    </tr>\n",
       "    <tr>\n",
       "      <th>Toys &amp; Games</th>\n",
       "      <td>1.0</td>\n",
       "      <td>1.0</td>\n",
       "      <td>1.0</td>\n",
       "      <td>6.0</td>\n",
       "      <td>26.0</td>\n",
       "      <td>53.0</td>\n",
       "      <td>35.0</td>\n",
       "      <td>88.0</td>\n",
       "    </tr>\n",
       "  </tbody>\n",
       "</table>\n",
       "</div>"
      ],
      "text/plain": [
       "                      Count                                         \\\n",
       "stars               2.0-2.5 3.0-3.5 4.0-4.5 4.5-5    5.0 no_review   \n",
       "category                                                             \n",
       "Accessories             0.0     0.0     1.0   4.0   21.0      81.0   \n",
       "Fashion                 0.0     0.0     0.0   1.0   24.0      44.0   \n",
       "Foods                   0.0     0.0     0.0   0.0    2.0      56.0   \n",
       "Headphones              0.0     1.0     1.0  12.0   20.0      57.0   \n",
       "Laptop Accessories      0.0     0.0     0.0   3.0   11.0      43.0   \n",
       "Laptops                 0.0     1.0     1.0   4.0   14.0      45.0   \n",
       "Mobiles                 1.0     1.0     5.0  22.0  148.0     298.0   \n",
       "Mobiles Accessories     1.0     0.0     3.0   4.0   12.0      50.0   \n",
       "Services                0.0     0.0     0.0   1.0   39.0      76.0   \n",
       "Toys & Games            1.0     1.0     1.0   6.0   26.0      53.0   \n",
       "\n",
       "                    Total (Reviewed) Grand Total  \n",
       "stars                                             \n",
       "category                                          \n",
       "Accessories                     26.0       107.0  \n",
       "Fashion                         25.0        69.0  \n",
       "Foods                            2.0        58.0  \n",
       "Headphones                      34.0        91.0  \n",
       "Laptop Accessories              14.0        57.0  \n",
       "Laptops                         20.0        65.0  \n",
       "Mobiles                        177.0       475.0  \n",
       "Mobiles Accessories             20.0        70.0  \n",
       "Services                        40.0       116.0  \n",
       "Toys & Games                    35.0        88.0  "
      ]
     },
     "execution_count": 67,
     "metadata": {},
     "output_type": "execute_result"
    }
   ],
   "source": [
    "selectedCategories = selectedCategories.unstack(level = 'stars').fillna(0)\n",
    "cols_to_sum_stars = selectedCategories.columns[0:5].values\n",
    "selectedCategories['Total (Reviewed)'] = selectedCategories[cols_to_sum_stars].sum(axis = 1)\n",
    "cols_to_sum_stars = selectedCategories.columns[0:6].values\n",
    "selectedCategories['Grand Total'] = selectedCategories[cols_to_sum_stars].sum(axis = 1)\n",
    "selectedCategories"
   ]
  },
  {
   "cell_type": "code",
   "execution_count": 69,
   "metadata": {},
   "outputs": [
    {
     "data": {
      "image/png": "[encoded data removed]",
      "text/plain": [
       "<Figure size 1440x1440 with 1 Axes>"
      ]
     },
     "metadata": {
      "needs_background": "light"
     },
     "output_type": "display_data"
    },
    {
     "data": {
      "image/png": "[encoded data removed]",
      "text/plain": [
       "<Figure size 1440x1440 with 1 Axes>"
      ]
     },
     "metadata": {
      "needs_background": "light"
     },
     "output_type": "display_data"
    }
   ],
   "source": [
    "df_total_2 = selectedCategories['Total (Reviewed)']\n",
    "df_2 = selectedCategories.iloc[:, 0:5]\n",
    "df_2.plot(kind='barh',stacked = True, title = 'Review Analysis of top 10 products (Only Reviewed Orders)', mark_right = True, figsize=(20, 20))\n",
    "\n",
    "df_rel_2 = df_2[df_2.columns[1:]].div(df_total_2, 0)*100\n",
    "\n",
    "for n in df_rel_2:\n",
    "    for i, (cs, ab, pc, tot) in enumerate(zip(df_2.iloc[:, 1:].cumsum(1)[n], df_2[n], df_rel_2[n], df_total_2)):\n",
    "        if pc >= 30:\n",
    "            plt.text(cs - ab/2, i, str(np.round(pc, 1)) + '%', va='center', ha='center')\n",
    "        elif (pc >=10 and pc < 30):\n",
    "            plt.text(cs - ab/2, i, str(np.round(pc, 1)) + '%', va='center', ha='center', rotation=90)\n",
    "\n",
    "plt.savefig('edatask6_2.pdf')\n",
    "            \n",
    "df_total_1 = selectedCategories['Grand Total']\n",
    "df_1 = selectedCategories.iloc[:, 0:6]\n",
    "df_1.plot(kind='barh',stacked = True, title = 'Analysis of top 10 products (Reviewed and Unreviewed Orders)', mark_right = True, figsize=(20, 20))\n",
    "\n",
    "df_rel_1 = df_1[df_1.columns[1:]].div(df_total_1, 0)*100\n",
    "\n",
    "for n in df_rel_1:\n",
    "    for i, (cs, ab, pc, tot) in enumerate(zip(df_1.iloc[:, 1:].cumsum(1)[n], df_1[n], df_rel_1[n], df_total_1)):\n",
    "        if pc >= 30:\n",
    "            plt.text(cs - ab/2, i, str(np.round(pc, 1)) + '%', va='center', ha='center')\n",
    "        elif (pc >=10 and pc < 30):\n",
    "            plt.text(cs - ab/2, i, str(np.round(pc, 1)) + '%', va='center', ha='center', rotation=90)\n",
    "\n",
    "plt.savefig('edatask6_1.pdf')  \n",
    "\n",
    "pdfs = ['edatask6_2.pdf', 'edatask6_1.pdf']\n",
    "\n",
    "merger = PyPDF2.PdfMerger()\n",
    "\n",
    "for pdf in pdfs:\n",
    "    merger.append(pdf)\n",
    "\n",
    "merger.write(\"edatask6.pdf\")\n",
    "merger.close()"
   ]
  },
  {
   "cell_type": "code",
   "execution_count": 70,
   "metadata": {},
   "outputs": [],
   "source": [
    "for pdf in pdfs:\n",
    "    remove(pdf)"
   ]
  },
  {
   "cell_type": "markdown",
   "metadata": {},
   "source": [
    "\n",
    "## Task - 7"
   ]
  },
  {
   "cell_type": "code",
   "execution_count": 71,
   "metadata": {},
   "outputs": [],
   "source": [
    "#to see the analysis of Number of Orders Per Month Per Year"
   ]
  },
  {
   "cell_type": "code",
   "execution_count": 72,
   "metadata": {},
   "outputs": [
    {
     "data": {
      "text/plain": [
       "0       09-11-2020 20:36:26 +0530\n",
       "1       09-11-2020 20:18:26 +0530\n",
       "2       09-11-2020 19:56:21 +0530\n",
       "3       09-11-2020 19:37:40 +0530\n",
       "4       09-11-2020 18:35:47 +0530\n",
       "                  ...            \n",
       "2292    05-10-2016 04:17:45 +0530\n",
       "2293    03-10-2016 15:10:47 +0530\n",
       "2294    29-09-2016 18:33:27 +0530\n",
       "2295    28-09-2016 18:59:22 +0530\n",
       "2296    28-09-2016 15:37:32 +0530\n",
       "Name: Order Date and Time Stamp, Length: 2297, dtype: object"
      ]
     },
     "execution_count": 72,
     "metadata": {},
     "output_type": "execute_result"
    }
   ],
   "source": [
    "order['Order Date and Time Stamp']"
   ]
  },
  {
   "cell_type": "code",
   "execution_count": 73,
   "metadata": {},
   "outputs": [],
   "source": [
    "order['months'] = pd.DatetimeIndex(order['Order Date and Time Stamp']).month"
   ]
  },
  {
   "cell_type": "code",
   "execution_count": 74,
   "metadata": {},
   "outputs": [],
   "source": [
    "order['year'] = pd.DatetimeIndex(order['Order Date and Time Stamp']).year"
   ]
  },
  {
   "cell_type": "code",
   "execution_count": 75,
   "metadata": {},
   "outputs": [
    {
     "data": {
      "text/html": [
       "<div>\n",
       "<style scoped>\n",
       "    .dataframe tbody tr th:only-of-type {\n",
       "        vertical-align: middle;\n",
       "    }\n",
       "\n",
       "    .dataframe tbody tr th {\n",
       "        vertical-align: top;\n",
       "    }\n",
       "\n",
       "    .dataframe thead th {\n",
       "        text-align: right;\n",
       "    }\n",
       "</style>\n",
       "<table border=\"1\" class=\"dataframe\">\n",
       "  <thead>\n",
       "    <tr style=\"text-align: right;\">\n",
       "      <th></th>\n",
       "      <th>Order #</th>\n",
       "      <th>Order Date and Time Stamp</th>\n",
       "      <th>Fulfillment Status</th>\n",
       "      <th>Payment Status</th>\n",
       "      <th>Payment Date and Time Stamp</th>\n",
       "      <th>Fulfillment Date and Time Stamp</th>\n",
       "      <th>Currency</th>\n",
       "      <th>Subtotal</th>\n",
       "      <th>Shipping Method</th>\n",
       "      <th>Shipping Cost</th>\n",
       "      <th>...</th>\n",
       "      <th>Special Instructions</th>\n",
       "      <th>LineItem Name</th>\n",
       "      <th>LineItem SKU</th>\n",
       "      <th>LineItem Options</th>\n",
       "      <th>LineItem Add-ons</th>\n",
       "      <th>LineItem Qty</th>\n",
       "      <th>LineItem Sale Price</th>\n",
       "      <th>LineItem Type</th>\n",
       "      <th>months</th>\n",
       "      <th>year</th>\n",
       "    </tr>\n",
       "  </thead>\n",
       "  <tbody>\n",
       "    <tr>\n",
       "      <th>0</th>\n",
       "      <td>R929392577</td>\n",
       "      <td>09-11-2020 20:36:26 +0530</td>\n",
       "      <td>Unfulfilled</td>\n",
       "      <td>Unpaid</td>\n",
       "      <td>NaN</td>\n",
       "      <td>NaN</td>\n",
       "      <td>INR</td>\n",
       "      <td>₹ 799.00</td>\n",
       "      <td>Ships Free</td>\n",
       "      <td>₹ 0.00</td>\n",
       "      <td>...</td>\n",
       "      <td>NaN</td>\n",
       "      <td>Boat Rockerz 530 Bluetooth Headphone with Mic ...</td>\n",
       "      <td>NaN</td>\n",
       "      <td>NaN</td>\n",
       "      <td>NaN</td>\n",
       "      <td>1</td>\n",
       "      <td>₹ 799.00</td>\n",
       "      <td>physical</td>\n",
       "      <td>9</td>\n",
       "      <td>2020</td>\n",
       "    </tr>\n",
       "    <tr>\n",
       "      <th>1</th>\n",
       "      <td>R653462960</td>\n",
       "      <td>09-11-2020 20:18:26 +0530</td>\n",
       "      <td>Unfulfilled</td>\n",
       "      <td>Unpaid</td>\n",
       "      <td>NaN</td>\n",
       "      <td>NaN</td>\n",
       "      <td>INR</td>\n",
       "      <td>₹ 699.00</td>\n",
       "      <td>Ships Free</td>\n",
       "      <td>₹ 0.00</td>\n",
       "      <td>...</td>\n",
       "      <td>NaN</td>\n",
       "      <td>Samsung U Flex Wireless Bluetooth Flexible Hea...</td>\n",
       "      <td>PL000032123</td>\n",
       "      <td>NaN</td>\n",
       "      <td>NaN</td>\n",
       "      <td>1</td>\n",
       "      <td>₹ 699.00</td>\n",
       "      <td>physical</td>\n",
       "      <td>9</td>\n",
       "      <td>2020</td>\n",
       "    </tr>\n",
       "    <tr>\n",
       "      <th>2</th>\n",
       "      <td>R226302759</td>\n",
       "      <td>09-11-2020 19:56:21 +0530</td>\n",
       "      <td>Unfulfilled</td>\n",
       "      <td>Unpaid</td>\n",
       "      <td>NaN</td>\n",
       "      <td>NaN</td>\n",
       "      <td>INR</td>\n",
       "      <td>₹ 799.00</td>\n",
       "      <td>Ships Free</td>\n",
       "      <td>₹ 0.00</td>\n",
       "      <td>...</td>\n",
       "      <td>NaN</td>\n",
       "      <td>Boat Rockerz 530 Bluetooth Headphone with Mic ...</td>\n",
       "      <td>NaN</td>\n",
       "      <td>NaN</td>\n",
       "      <td>NaN</td>\n",
       "      <td>1</td>\n",
       "      <td>₹ 799.00</td>\n",
       "      <td>physical</td>\n",
       "      <td>9</td>\n",
       "      <td>2020</td>\n",
       "    </tr>\n",
       "    <tr>\n",
       "      <th>3</th>\n",
       "      <td>R390235057</td>\n",
       "      <td>09-11-2020 19:37:40 +0530</td>\n",
       "      <td>Unfulfilled</td>\n",
       "      <td>Unpaid</td>\n",
       "      <td>NaN</td>\n",
       "      <td>NaN</td>\n",
       "      <td>INR</td>\n",
       "      <td>₹ 599.00</td>\n",
       "      <td>Ships Free</td>\n",
       "      <td>₹ 0.00</td>\n",
       "      <td>...</td>\n",
       "      <td>NaN</td>\n",
       "      <td>JBL Tempo On-Ear Headphone</td>\n",
       "      <td>PL000157</td>\n",
       "      <td>NaN</td>\n",
       "      <td>NaN</td>\n",
       "      <td>1</td>\n",
       "      <td>₹ 599.00</td>\n",
       "      <td>physical</td>\n",
       "      <td>9</td>\n",
       "      <td>2020</td>\n",
       "    </tr>\n",
       "    <tr>\n",
       "      <th>4</th>\n",
       "      <td>R813855117</td>\n",
       "      <td>09-11-2020 18:35:47 +0530</td>\n",
       "      <td>Cancelled</td>\n",
       "      <td>Paid</td>\n",
       "      <td>NaN</td>\n",
       "      <td>NaN</td>\n",
       "      <td>INR</td>\n",
       "      <td>₹ 699.00</td>\n",
       "      <td>Ships Free</td>\n",
       "      <td>₹ 0.00</td>\n",
       "      <td>...</td>\n",
       "      <td>NaN</td>\n",
       "      <td>Mi Neckband Bluetooth Headset with Mic (Black)</td>\n",
       "      <td>PL000041332</td>\n",
       "      <td>NaN</td>\n",
       "      <td>NaN</td>\n",
       "      <td>1</td>\n",
       "      <td>₹ 699.00</td>\n",
       "      <td>physical</td>\n",
       "      <td>9</td>\n",
       "      <td>2020</td>\n",
       "    </tr>\n",
       "    <tr>\n",
       "      <th>...</th>\n",
       "      <td>...</td>\n",
       "      <td>...</td>\n",
       "      <td>...</td>\n",
       "      <td>...</td>\n",
       "      <td>...</td>\n",
       "      <td>...</td>\n",
       "      <td>...</td>\n",
       "      <td>...</td>\n",
       "      <td>...</td>\n",
       "      <td>...</td>\n",
       "      <td>...</td>\n",
       "      <td>...</td>\n",
       "      <td>...</td>\n",
       "      <td>...</td>\n",
       "      <td>...</td>\n",
       "      <td>...</td>\n",
       "      <td>...</td>\n",
       "      <td>...</td>\n",
       "      <td>...</td>\n",
       "      <td>...</td>\n",
       "      <td>...</td>\n",
       "    </tr>\n",
       "    <tr>\n",
       "      <th>2292</th>\n",
       "      <td>R243395005</td>\n",
       "      <td>05-10-2016 04:17:45 +0530</td>\n",
       "      <td>Cancelled</td>\n",
       "      <td>Unpaid</td>\n",
       "      <td>NaN</td>\n",
       "      <td>NaN</td>\n",
       "      <td>INR</td>\n",
       "      <td>₹ 50.00</td>\n",
       "      <td>Ships Free</td>\n",
       "      <td>₹ 0.00</td>\n",
       "      <td>...</td>\n",
       "      <td>NaN</td>\n",
       "      <td>Ear Wired Earphones With Mic White</td>\n",
       "      <td>11</td>\n",
       "      <td>NaN</td>\n",
       "      <td>NaN</td>\n",
       "      <td>1</td>\n",
       "      <td>₹ 50.00</td>\n",
       "      <td>physical</td>\n",
       "      <td>5</td>\n",
       "      <td>2016</td>\n",
       "    </tr>\n",
       "    <tr>\n",
       "      <th>2293</th>\n",
       "      <td>R607209508</td>\n",
       "      <td>03-10-2016 15:10:47 +0530</td>\n",
       "      <td>Cancelled</td>\n",
       "      <td>Unpaid</td>\n",
       "      <td>NaN</td>\n",
       "      <td>NaN</td>\n",
       "      <td>INR</td>\n",
       "      <td>₹ 500.00</td>\n",
       "      <td>Ships Free</td>\n",
       "      <td>₹ 0.00</td>\n",
       "      <td>...</td>\n",
       "      <td>NaN</td>\n",
       "      <td>I Kall K-66 White</td>\n",
       "      <td>9</td>\n",
       "      <td>NaN</td>\n",
       "      <td>NaN</td>\n",
       "      <td>1</td>\n",
       "      <td>₹ 500.00</td>\n",
       "      <td>physical</td>\n",
       "      <td>3</td>\n",
       "      <td>2016</td>\n",
       "    </tr>\n",
       "    <tr>\n",
       "      <th>2294</th>\n",
       "      <td>R140316623</td>\n",
       "      <td>29-09-2016 18:33:27 +0530</td>\n",
       "      <td>Cancelled</td>\n",
       "      <td>Unpaid</td>\n",
       "      <td>NaN</td>\n",
       "      <td>NaN</td>\n",
       "      <td>INR</td>\n",
       "      <td>₹ 4,000.00</td>\n",
       "      <td>Ships Free</td>\n",
       "      <td>₹ 0.00</td>\n",
       "      <td>...</td>\n",
       "      <td>NaN</td>\n",
       "      <td>Electric Steam Cooker Maestro MC1</td>\n",
       "      <td>1</td>\n",
       "      <td>NaN</td>\n",
       "      <td>NaN</td>\n",
       "      <td>2</td>\n",
       "      <td>₹ 2,000.00</td>\n",
       "      <td>physical</td>\n",
       "      <td>9</td>\n",
       "      <td>2016</td>\n",
       "    </tr>\n",
       "    <tr>\n",
       "      <th>2295</th>\n",
       "      <td>R192037084</td>\n",
       "      <td>28-09-2016 18:59:22 +0530</td>\n",
       "      <td>Cancelled</td>\n",
       "      <td>Unpaid</td>\n",
       "      <td>NaN</td>\n",
       "      <td>NaN</td>\n",
       "      <td>INR</td>\n",
       "      <td>₹ 2,000.00</td>\n",
       "      <td>Ships Free</td>\n",
       "      <td>₹ 0.00</td>\n",
       "      <td>...</td>\n",
       "      <td>NaN</td>\n",
       "      <td>Electric Steam Cooker Maestro MC1</td>\n",
       "      <td>1</td>\n",
       "      <td>NaN</td>\n",
       "      <td>NaN</td>\n",
       "      <td>1</td>\n",
       "      <td>₹ 2,000.00</td>\n",
       "      <td>physical</td>\n",
       "      <td>9</td>\n",
       "      <td>2016</td>\n",
       "    </tr>\n",
       "    <tr>\n",
       "      <th>2296</th>\n",
       "      <td>R414254148</td>\n",
       "      <td>28-09-2016 15:37:32 +0530</td>\n",
       "      <td>Fulfilled</td>\n",
       "      <td>Paid</td>\n",
       "      <td>28-09-2016 19:05:17 +0530</td>\n",
       "      <td>28-09-2016 19:05:30 +0530</td>\n",
       "      <td>INR</td>\n",
       "      <td>₹ 2,000.00</td>\n",
       "      <td>Ships Free</td>\n",
       "      <td>₹ 0.00</td>\n",
       "      <td>...</td>\n",
       "      <td>NaN</td>\n",
       "      <td>Electric Steam Cooker Maestro MC1</td>\n",
       "      <td>1</td>\n",
       "      <td>NaN</td>\n",
       "      <td>NaN</td>\n",
       "      <td>1</td>\n",
       "      <td>₹ 2,000.00</td>\n",
       "      <td>physical</td>\n",
       "      <td>9</td>\n",
       "      <td>2016</td>\n",
       "    </tr>\n",
       "  </tbody>\n",
       "</table>\n",
       "<p>2297 rows × 43 columns</p>\n",
       "</div>"
      ],
      "text/plain": [
       "         Order #  Order Date and Time Stamp Fulfillment Status Payment Status  \\\n",
       "0     R929392577  09-11-2020 20:36:26 +0530        Unfulfilled         Unpaid   \n",
       "1     R653462960  09-11-2020 20:18:26 +0530        Unfulfilled         Unpaid   \n",
       "2     R226302759  09-11-2020 19:56:21 +0530        Unfulfilled         Unpaid   \n",
       "3     R390235057  09-11-2020 19:37:40 +0530        Unfulfilled         Unpaid   \n",
       "4     R813855117  09-11-2020 18:35:47 +0530          Cancelled           Paid   \n",
       "...          ...                        ...                ...            ...   \n",
       "2292  R243395005  05-10-2016 04:17:45 +0530          Cancelled         Unpaid   \n",
       "2293  R607209508  03-10-2016 15:10:47 +0530          Cancelled         Unpaid   \n",
       "2294  R140316623  29-09-2016 18:33:27 +0530          Cancelled         Unpaid   \n",
       "2295  R192037084  28-09-2016 18:59:22 +0530          Cancelled         Unpaid   \n",
       "2296  R414254148  28-09-2016 15:37:32 +0530          Fulfilled           Paid   \n",
       "\n",
       "     Payment Date and Time Stamp Fulfillment Date and Time Stamp Currency  \\\n",
       "0                            NaN                             NaN      INR   \n",
       "1                            NaN                             NaN      INR   \n",
       "2                            NaN                             NaN      INR   \n",
       "3                            NaN                             NaN      INR   \n",
       "4                            NaN                             NaN      INR   \n",
       "...                          ...                             ...      ...   \n",
       "2292                         NaN                             NaN      INR   \n",
       "2293                         NaN                             NaN      INR   \n",
       "2294                         NaN                             NaN      INR   \n",
       "2295                         NaN                             NaN      INR   \n",
       "2296   28-09-2016 19:05:17 +0530       28-09-2016 19:05:30 +0530      INR   \n",
       "\n",
       "        Subtotal Shipping Method Shipping Cost  ... Special Instructions  \\\n",
       "0       ₹ 799.00      Ships Free        ₹ 0.00  ...                  NaN   \n",
       "1       ₹ 699.00      Ships Free        ₹ 0.00  ...                  NaN   \n",
       "2       ₹ 799.00      Ships Free        ₹ 0.00  ...                  NaN   \n",
       "3       ₹ 599.00      Ships Free        ₹ 0.00  ...                  NaN   \n",
       "4       ₹ 699.00      Ships Free        ₹ 0.00  ...                  NaN   \n",
       "...          ...             ...           ...  ...                  ...   \n",
       "2292     ₹ 50.00      Ships Free        ₹ 0.00  ...                  NaN   \n",
       "2293    ₹ 500.00      Ships Free        ₹ 0.00  ...                  NaN   \n",
       "2294  ₹ 4,000.00      Ships Free        ₹ 0.00  ...                  NaN   \n",
       "2295  ₹ 2,000.00      Ships Free        ₹ 0.00  ...                  NaN   \n",
       "2296  ₹ 2,000.00      Ships Free        ₹ 0.00  ...                  NaN   \n",
       "\n",
       "                                          LineItem Name LineItem SKU  \\\n",
       "0     Boat Rockerz 530 Bluetooth Headphone with Mic ...          NaN   \n",
       "1     Samsung U Flex Wireless Bluetooth Flexible Hea...  PL000032123   \n",
       "2     Boat Rockerz 530 Bluetooth Headphone with Mic ...          NaN   \n",
       "3                            JBL Tempo On-Ear Headphone     PL000157   \n",
       "4        Mi Neckband Bluetooth Headset with Mic (Black)  PL000041332   \n",
       "...                                                 ...          ...   \n",
       "2292                 Ear Wired Earphones With Mic White           11   \n",
       "2293                                  I Kall K-66 White            9   \n",
       "2294                  Electric Steam Cooker Maestro MC1            1   \n",
       "2295                  Electric Steam Cooker Maestro MC1            1   \n",
       "2296                  Electric Steam Cooker Maestro MC1            1   \n",
       "\n",
       "     LineItem Options LineItem Add-ons LineItem Qty LineItem Sale Price  \\\n",
       "0                 NaN              NaN            1            ₹ 799.00   \n",
       "1                 NaN              NaN            1            ₹ 699.00   \n",
       "2                 NaN              NaN            1            ₹ 799.00   \n",
       "3                 NaN              NaN            1            ₹ 599.00   \n",
       "4                 NaN              NaN            1            ₹ 699.00   \n",
       "...               ...              ...          ...                 ...   \n",
       "2292              NaN              NaN            1             ₹ 50.00   \n",
       "2293              NaN              NaN            1            ₹ 500.00   \n",
       "2294              NaN              NaN            2          ₹ 2,000.00   \n",
       "2295              NaN              NaN            1          ₹ 2,000.00   \n",
       "2296              NaN              NaN            1          ₹ 2,000.00   \n",
       "\n",
       "     LineItem Type months  year  \n",
       "0         physical      9  2020  \n",
       "1         physical      9  2020  \n",
       "2         physical      9  2020  \n",
       "3         physical      9  2020  \n",
       "4         physical      9  2020  \n",
       "...            ...    ...   ...  \n",
       "2292      physical      5  2016  \n",
       "2293      physical      3  2016  \n",
       "2294      physical      9  2016  \n",
       "2295      physical      9  2016  \n",
       "2296      physical      9  2016  \n",
       "\n",
       "[2297 rows x 43 columns]"
      ]
     },
     "execution_count": 75,
     "metadata": {},
     "output_type": "execute_result"
    }
   ],
   "source": [
    "order"
   ]
  },
  {
   "cell_type": "code",
   "execution_count": 76,
   "metadata": {},
   "outputs": [
    {
     "data": {
      "text/plain": [
       "array([  1,   2, 999,   5,   8,  20,  10, 100,   3,  13,   4,  15,  12,\n",
       "        16,  22,  24,  50,   6,  30,  55,   9,  27,  25,  93], dtype=int64)"
      ]
     },
     "execution_count": 76,
     "metadata": {},
     "output_type": "execute_result"
    }
   ],
   "source": [
    "order['LineItem Qty'].unique()"
   ]
  },
  {
   "cell_type": "code",
   "execution_count": 77,
   "metadata": {},
   "outputs": [
    {
     "data": {
      "text/plain": [
       "year\n",
       "2016      63\n",
       "2017     118\n",
       "2018     251\n",
       "2019     210\n",
       "2020    1655\n",
       "Name: LineItem Qty, dtype: int64"
      ]
     },
     "execution_count": 77,
     "metadata": {},
     "output_type": "execute_result"
    }
   ],
   "source": [
    "order.groupby('year')['LineItem Qty'].count()"
   ]
  },
  {
   "cell_type": "code",
   "execution_count": 78,
   "metadata": {},
   "outputs": [
    {
     "data": {
      "text/plain": [
       "<AxesSubplot:ylabel='months'>"
      ]
     },
     "execution_count": 78,
     "metadata": {},
     "output_type": "execute_result"
    },
    {
     "data": {
      "image/png": "[encoded data removed]",
      "text/plain": [
       "<Figure size 432x288 with 1 Axes>"
      ]
     },
     "metadata": {
      "needs_background": "light"
     },
     "output_type": "display_data"
    }
   ],
   "source": [
    "order.groupby('months')['LineItem Qty'].count().sort_values(ascending=False).plot.barh()"
   ]
  },
  {
   "cell_type": "code",
   "execution_count": 79,
   "metadata": {},
   "outputs": [
    {
     "data": {
      "text/plain": [
       "<AxesSubplot:ylabel='year'>"
      ]
     },
     "execution_count": 79,
     "metadata": {},
     "output_type": "execute_result"
    },
    {
     "data": {
      "image/png": "[encoded data removed]",
      "text/plain": [
       "<Figure size 432x288 with 1 Axes>"
      ]
     },
     "metadata": {
      "needs_background": "light"
     },
     "output_type": "display_data"
    }
   ],
   "source": [
    "order.groupby('year')['LineItem Qty'].count().sort_values(ascending=False).plot.barh()"
   ]
  },
  {
   "cell_type": "code",
   "execution_count": 80,
   "metadata": {},
   "outputs": [
    {
     "data": {
      "text/plain": [
       "year  months\n",
       "2016  2           1\n",
       "      3           2\n",
       "      5           1\n",
       "      6          34\n",
       "      7           3\n",
       "      8           1\n",
       "      9           3\n",
       "      10          8\n",
       "      11          8\n",
       "      12          2\n",
       "2017  1           3\n",
       "      2          10\n",
       "      3           8\n",
       "      4           3\n",
       "      5           9\n",
       "      6           4\n",
       "      7          22\n",
       "      8          24\n",
       "      9           7\n",
       "      10          8\n",
       "      11          9\n",
       "      12         11\n",
       "2018  1           9\n",
       "      2          14\n",
       "      3          26\n",
       "      4          16\n",
       "      5          18\n",
       "      6          12\n",
       "      7          27\n",
       "      8          42\n",
       "      9          30\n",
       "      10         25\n",
       "      11         20\n",
       "      12         12\n",
       "2019  1          26\n",
       "      2          10\n",
       "      3          14\n",
       "      4          24\n",
       "      5          19\n",
       "      6          19\n",
       "      7          19\n",
       "      8          15\n",
       "      9          10\n",
       "      10         18\n",
       "      11         19\n",
       "      12         17\n",
       "2020  1          78\n",
       "      2          57\n",
       "      3         114\n",
       "      4         103\n",
       "      5         116\n",
       "      6         131\n",
       "      7         168\n",
       "      8         141\n",
       "      9         220\n",
       "      10        444\n",
       "      11         36\n",
       "      12         47\n",
       "Name: LineItem Qty, dtype: int64"
      ]
     },
     "execution_count": 80,
     "metadata": {},
     "output_type": "execute_result"
    }
   ],
   "source": [
    "order.groupby(['year', 'months'])['LineItem Qty'].count()"
   ]
  },
  {
   "cell_type": "code",
   "execution_count": 81,
   "metadata": {},
   "outputs": [],
   "source": [
    "order16 = order"
   ]
  },
  {
   "cell_type": "code",
   "execution_count": 82,
   "metadata": {},
   "outputs": [],
   "source": [
    "order2016 = order16.groupby(['year', 'months'])['LineItem Qty'].count()  ## This would result in a series"
   ]
  },
  {
   "cell_type": "code",
   "execution_count": 83,
   "metadata": {},
   "outputs": [],
   "source": [
    "order2016df = order2016.to_frame()  ## The series is converted into a data frame"
   ]
  },
  {
   "cell_type": "code",
   "execution_count": 84,
   "metadata": {},
   "outputs": [
    {
     "data": {
      "text/html": [
       "<div>\n",
       "<style scoped>\n",
       "    .dataframe tbody tr th:only-of-type {\n",
       "        vertical-align: middle;\n",
       "    }\n",
       "\n",
       "    .dataframe tbody tr th {\n",
       "        vertical-align: top;\n",
       "    }\n",
       "\n",
       "    .dataframe thead th {\n",
       "        text-align: right;\n",
       "    }\n",
       "</style>\n",
       "<table border=\"1\" class=\"dataframe\">\n",
       "  <thead>\n",
       "    <tr style=\"text-align: right;\">\n",
       "      <th></th>\n",
       "      <th></th>\n",
       "      <th>LineItem Qty</th>\n",
       "    </tr>\n",
       "    <tr>\n",
       "      <th>year</th>\n",
       "      <th>months</th>\n",
       "      <th></th>\n",
       "    </tr>\n",
       "  </thead>\n",
       "  <tbody>\n",
       "    <tr>\n",
       "      <th rowspan=\"10\" valign=\"top\">2016</th>\n",
       "      <th>2</th>\n",
       "      <td>1</td>\n",
       "    </tr>\n",
       "    <tr>\n",
       "      <th>3</th>\n",
       "      <td>2</td>\n",
       "    </tr>\n",
       "    <tr>\n",
       "      <th>5</th>\n",
       "      <td>1</td>\n",
       "    </tr>\n",
       "    <tr>\n",
       "      <th>6</th>\n",
       "      <td>34</td>\n",
       "    </tr>\n",
       "    <tr>\n",
       "      <th>7</th>\n",
       "      <td>3</td>\n",
       "    </tr>\n",
       "    <tr>\n",
       "      <th>8</th>\n",
       "      <td>1</td>\n",
       "    </tr>\n",
       "    <tr>\n",
       "      <th>9</th>\n",
       "      <td>3</td>\n",
       "    </tr>\n",
       "    <tr>\n",
       "      <th>10</th>\n",
       "      <td>8</td>\n",
       "    </tr>\n",
       "    <tr>\n",
       "      <th>11</th>\n",
       "      <td>8</td>\n",
       "    </tr>\n",
       "    <tr>\n",
       "      <th>12</th>\n",
       "      <td>2</td>\n",
       "    </tr>\n",
       "    <tr>\n",
       "      <th rowspan=\"12\" valign=\"top\">2017</th>\n",
       "      <th>1</th>\n",
       "      <td>3</td>\n",
       "    </tr>\n",
       "    <tr>\n",
       "      <th>2</th>\n",
       "      <td>10</td>\n",
       "    </tr>\n",
       "    <tr>\n",
       "      <th>3</th>\n",
       "      <td>8</td>\n",
       "    </tr>\n",
       "    <tr>\n",
       "      <th>4</th>\n",
       "      <td>3</td>\n",
       "    </tr>\n",
       "    <tr>\n",
       "      <th>5</th>\n",
       "      <td>9</td>\n",
       "    </tr>\n",
       "    <tr>\n",
       "      <th>6</th>\n",
       "      <td>4</td>\n",
       "    </tr>\n",
       "    <tr>\n",
       "      <th>7</th>\n",
       "      <td>22</td>\n",
       "    </tr>\n",
       "    <tr>\n",
       "      <th>8</th>\n",
       "      <td>24</td>\n",
       "    </tr>\n",
       "    <tr>\n",
       "      <th>9</th>\n",
       "      <td>7</td>\n",
       "    </tr>\n",
       "    <tr>\n",
       "      <th>10</th>\n",
       "      <td>8</td>\n",
       "    </tr>\n",
       "    <tr>\n",
       "      <th>11</th>\n",
       "      <td>9</td>\n",
       "    </tr>\n",
       "    <tr>\n",
       "      <th>12</th>\n",
       "      <td>11</td>\n",
       "    </tr>\n",
       "    <tr>\n",
       "      <th rowspan=\"12\" valign=\"top\">2018</th>\n",
       "      <th>1</th>\n",
       "      <td>9</td>\n",
       "    </tr>\n",
       "    <tr>\n",
       "      <th>2</th>\n",
       "      <td>14</td>\n",
       "    </tr>\n",
       "    <tr>\n",
       "      <th>3</th>\n",
       "      <td>26</td>\n",
       "    </tr>\n",
       "    <tr>\n",
       "      <th>4</th>\n",
       "      <td>16</td>\n",
       "    </tr>\n",
       "    <tr>\n",
       "      <th>5</th>\n",
       "      <td>18</td>\n",
       "    </tr>\n",
       "    <tr>\n",
       "      <th>6</th>\n",
       "      <td>12</td>\n",
       "    </tr>\n",
       "    <tr>\n",
       "      <th>7</th>\n",
       "      <td>27</td>\n",
       "    </tr>\n",
       "    <tr>\n",
       "      <th>8</th>\n",
       "      <td>42</td>\n",
       "    </tr>\n",
       "    <tr>\n",
       "      <th>9</th>\n",
       "      <td>30</td>\n",
       "    </tr>\n",
       "    <tr>\n",
       "      <th>10</th>\n",
       "      <td>25</td>\n",
       "    </tr>\n",
       "    <tr>\n",
       "      <th>11</th>\n",
       "      <td>20</td>\n",
       "    </tr>\n",
       "    <tr>\n",
       "      <th>12</th>\n",
       "      <td>12</td>\n",
       "    </tr>\n",
       "    <tr>\n",
       "      <th rowspan=\"12\" valign=\"top\">2019</th>\n",
       "      <th>1</th>\n",
       "      <td>26</td>\n",
       "    </tr>\n",
       "    <tr>\n",
       "      <th>2</th>\n",
       "      <td>10</td>\n",
       "    </tr>\n",
       "    <tr>\n",
       "      <th>3</th>\n",
       "      <td>14</td>\n",
       "    </tr>\n",
       "    <tr>\n",
       "      <th>4</th>\n",
       "      <td>24</td>\n",
       "    </tr>\n",
       "    <tr>\n",
       "      <th>5</th>\n",
       "      <td>19</td>\n",
       "    </tr>\n",
       "    <tr>\n",
       "      <th>6</th>\n",
       "      <td>19</td>\n",
       "    </tr>\n",
       "    <tr>\n",
       "      <th>7</th>\n",
       "      <td>19</td>\n",
       "    </tr>\n",
       "    <tr>\n",
       "      <th>8</th>\n",
       "      <td>15</td>\n",
       "    </tr>\n",
       "    <tr>\n",
       "      <th>9</th>\n",
       "      <td>10</td>\n",
       "    </tr>\n",
       "    <tr>\n",
       "      <th>10</th>\n",
       "      <td>18</td>\n",
       "    </tr>\n",
       "    <tr>\n",
       "      <th>11</th>\n",
       "      <td>19</td>\n",
       "    </tr>\n",
       "    <tr>\n",
       "      <th>12</th>\n",
       "      <td>17</td>\n",
       "    </tr>\n",
       "    <tr>\n",
       "      <th rowspan=\"12\" valign=\"top\">2020</th>\n",
       "      <th>1</th>\n",
       "      <td>78</td>\n",
       "    </tr>\n",
       "    <tr>\n",
       "      <th>2</th>\n",
       "      <td>57</td>\n",
       "    </tr>\n",
       "    <tr>\n",
       "      <th>3</th>\n",
       "      <td>114</td>\n",
       "    </tr>\n",
       "    <tr>\n",
       "      <th>4</th>\n",
       "      <td>103</td>\n",
       "    </tr>\n",
       "    <tr>\n",
       "      <th>5</th>\n",
       "      <td>116</td>\n",
       "    </tr>\n",
       "    <tr>\n",
       "      <th>6</th>\n",
       "      <td>131</td>\n",
       "    </tr>\n",
       "    <tr>\n",
       "      <th>7</th>\n",
       "      <td>168</td>\n",
       "    </tr>\n",
       "    <tr>\n",
       "      <th>8</th>\n",
       "      <td>141</td>\n",
       "    </tr>\n",
       "    <tr>\n",
       "      <th>9</th>\n",
       "      <td>220</td>\n",
       "    </tr>\n",
       "    <tr>\n",
       "      <th>10</th>\n",
       "      <td>444</td>\n",
       "    </tr>\n",
       "    <tr>\n",
       "      <th>11</th>\n",
       "      <td>36</td>\n",
       "    </tr>\n",
       "    <tr>\n",
       "      <th>12</th>\n",
       "      <td>47</td>\n",
       "    </tr>\n",
       "  </tbody>\n",
       "</table>\n",
       "</div>"
      ],
      "text/plain": [
       "             LineItem Qty\n",
       "year months              \n",
       "2016 2                  1\n",
       "     3                  2\n",
       "     5                  1\n",
       "     6                 34\n",
       "     7                  3\n",
       "     8                  1\n",
       "     9                  3\n",
       "     10                 8\n",
       "     11                 8\n",
       "     12                 2\n",
       "2017 1                  3\n",
       "     2                 10\n",
       "     3                  8\n",
       "     4                  3\n",
       "     5                  9\n",
       "     6                  4\n",
       "     7                 22\n",
       "     8                 24\n",
       "     9                  7\n",
       "     10                 8\n",
       "     11                 9\n",
       "     12                11\n",
       "2018 1                  9\n",
       "     2                 14\n",
       "     3                 26\n",
       "     4                 16\n",
       "     5                 18\n",
       "     6                 12\n",
       "     7                 27\n",
       "     8                 42\n",
       "     9                 30\n",
       "     10                25\n",
       "     11                20\n",
       "     12                12\n",
       "2019 1                 26\n",
       "     2                 10\n",
       "     3                 14\n",
       "     4                 24\n",
       "     5                 19\n",
       "     6                 19\n",
       "     7                 19\n",
       "     8                 15\n",
       "     9                 10\n",
       "     10                18\n",
       "     11                19\n",
       "     12                17\n",
       "2020 1                 78\n",
       "     2                 57\n",
       "     3                114\n",
       "     4                103\n",
       "     5                116\n",
       "     6                131\n",
       "     7                168\n",
       "     8                141\n",
       "     9                220\n",
       "     10               444\n",
       "     11                36\n",
       "     12                47"
      ]
     },
     "execution_count": 84,
     "metadata": {},
     "output_type": "execute_result"
    }
   ],
   "source": [
    "order2016df"
   ]
  },
  {
   "cell_type": "code",
   "execution_count": 85,
   "metadata": {},
   "outputs": [],
   "source": [
    "orderDataFrameYear = order2016df.unstack(level='months')    ## Now the dataframe is unstacked! Very powerful method!!"
   ]
  },
  {
   "cell_type": "code",
   "execution_count": 86,
   "metadata": {},
   "outputs": [
    {
     "data": {
      "text/html": [
       "<div>\n",
       "<style scoped>\n",
       "    .dataframe tbody tr th:only-of-type {\n",
       "        vertical-align: middle;\n",
       "    }\n",
       "\n",
       "    .dataframe tbody tr th {\n",
       "        vertical-align: top;\n",
       "    }\n",
       "\n",
       "    .dataframe thead tr th {\n",
       "        text-align: left;\n",
       "    }\n",
       "\n",
       "    .dataframe thead tr:last-of-type th {\n",
       "        text-align: right;\n",
       "    }\n",
       "</style>\n",
       "<table border=\"1\" class=\"dataframe\">\n",
       "  <thead>\n",
       "    <tr>\n",
       "      <th></th>\n",
       "      <th colspan=\"12\" halign=\"left\">LineItem Qty</th>\n",
       "    </tr>\n",
       "    <tr>\n",
       "      <th>months</th>\n",
       "      <th>1</th>\n",
       "      <th>2</th>\n",
       "      <th>3</th>\n",
       "      <th>4</th>\n",
       "      <th>5</th>\n",
       "      <th>6</th>\n",
       "      <th>7</th>\n",
       "      <th>8</th>\n",
       "      <th>9</th>\n",
       "      <th>10</th>\n",
       "      <th>11</th>\n",
       "      <th>12</th>\n",
       "    </tr>\n",
       "    <tr>\n",
       "      <th>year</th>\n",
       "      <th></th>\n",
       "      <th></th>\n",
       "      <th></th>\n",
       "      <th></th>\n",
       "      <th></th>\n",
       "      <th></th>\n",
       "      <th></th>\n",
       "      <th></th>\n",
       "      <th></th>\n",
       "      <th></th>\n",
       "      <th></th>\n",
       "      <th></th>\n",
       "    </tr>\n",
       "  </thead>\n",
       "  <tbody>\n",
       "    <tr>\n",
       "      <th>2016</th>\n",
       "      <td>0.0</td>\n",
       "      <td>1.0</td>\n",
       "      <td>2.0</td>\n",
       "      <td>0.0</td>\n",
       "      <td>1.0</td>\n",
       "      <td>34.0</td>\n",
       "      <td>3.0</td>\n",
       "      <td>1.0</td>\n",
       "      <td>3.0</td>\n",
       "      <td>8.0</td>\n",
       "      <td>8.0</td>\n",
       "      <td>2.0</td>\n",
       "    </tr>\n",
       "    <tr>\n",
       "      <th>2017</th>\n",
       "      <td>3.0</td>\n",
       "      <td>10.0</td>\n",
       "      <td>8.0</td>\n",
       "      <td>3.0</td>\n",
       "      <td>9.0</td>\n",
       "      <td>4.0</td>\n",
       "      <td>22.0</td>\n",
       "      <td>24.0</td>\n",
       "      <td>7.0</td>\n",
       "      <td>8.0</td>\n",
       "      <td>9.0</td>\n",
       "      <td>11.0</td>\n",
       "    </tr>\n",
       "    <tr>\n",
       "      <th>2018</th>\n",
       "      <td>9.0</td>\n",
       "      <td>14.0</td>\n",
       "      <td>26.0</td>\n",
       "      <td>16.0</td>\n",
       "      <td>18.0</td>\n",
       "      <td>12.0</td>\n",
       "      <td>27.0</td>\n",
       "      <td>42.0</td>\n",
       "      <td>30.0</td>\n",
       "      <td>25.0</td>\n",
       "      <td>20.0</td>\n",
       "      <td>12.0</td>\n",
       "    </tr>\n",
       "    <tr>\n",
       "      <th>2019</th>\n",
       "      <td>26.0</td>\n",
       "      <td>10.0</td>\n",
       "      <td>14.0</td>\n",
       "      <td>24.0</td>\n",
       "      <td>19.0</td>\n",
       "      <td>19.0</td>\n",
       "      <td>19.0</td>\n",
       "      <td>15.0</td>\n",
       "      <td>10.0</td>\n",
       "      <td>18.0</td>\n",
       "      <td>19.0</td>\n",
       "      <td>17.0</td>\n",
       "    </tr>\n",
       "    <tr>\n",
       "      <th>2020</th>\n",
       "      <td>78.0</td>\n",
       "      <td>57.0</td>\n",
       "      <td>114.0</td>\n",
       "      <td>103.0</td>\n",
       "      <td>116.0</td>\n",
       "      <td>131.0</td>\n",
       "      <td>168.0</td>\n",
       "      <td>141.0</td>\n",
       "      <td>220.0</td>\n",
       "      <td>444.0</td>\n",
       "      <td>36.0</td>\n",
       "      <td>47.0</td>\n",
       "    </tr>\n",
       "  </tbody>\n",
       "</table>\n",
       "</div>"
      ],
      "text/plain": [
       "       LineItem Qty                                                         \\\n",
       "months           1     2      3      4      5      6      7      8      9    \n",
       "year                                                                         \n",
       "2016            0.0   1.0    2.0    0.0    1.0   34.0    3.0    1.0    3.0   \n",
       "2017            3.0  10.0    8.0    3.0    9.0    4.0   22.0   24.0    7.0   \n",
       "2018            9.0  14.0   26.0   16.0   18.0   12.0   27.0   42.0   30.0   \n",
       "2019           26.0  10.0   14.0   24.0   19.0   19.0   19.0   15.0   10.0   \n",
       "2020           78.0  57.0  114.0  103.0  116.0  131.0  168.0  141.0  220.0   \n",
       "\n",
       "                           \n",
       "months     10    11    12  \n",
       "year                       \n",
       "2016      8.0   8.0   2.0  \n",
       "2017      8.0   9.0  11.0  \n",
       "2018     25.0  20.0  12.0  \n",
       "2019     18.0  19.0  17.0  \n",
       "2020    444.0  36.0  47.0  "
      ]
     },
     "execution_count": 86,
     "metadata": {},
     "output_type": "execute_result"
    }
   ],
   "source": [
    "orderDataFrameYear = orderDataFrameYear.fillna(0)\n",
    "orderDataFrameYear"
   ]
  },
  {
   "cell_type": "code",
   "execution_count": 87,
   "metadata": {},
   "outputs": [
    {
     "data": {
      "text/plain": [
       "<AxesSubplot:title={'center':'Breakdown of Costs'}, xlabel='year'>"
      ]
     },
     "execution_count": 87,
     "metadata": {},
     "output_type": "execute_result"
    },
    {
     "data": {
      "image/png": "[encoded data removed]",
      "text/plain": [
       "<Figure size 720x1080 with 1 Axes>"
      ]
     },
     "metadata": {
      "needs_background": "light"
     },
     "output_type": "display_data"
    }
   ],
   "source": [
    "orderDataFrameYear.plot( kind='bar', stacked=True, title='Breakdown of Costs', mark_right=True, figsize=(10, 15))  "
   ]
  },
  {
   "cell_type": "code",
   "execution_count": 88,
   "metadata": {},
   "outputs": [],
   "source": [
    "orderDataFrameMonth = order2016df.unstack(level='year') "
   ]
  },
  {
   "cell_type": "code",
   "execution_count": 89,
   "metadata": {},
   "outputs": [
    {
     "data": {
      "text/html": [
       "<div>\n",
       "<style scoped>\n",
       "    .dataframe tbody tr th:only-of-type {\n",
       "        vertical-align: middle;\n",
       "    }\n",
       "\n",
       "    .dataframe tbody tr th {\n",
       "        vertical-align: top;\n",
       "    }\n",
       "\n",
       "    .dataframe thead tr th {\n",
       "        text-align: left;\n",
       "    }\n",
       "\n",
       "    .dataframe thead tr:last-of-type th {\n",
       "        text-align: right;\n",
       "    }\n",
       "</style>\n",
       "<table border=\"1\" class=\"dataframe\">\n",
       "  <thead>\n",
       "    <tr>\n",
       "      <th></th>\n",
       "      <th colspan=\"5\" halign=\"left\">LineItem Qty</th>\n",
       "    </tr>\n",
       "    <tr>\n",
       "      <th>year</th>\n",
       "      <th>2016</th>\n",
       "      <th>2017</th>\n",
       "      <th>2018</th>\n",
       "      <th>2019</th>\n",
       "      <th>2020</th>\n",
       "    </tr>\n",
       "    <tr>\n",
       "      <th>months</th>\n",
       "      <th></th>\n",
       "      <th></th>\n",
       "      <th></th>\n",
       "      <th></th>\n",
       "      <th></th>\n",
       "    </tr>\n",
       "  </thead>\n",
       "  <tbody>\n",
       "    <tr>\n",
       "      <th>1</th>\n",
       "      <td>0.0</td>\n",
       "      <td>3.0</td>\n",
       "      <td>9.0</td>\n",
       "      <td>26.0</td>\n",
       "      <td>78.0</td>\n",
       "    </tr>\n",
       "    <tr>\n",
       "      <th>2</th>\n",
       "      <td>1.0</td>\n",
       "      <td>10.0</td>\n",
       "      <td>14.0</td>\n",
       "      <td>10.0</td>\n",
       "      <td>57.0</td>\n",
       "    </tr>\n",
       "    <tr>\n",
       "      <th>3</th>\n",
       "      <td>2.0</td>\n",
       "      <td>8.0</td>\n",
       "      <td>26.0</td>\n",
       "      <td>14.0</td>\n",
       "      <td>114.0</td>\n",
       "    </tr>\n",
       "    <tr>\n",
       "      <th>4</th>\n",
       "      <td>0.0</td>\n",
       "      <td>3.0</td>\n",
       "      <td>16.0</td>\n",
       "      <td>24.0</td>\n",
       "      <td>103.0</td>\n",
       "    </tr>\n",
       "    <tr>\n",
       "      <th>5</th>\n",
       "      <td>1.0</td>\n",
       "      <td>9.0</td>\n",
       "      <td>18.0</td>\n",
       "      <td>19.0</td>\n",
       "      <td>116.0</td>\n",
       "    </tr>\n",
       "    <tr>\n",
       "      <th>6</th>\n",
       "      <td>34.0</td>\n",
       "      <td>4.0</td>\n",
       "      <td>12.0</td>\n",
       "      <td>19.0</td>\n",
       "      <td>131.0</td>\n",
       "    </tr>\n",
       "    <tr>\n",
       "      <th>7</th>\n",
       "      <td>3.0</td>\n",
       "      <td>22.0</td>\n",
       "      <td>27.0</td>\n",
       "      <td>19.0</td>\n",
       "      <td>168.0</td>\n",
       "    </tr>\n",
       "    <tr>\n",
       "      <th>8</th>\n",
       "      <td>1.0</td>\n",
       "      <td>24.0</td>\n",
       "      <td>42.0</td>\n",
       "      <td>15.0</td>\n",
       "      <td>141.0</td>\n",
       "    </tr>\n",
       "    <tr>\n",
       "      <th>9</th>\n",
       "      <td>3.0</td>\n",
       "      <td>7.0</td>\n",
       "      <td>30.0</td>\n",
       "      <td>10.0</td>\n",
       "      <td>220.0</td>\n",
       "    </tr>\n",
       "    <tr>\n",
       "      <th>10</th>\n",
       "      <td>8.0</td>\n",
       "      <td>8.0</td>\n",
       "      <td>25.0</td>\n",
       "      <td>18.0</td>\n",
       "      <td>444.0</td>\n",
       "    </tr>\n",
       "    <tr>\n",
       "      <th>11</th>\n",
       "      <td>8.0</td>\n",
       "      <td>9.0</td>\n",
       "      <td>20.0</td>\n",
       "      <td>19.0</td>\n",
       "      <td>36.0</td>\n",
       "    </tr>\n",
       "    <tr>\n",
       "      <th>12</th>\n",
       "      <td>2.0</td>\n",
       "      <td>11.0</td>\n",
       "      <td>12.0</td>\n",
       "      <td>17.0</td>\n",
       "      <td>47.0</td>\n",
       "    </tr>\n",
       "  </tbody>\n",
       "</table>\n",
       "</div>"
      ],
      "text/plain": [
       "       LineItem Qty                         \n",
       "year           2016  2017  2018  2019   2020\n",
       "months                                      \n",
       "1               0.0   3.0   9.0  26.0   78.0\n",
       "2               1.0  10.0  14.0  10.0   57.0\n",
       "3               2.0   8.0  26.0  14.0  114.0\n",
       "4               0.0   3.0  16.0  24.0  103.0\n",
       "5               1.0   9.0  18.0  19.0  116.0\n",
       "6              34.0   4.0  12.0  19.0  131.0\n",
       "7               3.0  22.0  27.0  19.0  168.0\n",
       "8               1.0  24.0  42.0  15.0  141.0\n",
       "9               3.0   7.0  30.0  10.0  220.0\n",
       "10              8.0   8.0  25.0  18.0  444.0\n",
       "11              8.0   9.0  20.0  19.0   36.0\n",
       "12              2.0  11.0  12.0  17.0   47.0"
      ]
     },
     "execution_count": 89,
     "metadata": {},
     "output_type": "execute_result"
    }
   ],
   "source": [
    "orderDataFrameMonth = orderDataFrameMonth.fillna(0)\n",
    "orderDataFrameMonth"
   ]
  },
  {
   "cell_type": "code",
   "execution_count": 90,
   "metadata": {},
   "outputs": [
    {
     "data": {
      "text/plain": [
       "<AxesSubplot:title={'center':'Breakdown of Costs'}, xlabel='months'>"
      ]
     },
     "execution_count": 90,
     "metadata": {},
     "output_type": "execute_result"
    },
    {
     "data": {
      "image/png": "[encoded data removed]",
      "text/plain": [
       "<Figure size 720x1080 with 1 Axes>"
      ]
     },
     "metadata": {
      "needs_background": "light"
     },
     "output_type": "display_data"
    }
   ],
   "source": [
    "orderDataFrameMonth.plot( kind='bar', stacked=True, title='Breakdown of Costs', mark_right=True, figsize=(10, 15))  "
   ]
  },
  {
   "cell_type": "code",
   "execution_count": 91,
   "metadata": {},
   "outputs": [],
   "source": [
    "orderDataFrameMonthTotal = orderDataFrameYear.sum()"
   ]
  },
  {
   "cell_type": "code",
   "execution_count": 92,
   "metadata": {},
   "outputs": [
    {
     "data": {
      "text/plain": [
       "              months\n",
       "LineItem Qty  1         116.0\n",
       "              2          92.0\n",
       "              3         164.0\n",
       "              4         146.0\n",
       "              5         163.0\n",
       "              6         200.0\n",
       "              7         239.0\n",
       "              8         223.0\n",
       "              9         270.0\n",
       "              10        503.0\n",
       "              11         92.0\n",
       "              12         89.0\n",
       "dtype: float64"
      ]
     },
     "execution_count": 92,
     "metadata": {},
     "output_type": "execute_result"
    }
   ],
   "source": [
    "orderDataFrameMonthTotal"
   ]
  },
  {
   "cell_type": "code",
   "execution_count": 93,
   "metadata": {},
   "outputs": [],
   "source": [
    "for column in orderDataFrameYear:\n",
    "    orderDataFrameYear[column].astype(int)   ## Converting all the values in the dataframe to int"
   ]
  },
  {
   "cell_type": "code",
   "execution_count": 94,
   "metadata": {},
   "outputs": [],
   "source": [
    "for column in orderDataFrameMonth:\n",
    "    orderDataFrameMonth[column].astype(int)"
   ]
  },
  {
   "cell_type": "code",
   "execution_count": 95,
   "metadata": {},
   "outputs": [
    {
     "data": {
      "text/plain": [
       "array([('LineItem Qty', 1), ('LineItem Qty', 2), ('LineItem Qty', 3),\n",
       "       ('LineItem Qty', 4), ('LineItem Qty', 5), ('LineItem Qty', 6),\n",
       "       ('LineItem Qty', 7), ('LineItem Qty', 8), ('LineItem Qty', 9),\n",
       "       ('LineItem Qty', 10), ('LineItem Qty', 11), ('LineItem Qty', 12)],\n",
       "      dtype=object)"
      ]
     },
     "execution_count": 95,
     "metadata": {},
     "output_type": "execute_result"
    }
   ],
   "source": [
    "cols_to_sum_year = orderDataFrameYear.columns.values\n",
    "cols_to_sum_year"
   ]
  },
  {
   "cell_type": "code",
   "execution_count": 96,
   "metadata": {},
   "outputs": [
    {
     "data": {
      "text/html": [
       "<div>\n",
       "<style scoped>\n",
       "    .dataframe tbody tr th:only-of-type {\n",
       "        vertical-align: middle;\n",
       "    }\n",
       "\n",
       "    .dataframe tbody tr th {\n",
       "        vertical-align: top;\n",
       "    }\n",
       "\n",
       "    .dataframe thead tr th {\n",
       "        text-align: left;\n",
       "    }\n",
       "\n",
       "    .dataframe thead tr:last-of-type th {\n",
       "        text-align: right;\n",
       "    }\n",
       "</style>\n",
       "<table border=\"1\" class=\"dataframe\">\n",
       "  <thead>\n",
       "    <tr>\n",
       "      <th></th>\n",
       "      <th colspan=\"12\" halign=\"left\">LineItem Qty</th>\n",
       "      <th>Total</th>\n",
       "    </tr>\n",
       "    <tr>\n",
       "      <th>months</th>\n",
       "      <th>1</th>\n",
       "      <th>2</th>\n",
       "      <th>3</th>\n",
       "      <th>4</th>\n",
       "      <th>5</th>\n",
       "      <th>6</th>\n",
       "      <th>7</th>\n",
       "      <th>8</th>\n",
       "      <th>9</th>\n",
       "      <th>10</th>\n",
       "      <th>11</th>\n",
       "      <th>12</th>\n",
       "      <th></th>\n",
       "    </tr>\n",
       "    <tr>\n",
       "      <th>year</th>\n",
       "      <th></th>\n",
       "      <th></th>\n",
       "      <th></th>\n",
       "      <th></th>\n",
       "      <th></th>\n",
       "      <th></th>\n",
       "      <th></th>\n",
       "      <th></th>\n",
       "      <th></th>\n",
       "      <th></th>\n",
       "      <th></th>\n",
       "      <th></th>\n",
       "      <th></th>\n",
       "    </tr>\n",
       "  </thead>\n",
       "  <tbody>\n",
       "    <tr>\n",
       "      <th>2016</th>\n",
       "      <td>0.0</td>\n",
       "      <td>1.0</td>\n",
       "      <td>2.0</td>\n",
       "      <td>0.0</td>\n",
       "      <td>1.0</td>\n",
       "      <td>34.0</td>\n",
       "      <td>3.0</td>\n",
       "      <td>1.0</td>\n",
       "      <td>3.0</td>\n",
       "      <td>8.0</td>\n",
       "      <td>8.0</td>\n",
       "      <td>2.0</td>\n",
       "      <td>63.0</td>\n",
       "    </tr>\n",
       "    <tr>\n",
       "      <th>2017</th>\n",
       "      <td>3.0</td>\n",
       "      <td>10.0</td>\n",
       "      <td>8.0</td>\n",
       "      <td>3.0</td>\n",
       "      <td>9.0</td>\n",
       "      <td>4.0</td>\n",
       "      <td>22.0</td>\n",
       "      <td>24.0</td>\n",
       "      <td>7.0</td>\n",
       "      <td>8.0</td>\n",
       "      <td>9.0</td>\n",
       "      <td>11.0</td>\n",
       "      <td>118.0</td>\n",
       "    </tr>\n",
       "    <tr>\n",
       "      <th>2018</th>\n",
       "      <td>9.0</td>\n",
       "      <td>14.0</td>\n",
       "      <td>26.0</td>\n",
       "      <td>16.0</td>\n",
       "      <td>18.0</td>\n",
       "      <td>12.0</td>\n",
       "      <td>27.0</td>\n",
       "      <td>42.0</td>\n",
       "      <td>30.0</td>\n",
       "      <td>25.0</td>\n",
       "      <td>20.0</td>\n",
       "      <td>12.0</td>\n",
       "      <td>251.0</td>\n",
       "    </tr>\n",
       "    <tr>\n",
       "      <th>2019</th>\n",
       "      <td>26.0</td>\n",
       "      <td>10.0</td>\n",
       "      <td>14.0</td>\n",
       "      <td>24.0</td>\n",
       "      <td>19.0</td>\n",
       "      <td>19.0</td>\n",
       "      <td>19.0</td>\n",
       "      <td>15.0</td>\n",
       "      <td>10.0</td>\n",
       "      <td>18.0</td>\n",
       "      <td>19.0</td>\n",
       "      <td>17.0</td>\n",
       "      <td>210.0</td>\n",
       "    </tr>\n",
       "    <tr>\n",
       "      <th>2020</th>\n",
       "      <td>78.0</td>\n",
       "      <td>57.0</td>\n",
       "      <td>114.0</td>\n",
       "      <td>103.0</td>\n",
       "      <td>116.0</td>\n",
       "      <td>131.0</td>\n",
       "      <td>168.0</td>\n",
       "      <td>141.0</td>\n",
       "      <td>220.0</td>\n",
       "      <td>444.0</td>\n",
       "      <td>36.0</td>\n",
       "      <td>47.0</td>\n",
       "      <td>1655.0</td>\n",
       "    </tr>\n",
       "  </tbody>\n",
       "</table>\n",
       "</div>"
      ],
      "text/plain": [
       "       LineItem Qty                                                         \\\n",
       "months            1     2      3      4      5      6      7      8      9   \n",
       "year                                                                         \n",
       "2016            0.0   1.0    2.0    0.0    1.0   34.0    3.0    1.0    3.0   \n",
       "2017            3.0  10.0    8.0    3.0    9.0    4.0   22.0   24.0    7.0   \n",
       "2018            9.0  14.0   26.0   16.0   18.0   12.0   27.0   42.0   30.0   \n",
       "2019           26.0  10.0   14.0   24.0   19.0   19.0   19.0   15.0   10.0   \n",
       "2020           78.0  57.0  114.0  103.0  116.0  131.0  168.0  141.0  220.0   \n",
       "\n",
       "                            Total  \n",
       "months     10    11    12          \n",
       "year                               \n",
       "2016      8.0   8.0   2.0    63.0  \n",
       "2017      8.0   9.0  11.0   118.0  \n",
       "2018     25.0  20.0  12.0   251.0  \n",
       "2019     18.0  19.0  17.0   210.0  \n",
       "2020    444.0  36.0  47.0  1655.0  "
      ]
     },
     "execution_count": 96,
     "metadata": {},
     "output_type": "execute_result"
    }
   ],
   "source": [
    "orderDataFrameYear['Total'] = orderDataFrameYear[cols_to_sum_year].sum(axis = 1)\n",
    "orderDataFrameYear"
   ]
  },
  {
   "cell_type": "code",
   "execution_count": 97,
   "metadata": {},
   "outputs": [
    {
     "data": {
      "text/plain": [
       "array([('LineItem Qty', 2016), ('LineItem Qty', 2017),\n",
       "       ('LineItem Qty', 2018), ('LineItem Qty', 2019),\n",
       "       ('LineItem Qty', 2020)], dtype=object)"
      ]
     },
     "execution_count": 97,
     "metadata": {},
     "output_type": "execute_result"
    }
   ],
   "source": [
    "cols_to_sum_month = orderDataFrameMonth.columns.values\n",
    "cols_to_sum_month"
   ]
  },
  {
   "cell_type": "code",
   "execution_count": 98,
   "metadata": {},
   "outputs": [
    {
     "data": {
      "text/html": [
       "<div>\n",
       "<style scoped>\n",
       "    .dataframe tbody tr th:only-of-type {\n",
       "        vertical-align: middle;\n",
       "    }\n",
       "\n",
       "    .dataframe tbody tr th {\n",
       "        vertical-align: top;\n",
       "    }\n",
       "\n",
       "    .dataframe thead tr th {\n",
       "        text-align: left;\n",
       "    }\n",
       "\n",
       "    .dataframe thead tr:last-of-type th {\n",
       "        text-align: right;\n",
       "    }\n",
       "</style>\n",
       "<table border=\"1\" class=\"dataframe\">\n",
       "  <thead>\n",
       "    <tr>\n",
       "      <th></th>\n",
       "      <th colspan=\"5\" halign=\"left\">LineItem Qty</th>\n",
       "      <th>Total</th>\n",
       "    </tr>\n",
       "    <tr>\n",
       "      <th>year</th>\n",
       "      <th>2016</th>\n",
       "      <th>2017</th>\n",
       "      <th>2018</th>\n",
       "      <th>2019</th>\n",
       "      <th>2020</th>\n",
       "      <th></th>\n",
       "    </tr>\n",
       "    <tr>\n",
       "      <th>months</th>\n",
       "      <th></th>\n",
       "      <th></th>\n",
       "      <th></th>\n",
       "      <th></th>\n",
       "      <th></th>\n",
       "      <th></th>\n",
       "    </tr>\n",
       "  </thead>\n",
       "  <tbody>\n",
       "    <tr>\n",
       "      <th>1</th>\n",
       "      <td>0.0</td>\n",
       "      <td>3.0</td>\n",
       "      <td>9.0</td>\n",
       "      <td>26.0</td>\n",
       "      <td>78.0</td>\n",
       "      <td>116.0</td>\n",
       "    </tr>\n",
       "    <tr>\n",
       "      <th>2</th>\n",
       "      <td>1.0</td>\n",
       "      <td>10.0</td>\n",
       "      <td>14.0</td>\n",
       "      <td>10.0</td>\n",
       "      <td>57.0</td>\n",
       "      <td>92.0</td>\n",
       "    </tr>\n",
       "    <tr>\n",
       "      <th>3</th>\n",
       "      <td>2.0</td>\n",
       "      <td>8.0</td>\n",
       "      <td>26.0</td>\n",
       "      <td>14.0</td>\n",
       "      <td>114.0</td>\n",
       "      <td>164.0</td>\n",
       "    </tr>\n",
       "    <tr>\n",
       "      <th>4</th>\n",
       "      <td>0.0</td>\n",
       "      <td>3.0</td>\n",
       "      <td>16.0</td>\n",
       "      <td>24.0</td>\n",
       "      <td>103.0</td>\n",
       "      <td>146.0</td>\n",
       "    </tr>\n",
       "    <tr>\n",
       "      <th>5</th>\n",
       "      <td>1.0</td>\n",
       "      <td>9.0</td>\n",
       "      <td>18.0</td>\n",
       "      <td>19.0</td>\n",
       "      <td>116.0</td>\n",
       "      <td>163.0</td>\n",
       "    </tr>\n",
       "    <tr>\n",
       "      <th>6</th>\n",
       "      <td>34.0</td>\n",
       "      <td>4.0</td>\n",
       "      <td>12.0</td>\n",
       "      <td>19.0</td>\n",
       "      <td>131.0</td>\n",
       "      <td>200.0</td>\n",
       "    </tr>\n",
       "    <tr>\n",
       "      <th>7</th>\n",
       "      <td>3.0</td>\n",
       "      <td>22.0</td>\n",
       "      <td>27.0</td>\n",
       "      <td>19.0</td>\n",
       "      <td>168.0</td>\n",
       "      <td>239.0</td>\n",
       "    </tr>\n",
       "    <tr>\n",
       "      <th>8</th>\n",
       "      <td>1.0</td>\n",
       "      <td>24.0</td>\n",
       "      <td>42.0</td>\n",
       "      <td>15.0</td>\n",
       "      <td>141.0</td>\n",
       "      <td>223.0</td>\n",
       "    </tr>\n",
       "    <tr>\n",
       "      <th>9</th>\n",
       "      <td>3.0</td>\n",
       "      <td>7.0</td>\n",
       "      <td>30.0</td>\n",
       "      <td>10.0</td>\n",
       "      <td>220.0</td>\n",
       "      <td>270.0</td>\n",
       "    </tr>\n",
       "    <tr>\n",
       "      <th>10</th>\n",
       "      <td>8.0</td>\n",
       "      <td>8.0</td>\n",
       "      <td>25.0</td>\n",
       "      <td>18.0</td>\n",
       "      <td>444.0</td>\n",
       "      <td>503.0</td>\n",
       "    </tr>\n",
       "    <tr>\n",
       "      <th>11</th>\n",
       "      <td>8.0</td>\n",
       "      <td>9.0</td>\n",
       "      <td>20.0</td>\n",
       "      <td>19.0</td>\n",
       "      <td>36.0</td>\n",
       "      <td>92.0</td>\n",
       "    </tr>\n",
       "    <tr>\n",
       "      <th>12</th>\n",
       "      <td>2.0</td>\n",
       "      <td>11.0</td>\n",
       "      <td>12.0</td>\n",
       "      <td>17.0</td>\n",
       "      <td>47.0</td>\n",
       "      <td>89.0</td>\n",
       "    </tr>\n",
       "  </tbody>\n",
       "</table>\n",
       "</div>"
      ],
      "text/plain": [
       "       LineItem Qty                           Total\n",
       "year           2016  2017  2018  2019   2020       \n",
       "months                                             \n",
       "1               0.0   3.0   9.0  26.0   78.0  116.0\n",
       "2               1.0  10.0  14.0  10.0   57.0   92.0\n",
       "3               2.0   8.0  26.0  14.0  114.0  164.0\n",
       "4               0.0   3.0  16.0  24.0  103.0  146.0\n",
       "5               1.0   9.0  18.0  19.0  116.0  163.0\n",
       "6              34.0   4.0  12.0  19.0  131.0  200.0\n",
       "7               3.0  22.0  27.0  19.0  168.0  239.0\n",
       "8               1.0  24.0  42.0  15.0  141.0  223.0\n",
       "9               3.0   7.0  30.0  10.0  220.0  270.0\n",
       "10              8.0   8.0  25.0  18.0  444.0  503.0\n",
       "11              8.0   9.0  20.0  19.0   36.0   92.0\n",
       "12              2.0  11.0  12.0  17.0   47.0   89.0"
      ]
     },
     "execution_count": 98,
     "metadata": {},
     "output_type": "execute_result"
    }
   ],
   "source": [
    "orderDataFrameMonth['Total'] = orderDataFrameMonth[cols_to_sum_month].sum(axis = 1)\n",
    "orderDataFrameMonth"
   ]
  },
  {
   "cell_type": "code",
   "execution_count": 99,
   "metadata": {},
   "outputs": [
    {
     "data": {
      "image/png": "[encoded data removed]",
      "text/plain": [
       "<Figure size 1440x1440 with 1 Axes>"
      ]
     },
     "metadata": {
      "needs_background": "light"
     },
     "output_type": "display_data"
    }
   ],
   "source": [
    "df_total = orderDataFrameMonth['Total']\n",
    "df = orderDataFrameMonth.iloc[:, 0:5]\n",
    "figure7 = df.plot(kind='barh',stacked = True, title = 'Analysis of Number of Orders Per Month Per Year', mark_right = True, figsize=(20, 20))\n",
    "\n",
    "df_rel = df[df.columns[1:]].div(df_total, 0)*100\n",
    "\n",
    "for n in df_rel:\n",
    "    for i, (cs, ab, pc, tot) in enumerate(zip(df.iloc[:, 1:].cumsum(1)[n], df[n], df_rel[n], df_total)):\n",
    "        if pc >= 30:\n",
    "            plt.text(cs - ab/2, i, str(np.round(pc, 1)) + '%', va='center', ha='center')\n",
    "        elif (pc >=10 and pc < 30):\n",
    "            plt.text(cs - ab/2, i, str(np.round(pc, 1)) + '%', va='center', ha='center', rotation=90)\n",
    "\n",
    "plt.savefig('edatask7.pdf')"
   ]
  },
  {
   "cell_type": "code",
   "execution_count": 100,
   "metadata": {},
   "outputs": [
    {
     "data": {
      "text/plain": [
       "array(['Sony PlayStation PS2 Gaming Console 150 GB Hard Disk With 50 Games Preloaded(Black)',\n",
       "       'Vmax HX 750 Quadcopter Drone (No Camera)',\n",
       "       'Yoshops VR BOX Virtual Reality Glasses Headset 2.0 View Suitable For 4-6 Inch Smartphones',\n",
       "       'Sony PlayStation PS3 Console Slim 320 GB (Black)',\n",
       "       'Barbie Doll (pink)', 'HX-713 Remote Control Helicopter',\n",
       "       'Puppy House Coin Piggy Bank',\n",
       "       'The Amazing Spider Man Micro Drone Q Series Hyun Lights Upgraded Quadcopter Headless Mode One Key Features',\n",
       "       'Super Power JCB Truck Construction Loader Excavator Crane Toys',\n",
       "       'Falcon Drone Four Axis Aircraft with 2.4 GHz RC, Blade Guard, Headless Mode LED Without Camera',\n",
       "       'Kids Drone Quadcopter 2.4G 6-Channel Without Camera',\n",
       "       'Sony PlayStation PS1 with in-built DVD Player (Black)',\n",
       "       'VMax HX763 Vision Drone 2.4GHz RC Quad-copter Headless Mode One Key Without Camera',\n",
       "       'HX770 V-Max Aircraft Drone',\n",
       "       'Diabolo Captain America Civil War Q Series Hyun Lights Upgraded Mini Drone Without Camera',\n",
       "       'Avengers Captain America Drone Four Axis Aircraft with 2.4 GHz Without Camera',\n",
       "       'Spider Man Mini Drone', 'Zebion Gamepad',\n",
       "       'Hot Wheels Car 5 Gift Pack',\n",
       "       'Zebronics ZEBVR100 Virtual Reality Kit VR box 3D 360 Degree',\n",
       "       'HX708 Remote Control Helicopter',\n",
       "       'Upstox Free Demat & Trading Account Get Free Gift (Wallet,Bag,Earphone) Value of Rs.999 from Yoshops.com',\n",
       "       'HX-715 Flying Helicopter With Remote Control Toy',\n",
       "       'Vmax Voyager HX756 Drones Without Camera',\n",
       "       'Zebronics Radiant Multimedia Gaming Keyboard',\n",
       "       'Minions Mini Drone', 'Chhota Bheem Remote Control Car',\n",
       "       'Barbie Doll Toy Combo pack(2 Pack)',\n",
       "       'S52 Durable King Drone No Camera',\n",
       "       'Drone Workshop Training Program',\n",
       "       'Zebronics Card Reader VR BOX Special Combo',\n",
       "       'Navigator Quadcopter Remote Control Drone',\n",
       "       'Sony PlayStation PS4 Slim 1TB Console(Black)',\n",
       "       'Magic Tracks Bend Flex & Glow Racetrack with LED Flashing Race Cars Battery Operated',\n",
       "       'King Driver Remote Control Car',\n",
       "       'Super Aeroplanist Power Aeroplane Wired Rotating Plane',\n",
       "       'QY66 D1 Drone - 6 Axis Gyro RC Quadcopter Without camera',\n",
       "       'Zebronics ZEB-VR Virtual Reality Headset VR BOX',\n",
       "       '3 Wheeled Scooter For Kids',\n",
       "       'SONY PlayStation PS4 PRO 1TB Hard Disk(Black)',\n",
       "       'Sky King Drone 6 Axis Gyro RC Quadcopter Without camera',\n",
       "       'Toy Family Doll House Set', 'Toy Gundam Robot with Gun (Red)',\n",
       "       'Solanki King Car Bugatti Style Steering Radio Control Rechargeable Car',\n",
       "       'Cheetah Construction Truck with Flash Excavator',\n",
       "       'Inteligent cute white tom cat with touch recording story & music',\n",
       "       'CHOTTA BHEEM Mini English learning laptop',\n",
       "       'Bulldozer Hercules Power Driving Super Truck (Yellow)',\n",
       "       'Batman rc Car with Remote Control with Rechargeable Batteries & Charger',\n",
       "       'Combo Set of 6 Pull Back Toy Car Small',\n",
       "       'Mini VR BOX Virtual Reality Headsets with ultra 3D glasses Compatible with Android and IOS Devices (Blue, Black)',\n",
       "       'Free Gift Value of Rs.999 and Get Free Paytm Money Demat Account',\n",
       "       'Hammer Airflow True Wireless Earbud with Mic (Black & White), 5 Hours Playtime,with Magnetic Charging case (300mah),Built-in Voice Assistant & Bluetooth 5.0',\n",
       "       'Kasi yatra set silk cotton fabric decorated with rich kundans, brooches and laces',\n",
       "       'Wedding Doll Toy',\n",
       "       'Family Doll and Barbie doll set Toy Combo pack',\n",
       "       'Combo pack Toys Savoir Robot and Barbie doll',\n",
       "       'Kitchen Utensil Cooking Toy Cookware Set',\n",
       "       'Musical Jazz Drum Set Toy', 'Jazz Drum Set with Chair Toy',\n",
       "       'Train With Track light music battery operated train toy',\n",
       "       'Funny Bricks and Blocks Set', 'Vogue Girl Beautiful Fashion Doll',\n",
       "       'Flying Avengers Hero Induction Control helicopter',\n",
       "       'Bowling Game Set 10 Bottles & 2 Balls Multi Colour',\n",
       "       'Sensor Flying Helicopter with charger', 'BEN 10 Projector Watch',\n",
       "       'Pluto Programmable Smartphone Controlled Nano Drone',\n",
       "       'Little Chef Kitchen Set With Convertible Suitcase',\n",
       "       'Ultramodern Bullet Train Game Set', 'Hohot Singing Doll (Pink)',\n",
       "       'Plastic Smart Stick Intelligence Educational Building Blocks Construction Kids Toys (Multicolor)',\n",
       "       'Musical Dancing Boys with Flashing Lights Toys for Babies,Kids,Girls,Boys',\n",
       "       '3.7V 275mAH Lithium Polymer(LiPo) Rechargeable Battery for RC Drone',\n",
       "       'Mions Mini Skateboard for Kids with Skating Kit(helmet+elbow+knee)',\n",
       "       'Big Foot Mini Monster Truck',\n",
       "       'Ladies Small Hand Bag Color(Balck,Pink,Green)',\n",
       "       'Piggy Bank Saving Coin Box', 'Teddy Tiger Home Décor Soft Toy',\n",
       "       'Color Clay Set for Kids Children Colors Air Dry Clay',\n",
       "       'Fruits Shape Eraser For Kids Best Birthday Gifts',\n",
       "       'Magnetic Alphabet Letters and Numbers for Kids Learning',\n",
       "       'Hammer Smart Watch Pulse 2.0 with Blood Oxygen Monitoring,Calling and Activity Tracker',\n",
       "       'Hammer KO 2.0 Sports Truly Wireless Earbuds with Type C Bluetooth 5.0 Headset(Black)',\n",
       "       'Hammer Sting Lite In-Ear Wireless Bluetooth Neckband Earphones Black',\n",
       "       'Hammer Airflow True Wireless Earbuds (Blue), 5 Hours Playtime, with Magnetic Charging case (300mah),Built-in Voice Assistant & Bluetooth 5.0',\n",
       "       'Hammer Pulse Oximeter Unisex Smartwatch with Body-Temp Sensor Monitoring, Calling and Activity Tracker',\n",
       "       'Hammer Sting 2.0 Wireless Bluetooth Neckband Earphones Black with Long Battery Life',\n",
       "       'Reliance Jio Phone',\n",
       "       'Boat Rockerz 255 Wireless Bluetooth Headset with Mic (Black)',\n",
       "       'boAT Airdopes X3 Bass Wireless Earbuds with Charging Case (White)',\n",
       "       'Boat Rockerz 530 Foldable Bluetooth Headphone with Mic (Carbon Black)',\n",
       "       'Reliance Jio Phone 2',\n",
       "       'Samsung Level U Bluetooth Wireless in-Ear Headphones With Mic (Black)',\n",
       "       'Boat Nirvanaa Uno Wired In-ear Earphones with Mic (Black)',\n",
       "       'Boat Rockerz 225 Plastic Wireless Bluetooth Headset with Mic (Black)',\n",
       "       'JBL Tempo On-Ear Headphone With Mic – MS176 (Black)',\n",
       "       'JBL Tempo On-Ear Headphone',\n",
       "       'Sony On-Ear Phone With Microphone Wired Headphones MS177',\n",
       "       'Mi Neckband Bluetooth Headset with Mic (Black)',\n",
       "       'Boat Rockerz 335 STEREO EARPHONES (Black/Gold)',\n",
       "       'Samsung U Flex Wireless Bluetooth Flexible Headphones with Mic (Black)',\n",
       "       'BOSE Sound True SQ2 Headphones Pouch (Black)',\n",
       "       'Lava Captain N1 Red', 'Zebronics H-100HM Headphone with Mic',\n",
       "       'Sony MDR-G45LP On-Ear Street Wired Headphone',\n",
       "       'Samsung Earphones With Mic Tuned by AKG (Black)',\n",
       "       'Sony EX31BN Noise-Cancelling Bluetooth® In-ear Headphones',\n",
       "       'boAt BassHeads 225 Wired Headphones with Mic and Carrying Case (Black)',\n",
       "       'JBL C100SI Wired Headphones (Black,Red,White)',\n",
       "       'Nokia BH-103 Bluetooth Stereo Headset with Mic',\n",
       "       'OnePlus Bullets Wireless 3 Bluetooth Headphone(Black)',\n",
       "       'Boat Super EXTRA BASS HEADS 225 WIRED WITH MIC (Black)',\n",
       "       'Boat BassHeads 160 with Mic Wired Stereo Headset (Black)',\n",
       "       'MI 10000mAH Li-Polymer Power Bank (Black)',\n",
       "       'REALME YOUTH BUDS Wireless Bluetooth Headphone',\n",
       "       'Lg Tone Pro Hbs-750 Bluetooth Headset',\n",
       "       'SAMSUNG Travel Adapter White Battery Charger',\n",
       "       'Samsung Universal Mobile Charger USB Power Wall Adapter',\n",
       "       'boAt BassHeads 229 Metal Earphones Hifi Stereo Headsets Metal Headphones With Mic',\n",
       "       'Realme Buds Wireless BlueTooth Headset(Black)',\n",
       "       'Auto ePass 2003 FIPS USB Token', 'Celkon C107 Black',\n",
       "       'Boat BassHeads 250 with Hifi Sound Effect, in-line mic, Clear Human Voice,Noise Isolation With Precise Bass Wired Earphones (Black)',\n",
       "       'Boat Rockerz 225 Metal Wireless Bluetooth Headset with Mic (Black)',\n",
       "       'Mi Wired Headphones with Mic Ultra-Deep Bass (Black)',\n",
       "       'REALME Buds Air Tone Wireless Headphone',\n",
       "       'REALME BUDS PLUS Wireless Bluetooth Ears Buds Headphone',\n",
       "       'Realme Buds 3 Wired EARPHONE(Black)',\n",
       "       'Candytech H111i Supersonic Bass earphone Wired Headset With Mic',\n",
       "       'I-Koson Earphones with Microphone',\n",
       "       'Philip SHQ2305WS Wired Headphones (Black,White)',\n",
       "       'YoShops Multi Pin Cable 4in1',\n",
       "       'Bluedio i4 Stereo Bluetooth Earphone',\n",
       "       'Sony MDR-EX255AP In-Ear Headphones with Mic (Black)',\n",
       "       'Skullcandy Earphone With Pouch Bag',\n",
       "       'Zebronics ZEB-EM750 Headphone with Mic',\n",
       "       'Boat BASS HEADS 152 (Black)',\n",
       "       'Boat BassHeads 225 Super Extra Bass Headphone (Black)',\n",
       "       'ZEBRONICS All-In-One USB Card Reader',\n",
       "       'JBL SH12 WIRELESS Bluetooth HEADPHONE',\n",
       "       'REALME Buds Wireless Bluetooth Headphone',\n",
       "       'sandisk 8 gb memory card',\n",
       "       'Realme Buds Wireless BT-R3 BlueTooth Headphone(Black)',\n",
       "       'SYSKA Wireless EARPHONES H-15 BlueTooth Headphone(Black)',\n",
       "       'JBL A005 Portable Led Lightning Wireless Bluetooth Speaker',\n",
       "       'Realme Buds Wireless 2 Bluetooth In the Ear Headphone (Black)',\n",
       "       'Samsung-Metro-350-White', 'I Kall K-66 White',\n",
       "       'AmbranePowerBank P-1111(white,Blue)', 'AmbranePowerBank P-1310',\n",
       "       'YO Earpods With Mic Compatible with Apple Phone',\n",
       "       'Philip SHE 3590WT/98 Headphone (White)',\n",
       "       'Yo 400 Wireless Bluetooth Headphones (Black)',\n",
       "       'USB LED Light Lamp for Computer Laptop-10PC',\n",
       "       'Quantum QHM 6602-M 6600 mAh(White)', 'Mobile Battery',\n",
       "       'Wireless Mouse,Multi Charger, Universal Adaptor,Head Phone with Mic,Laptop Led Light',\n",
       "       'Zebronics ZEB CR-45 sd card reader',\n",
       "       'Zebronics USB Type C Cable 1 Meter Charging Cable for Samsung, Nokia, LG, HTC, Lenovo, Gionee and other smart phone.(Black)',\n",
       "       'Yo145 OTG Cable', 'Zebronics BH330 Bluetooth Headphones',\n",
       "       'Zebronics Blue Bird Bluetooth Earphones',\n",
       "       'Zebronics BH504 Bluetooth Headphones with Mic',\n",
       "       'Selfie Stick with Auxiliary Cable',\n",
       "       'Yo990 Mobile Fan Multicolour', 'Zebronics 2400 mAh Power Bank',\n",
       "       'Onlite Wireless Bluetooth Headphone With Mic (Black)',\n",
       "       'JBL T280A In Ear Headphone', '150Mbps Wireless Nano USB Adapter',\n",
       "       \"Skullcandy S2IKDY-003-Ink'd 2.0 Earbud Headphones with Mic\",\n",
       "       'Mini Mushroom Portable Bluetooth Mobile/Tablet Speaker',\n",
       "       'JBL C300SI Wired Headphones', 'Samsung Blue Earphone Pouch',\n",
       "       'Samsung Ring Stand Holder Gold', 'Bose Earphone With Pouch Black',\n",
       "       'IPHONE Mobile Charger (White)', 'I Phone car charger',\n",
       "       'Car Charger with Dual USB',\n",
       "       'Dhoni Printed Back Case Cover for Samsung J7',\n",
       "       'Jackly Screwdriver Set Tool Kit(Pack of 32)',\n",
       "       'Sony-MDR-EX15LP In-Ear Headphones with Mic (Black)',\n",
       "       'Sony MDR-EX15AP In-Ear Headphones with Mic (Black)',\n",
       "       'Sony AS210 Sports In-ear Headphones',\n",
       "       'Zebronics SAGA Portable Bluetooth wireless speaker',\n",
       "       'Zebronics ZEB-EM800 Wired Headset with Mic',\n",
       "       'Sandisk Ultra Dual 16gb OTG Pen Drive',\n",
       "       'ONLITE HF-8 Champ ECONOMY SERIES HI-FI EARPHONE WITH MIC (Black,White)',\n",
       "       'Nokia 105 Single sim (Black)',\n",
       "       'Ui Smart 5605N keypad phone Dual Sim(Black)',\n",
       "       'Samsung Galaxy M01 Core 1GB RAM with 16GB Storage (Black,Blue,Red)',\n",
       "       'Samsung Galaxy M01 Core 2GB RAM with 32GB Storage (Black,Blue,Red)',\n",
       "       'Realme R-260 Youth BUDS 8 WIRE LES HEADPHONES',\n",
       "       'UBON BASS-FACTORY bt-5100 WIRELESS HEADPHONE',\n",
       "       'Realme 730 Wireless Bluetooth Headphone',\n",
       "       'UBON BASS ARMY Wireless Bluetooth Headphone',\n",
       "       'SanDisk 16 GB memory card', 'sandisk 32 gb memory card',\n",
       "       'UBon 10000 mAh Power Bank (Black)',\n",
       "       'SELFIE STICK cable take pole(Black)',\n",
       "       'Unix Power Bank 11000 MAH(White)', 'Micromax X412 (Black)',\n",
       "       'Micromax X381(Black)',\n",
       "       'Itel A23 Storage 8 GB, 1 GB RAM Jio Sim support',\n",
       "       'Itel U10 (Black)', 'Lava A1 Josh (Black)',\n",
       "       'Itel A25 Storage 16 GB, 1 GB RAM',\n",
       "       'Candytech AirCandy Bluetooth Earbuds(White)',\n",
       "       'Candytech SPEEDO Dual USB Charger with 2.6 Amp Power',\n",
       "       'Candytech Power Series CT-PB9i 10000 mAh Power Bank',\n",
       "       'Candytech Power Series CT-PB10i 20000 mAh Power Bank',\n",
       "       'Realme Youth Buds Wireless Magnetic BlueTooth Headphone(Black)',\n",
       "       'Realme Buds 3 Wire Headphone(Black)',\n",
       "       'YOSHOPS TRIPOD STAND 3110(Black)',\n",
       "       'Boat 325 Wireless Magnetic BlueTooth Headphone(Blue)',\n",
       "       'UBON CONCH Wireless Bluetooth Speaker',\n",
       "       'UBON ROAR SERIES Wired Earphone',\n",
       "       'UBON GBT-30A WOODEN Wireless Bluetooth Speaker for mobile,laptop,pc',\n",
       "       'UBON OCTO BASS SERIES Wired Headphone',\n",
       "       'UBON ROCKET SERIES Wired Headphone',\n",
       "       'Realme STEREO Wired Headphone(Black)',\n",
       "       'TG 113 Wireless Bluetooth Speaker',\n",
       "       'WS887 Mini Wireless Bluetooth Speaker',\n",
       "       'GT-112 Portable Wireless Bluetooth Speaker',\n",
       "       'UBON Audiohive NECKBAND Wireless Bluetooth Headphone(Black)',\n",
       "       'UBON ROYAL BASS SERIES Wireless Bluetooth Headphone',\n",
       "       'A0-105 Portable Wireless Bluetooth Speaker',\n",
       "       'A-031 Portable Wireless Bluetooth Speaker',\n",
       "       'Realme STEREO Wired Earphone(Black)',\n",
       "       'Realme R40 Wired 3.5mm EARPHONE(Black)',\n",
       "       'PUBG Wired EARPHONE(Black)',\n",
       "       'REALME RMA 950 BT EXTRA BASS Wireless Bluetooth Headphone',\n",
       "       'REALME BASS HEROS Wireless Bluetooth Headphone',\n",
       "       'OnePlus Buds Wireless 2 Bluetooth In the Ear Headphone (Black)',\n",
       "       'Yoshops Extra Bass Stereo Headphone With Mic (Black)',\n",
       "       'Zebronics External TV Tuner Card TL1010',\n",
       "       'Zebronics ZEB-U740 UPS 600VA',\n",
       "       'Dell KB216 Multimedia USB Wired Keyboard',\n",
       "       'QUECHUA Ultra-Compact Backpack10-Litre - Black',\n",
       "       'QUECHUA Mini Laptop Bag 10 Liter- Red/Black',\n",
       "       'Zebronics ZEB-16A 16 inch (39.6 cm) LED Monitor Full HD',\n",
       "       'Y0-100 Wireless Mouse',\n",
       "       'Zebion Ergo PS2 USB Keyboard (Black and Red Keys)',\n",
       "       'Ultra Thin Keyboard Cover for Laptop Keyboard',\n",
       "       'Casio MJ-12SA Desktop Calculator -Black',\n",
       "       'Zebronics 18.5 inch Full HD LED Monitor',\n",
       "       'Zebronics ZEB-A19 19-inch LED Monitor',\n",
       "       'QUECHUA LAPTOP Bag BACKPACK 20 Litre - GREY',\n",
       "       'Micromax Canvas Lapbook',\n",
       "       'iBall Excelance CompBook 11.6-inch Laptop',\n",
       "       'Lenovo IdeaPad 100S-11 11.6-inch Laptop',\n",
       "       'Zebion Glider Wireless Mouse(Black,White)',\n",
       "       'Zebronics ZEB-K11 USB keyboard (Black)',\n",
       "       'Quantum mini usb keyboard', 'Yo215 Wireless Keyboard',\n",
       "       'Zebronics Neon Optical USB Mouse Black',\n",
       "       'SECUPIX USB MOUSE - MU2011',\n",
       "       'Zebronics Ride Wireless Optical Mouse',\n",
       "       'Zebion Ergo Wireless Slim Fit G1600 Keyboard and Mouse',\n",
       "       'Logitech MK220 Wireless Keyboard and Mouse Combo',\n",
       "       'Logitech Mk235 Wireless Keyboard Mouse Combo-Black',\n",
       "       'zebronics keyboard mouse combo', '32 GB Pen Drive Sandisk',\n",
       "       \"QUECHUA Kid's Tablet Bags-Cases Backpack 15Liter - Blue\",\n",
       "       'KIPSTA Sports Laptop Backpack 17Liter- Grey/Yellow',\n",
       "       'QUECHUA Laptop Bag 20 Litre (Yellow)', 'Summer Internship Gift',\n",
       "       'Refer and Earn Rs.2000 and Get Free Partnership Gift',\n",
       "       'Mobile Spare Parts',\n",
       "       'QUECHUA Ultra Compact Travel 10 Litre Backpack (Blue)',\n",
       "       'QUECHUA Travel Multi-Compartment Pouch - Brown',\n",
       "       'Laptop Spare Parts', 'BOROLINE ANTISEPTIC CREAM Combo',\n",
       "       'Nova NHC-3791 Electric Hair Trimmer (Black)',\n",
       "       'Casio DR-140TM Printing Calculator',\n",
       "       'KIPSTA Light Sports Bag 15 Litres - Blue',\n",
       "       'Rosra Black Analog Watch', 'Chetan Bhagat Book Series',\n",
       "       'Citiizen Ct-512 Electronic Calculator',\n",
       "       'Digital Wrist Watch Unisex', 'Casio HR-100RC Printing Calculator',\n",
       "       'Zebronics ZEB-FIT100 Smart Fitness Band',\n",
       "       'QUECHUA Sleeping Bag Arpenaz 20°C - Blue',\n",
       "       'QUECHUA Ultra-Compact 10-Litre Bag (Pink)',\n",
       "       'QUECHUA Laptop Backpack 10Liter (Blue)',\n",
       "       'QUECHUA HIKING Backpack 10L NH100 (Black)',\n",
       "       'KIPSTA GYM Duffle Bag with Ki pocket 40 Liter (Red)',\n",
       "       'KIPSTA GYM Football Duffle Bag with Ki pocket 20 Litre (Blue)',\n",
       "       'Toby Home Air Freshener Spray Sandal (250 ml)',\n",
       "       \"Zordan Men's Styling Herbal Combo Pack (Body Deo,Hair Oil,Shampoo,Shaving Cream,Hair Gel)\",\n",
       "       'Men Brown Two Fold Wallet', 'Men black two fold wallet',\n",
       "       'Universal Abacus Mathematics and Vedic Math Level-1 Book Brain Game',\n",
       "       'Universal Abacus Maths Book Level-2 Book-A',\n",
       "       'Universal Abacus Maths Book Level-3 Book-A',\n",
       "       'Universal Abacus Maths Book Level-4 Book-A',\n",
       "       'Universal Abacus Maths Book Level-5 Book-A',\n",
       "       'Universal Abacus Maths Book Level-6 Book-A',\n",
       "       'Universal Abacus Maths Book Level-7 Book-A',\n",
       "       'Universal Abacus Maths Book Level-8 Book-A', 'Upstox',\n",
       "       'MitSonic 20 Inches (53 cm) FULL HD Gorilla Glass LED TV',\n",
       "       'MitSonic 16 inches (40cm) FULL HD Gorilla Glass LED TV',\n",
       "       'Mitsun MIT2210 20 Inches (51cm) HD Ready Ultra Slim Gorilla Glass LED TV',\n",
       "       'Mitsonic 24 Inches (60 cm) Full HD Gorilla Glass LED TV',\n",
       "       'LED TV Installation Uninstall Repair Services',\n",
       "       'Micromax 20B22HD-A 50 cm (20) HD Plus LED Television',\n",
       "       'LED Bulb Combo Pack 12W Pack of 5',\n",
       "       'DIGISonic DS1601 42cm (16) FULL HD LED Television',\n",
       "       'Mitsonic 32 inches (80 cm) FULL HD Gorilla Glass LED TV',\n",
       "       'KEVIN KN10 80 cm( 32 inch) FULL HD LED TV',\n",
       "       'Sony Bravia 24 inches (59.9 cm) KLV-24P413D HD Ready LED TV',\n",
       "       'Mitsun 32 inches (80 cm) Smart TV FULL HD with Gorilla Glass LED TV',\n",
       "       'Preethi Essence Juicer',\n",
       "       'Preethi Zodiac MG 218 750-Watt Mixer Grinder with 5 Jars Black',\n",
       "       'Preethi Drip cafe Coffee Maker',\n",
       "       'PREETHI GALAXY 750 WATTS MIXER GRINDER (PINK)',\n",
       "       'Ozomax Sleek Travel Iron (Purple,Red)',\n",
       "       'Preethi Crown Mixer Grinder 500 Watts',\n",
       "       'Preethi Trio Mixer Grinder 500-Watt',\n",
       "       'Preethi Trendy Plus Induction Cooktop',\n",
       "       'Preethi Rice Cooker - RC-319 RANGOLI 1.0 Litres',\n",
       "       'Preethi Turbo Chop Chopper', 'Preethi Blend-N-Chop Hand Blender',\n",
       "       'Preethi Express Dry Iron', 'Preethi Armour 1.0L Electric Kettle',\n",
       "       'Preethi X Pro Duo 1300 Watts Mixer Grinder Color(Purple)',\n",
       "       'Preethi Eco Chef Neo Mixer Grinder 500 Watts',\n",
       "       'Preethi Blu Flame Jumbo Glass Top 4-Burner Gas Stove',\n",
       "       'Preethi Snow White 1.2-Litre Electric Kettle',\n",
       "       'Preethi SPICE 550W 3 JAR MIXER GRINDER',\n",
       "       'Preethi STEELE SUPREME 750W 4 JAR MIXER GRINDER',\n",
       "       'Singer Maizy+ Steam Iron 1200 Watt',\n",
       "       'Swedish Diffuser 240ml Chic Euro Design for Home Décor',\n",
       "       'Olifair Pearls Saffron and Radiant Effect Night Cream 50 ml(Riya Fruity Soap Free)',\n",
       "       'Mens Set Of 7 Multicolor T-shirt',\n",
       "       'Patiala Suit Slawar Dress Metrail', 'LEHENGA CHOLI By SHARA',\n",
       "       'Designer Gown By ZARA', 'Party Wear Kurtis By ROYAL',\n",
       "       'Designer Wedding Wear Saree By ARADHANA',\n",
       "       'DENIM Ladies JEANS By DEYON',\n",
       "       'KIPSTA Kids Sports Football Jersey F300 (White)',\n",
       "       'KIPSTA Kids Sports Football Jersey F300 (Blue)',\n",
       "       'DOMYOS Slim-Fit Gym Sports T-Shirt (Black)',\n",
       "       'DOMYOS S500 Boys Gym Sports Half-Sleeved T-Shirt (Grey)',\n",
       "       'KALENJI Kids Unisex Gym Sports T-Shirt (Blue)',\n",
       "       'KALENJI Kids Unisex Gym Sports T-Shirt (Red)',\n",
       "       'Boys Half-Sleeved Gym KidsT-Shirt DOMYOS 100 (White)',\n",
       "       'PUBG T-Shirt Half Sleeve Round Neck (Black)',\n",
       "       'Karismaa Embroidered Net Lehenga choli with dupatta',\n",
       "       'Nature Anti Tan Facial Kit 4pc',\n",
       "       'Aagam Salwar Suits and Dress Materials(Pink,RED,Black,Blue,Yellow)',\n",
       "       'Davidson Sunglasses Unisex Metal Body Tony Stark Style and Inspired By Shahid Kapoor Kabir Singh',\n",
       "       'Navy Blue Canvas shoe for Boys',\n",
       "       'Yo Lifestyle White with Blue strike Color Casual Shoes',\n",
       "       'Yo Lifestyle Black Color Casual Shoes',\n",
       "       'Men Formal Shoes Black Color With Free Sunglasses',\n",
       "       'Runners Lightweight Sports shoes for Men (Black)',\n",
       "       'Men Sports Shoes Runners Lightweight (Yellow-Black)',\n",
       "       'Men Sports Shoes Runners Lightweight (White-Blue)',\n",
       "       'Casual Leather Sneakers for Men (Red+Blue)',\n",
       "       'Casual Sneakers Leather for Men (White+Black)',\n",
       "       'Red Top Genuine Leather Shoes for Men (Brown)',\n",
       "       'Olifair Day Cream Skin Lightening Cream for Women 50 ml(Riya Fruity Soap Free)',\n",
       "       'Olifair Super Combo Pack(Olifair Night Cream and Day Cream)',\n",
       "       'OLIFAIR Activated Charcoal Bleach With Tea Tree Essential Oil (335gm)(Riya Fruity Soap Free)',\n",
       "       'OLIFAIR Unisex Butter Organic Bleach (335 gm)(Riya Fruity Soap Free)',\n",
       "       'Olifair Gold and Charcoal Whitening Soap (Pack of 2) 200 gm(Riya Fruity Soap Free)',\n",
       "       'Olifair Ultra Gold Whitening Soap (Pack of 4) 400 gm(Riya Fruity Soap Free)',\n",
       "       'Olifair Ultra Gold Whitening Soap (Pack of 6) 600 gm(Riya Fruity Soap Free)',\n",
       "       'Olifair Charcoal Whitening Soap 120 gm(Riya Fruity Soap Free)',\n",
       "       'Olifair Facial Kit Combo Pack (Gold, Charcoal, Lightening, Seaweed, Wrinkle) 750 gm(Riya Fruity Soap Free)',\n",
       "       'OLIFAIR Skin Lightening Facial Kit for Face 150 gm(Riya Fruity Soap Free)',\n",
       "       'OLIFAIR Unisex Age lock And Wrinkle Facial Kit 150Gm(Riya Fruity Soap Free)',\n",
       "       'OLIFAIR Unisex Gold Facial Kit For Healthy Skin 150gm(Riya Fruity Soap Free)',\n",
       "       'OLIFAIR Activated Charcoal Face Kit With Tea Tree Essential Oil 150gm(Riya Fruity Soap Free)',\n",
       "       'OLIFAIR Unisex Seaweed Facial Kit Pack 150gm(Riya Fruity Soap Free)',\n",
       "       'Olifair Activated Carbon + Kerovita Gel Refreshing Face Wash 50 ml(Riya Fruity Soap Free)',\n",
       "       'Olifair Gold Radiance Face Wash for All Skin Types - 50 ml(Riya Fruity Soap Free)',\n",
       "       'Olifair Hydrating Spot Reduction Face Wash - 50ml(Riya Fruity Soap Free)',\n",
       "       'Olifair Pro-Vitamin C Face Wash - 50 ml (Riya Fruity Soap Free)',\n",
       "       'Olifair Saffron Face Wash - 120 ml (Free Riya Fruity Soap)',\n",
       "       'Olifair Active Light Sunscreen SPF30 - 50 ml (Free Riya Fruity Soap)',\n",
       "       'Olifair Active Light Sunscreen SPF 50 - 50 ml (Free Riya Fruity Soap)',\n",
       "       'Olifair Active Light Sunscreen SPF 70 - 50 ml (Free Riya Fruity Soap)',\n",
       "       'Olifair Active Light Sunscreen SPF 90 - 50 ml (Free Riya Fruity Soap)',\n",
       "       'OLIFAIR Detoxifying Gold Peel Off Mask - 25 gm (Free Riya Fruity Soap)',\n",
       "       'OLIFAIR Alkaline De-Tan Scrub - 350 gm (Free Riya Fruity Soap)',\n",
       "       'OLIFAIR Alkaline De-Tan Masque - 350 gm (Free Riya Fruity Soap)',\n",
       "       'OLIFAIR Alkaline De-Tan Wash - 350 gm (Free Riya Fruity Soap)',\n",
       "       'OLIFAIR Alkaline De-Tan Cream White - 350 gm (Free Riya Fruity Soap)',\n",
       "       '1KG Chicken Biryani (Chennai)',\n",
       "       '1 Bucket Chicken Biryani Party Pack 5kg (Chennai)',\n",
       "       'Quarter Chicken Biryani (Chennai)',\n",
       "       'Country Chicken (Desi Murga) raw with skin 1kg(Berhampur)',\n",
       "       'Combo Meal Chicken Biriyani (Chennai)',\n",
       "       'Fresh Mushrooms Button 200gm (Berhampur)',\n",
       "       'Chicken Pakora-200Gm (Chennai)',\n",
       "       'River Prawn Small- 4cm 250gm(Berhampur)',\n",
       "       'Mutton Curry Cut 500gm (Berhampur)',\n",
       "       'Berhampur Special Masala Papad 250gm',\n",
       "       \"KING'S CLASSIC INSTANT COFFEE\",\n",
       "       'FERNWEH ORIGINALS INSTANT COFFEE', 'Organic Raw Honey 250Gms',\n",
       "       'Mutton Biriyani Plate 1/2kg. (Chennai)',\n",
       "       'Egg Biriyani Plate 1/2 kg. (Chennai)',\n",
       "       'Chicken Biryani Plate(Chennai)',\n",
       "       'Rohu River Fish Raw 1Kg(Berhampur)',\n",
       "       'Rohu River Fish Cutting(No Head) 1Kg(Berhampur)',\n",
       "       'Vakura Catla River Fish Raw 1Kg(Berhampur)',\n",
       "       'Vakura Catla River Fish Cutting(No Head) 1Kg(Berhampur)',\n",
       "       'River Prawn Raw Big-12cm 250gm(Berhampur)',\n",
       "       'River Prawn Raw Middium- 6cm 250gm(Berhampur)',\n",
       "       'River Prawn Raw Big-12cm 500gm(Berhampur)',\n",
       "       'River Prawn Raw Middium- 6cm 500gm(Berhampur)',\n",
       "       'River Prawn Small- 4cm 500gm(Berhampur)',\n",
       "       'Country Chicken (Desi Murga) Clean without skin 1kg(Berhampur)',\n",
       "       'Country Chicken (Desi Murga) Curry Cut with skin 500gm(Berhampur)',\n",
       "       'Country Chicken (Desi Murga) Clean without skin 500gm(Berhampur)',\n",
       "       'Mutton Curry Cut 1kg (Berhampur)',\n",
       "       'Mutton Chops Special(kasha) 1kg(Berhampur)',\n",
       "       'Mutton Chops Special(kashi) 500gm(Berhampur)',\n",
       "       'Broiler Chicken Raw Live 2kg(Berhampur)',\n",
       "       'Broiler Chicken Raw with skin 1kg(Berhampur)',\n",
       "       'Broiler Chicken Clean without skin 1kg(Berhampur)',\n",
       "       'Broiler Chicken Raw with skin 500gm(Berhampur)',\n",
       "       'Broiler Chicken Clean without skin 500gm(Berhampur)',\n",
       "       'Country Chicken (Desi Murga) Eggs 12pcs(Berhampur)',\n",
       "       'Broiler Eggs 12pcs(Berhampur)', 'Cooking OiL 1Liter(Berhampur)',\n",
       "       'Organic Basmati Rice 1Kg(Berhampur)', 'ATTA 1Kg(Berhampur)',\n",
       "       'Sweet Pickel 1Kg(Berhampur)', 'Fresh Paneer 1Kg(Berhampur)',\n",
       "       'ROLLED OATS 1Kg(Berhampur)',\n",
       "       'Organic Sattu Maavu Multi-grain Baby Protein powder with dry fruit 1kg-',\n",
       "       'Organic Unpolished Toor Dal 1Kg', 'Organic Cow Ghee 1Litre',\n",
       "       'Organic Herbal Tea 500gm',\n",
       "       'Organic Filter Coffee Powder 250gm(Berhampur)',\n",
       "       'Fresh Cow Milk 1Liter(Berhampur)',\n",
       "       'Fresh Cow Milk 500ml(Berhampur)', 'Fresh Curd 500ml(Berhampur)',\n",
       "       'Organic Spice Masala Combo 500gm- 5 item(Berhampur)-100gm Garam Masala, 100gm Pav Bhaji Masala, 100gm Sambar Powder,100gm Chicken Masala,100gm Biriyani Masala',\n",
       "       'Fresh Paneer 500gm (Berhampur)', 'Fresh Paneer 250gm(Berhampur)',\n",
       "       'AVENTURE GOLD INSTANT COFFEE', 'Broiler Eggs 36pcs(Berhampur)',\n",
       "       'Country Chicken (Desi Murga) Eggs 6pcs(Berhampur)',\n",
       "       'Data Science Internship Training Program',\n",
       "       'Blockchain Developer Internship Training Program',\n",
       "       'Hospitality Internship Training Program',\n",
       "       'Cyber Security Internship Training Program',\n",
       "       'Artificial Intelligence and Machine learning Internship Training Program',\n",
       "       'BigData Hadoop and Apache Spark Internship Training Program',\n",
       "       'ONLINE TUTION FOR CLASS- NURSERY,LKG,UKG(FREE 5 DAYS DEMO CLASS)',\n",
       "       'Web Design & Development Internship Training Program',\n",
       "       'Fun Activities for Kids LKG to STD 10(Singing, Dancing, Drawing, Craft, Music, Yoga, Karate)',\n",
       "       'Cash On Delivery Services',\n",
       "       'Digital Signature Certificate (DSC) Class 2 valid for 2 Years with USB Device',\n",
       "       'Sales and Marketing Internship Training Course',\n",
       "       'ONLINE TUITION FOR STD 4 and STD 5(FREE 5 DAYS DEMO CBSE)',\n",
       "       'YOLO Investor The Small Investment Service',\n",
       "       'Data Science Basic Training Program for Everyone(Age=10 to 60)',\n",
       "       'Panasonic Service center', 'Interior Designer Service',\n",
       "       'Detective& Security Services', 'Real Estate Services',\n",
       "       'Wedding & Event Planer', 'Coaching Service',\n",
       "       'Gym & Fitness Service', 'Photography Services',\n",
       "       'Computer Repair Services', 'Travel Agency Services',\n",
       "       'Baby Care Services', 'Software Lease Service',\n",
       "       'Personal Finance Service', 'Insurance Service',\n",
       "       'Digital Marketing Services', 'Bulk SMS Service', 'SEO Services',\n",
       "       'Laundry Service', 'Room Booking Service', 'Cleaning Service',\n",
       "       'Labour Supply Service and Manpower Supply Service (Berhampur)',\n",
       "       'Movers Packer Service', 'Plumbing Service and Plumber Service',\n",
       "       'Electrician Services', 'Air Conditioner Service',\n",
       "       'Water Purifier Service', 'Legal Services', 'Home Nursing Service',\n",
       "       'Website & Mobile App Developing Service',\n",
       "       'Peer to Peer Lending Service',\n",
       "       'Digital Marketing Internship Training Program',\n",
       "       'Human Resource Internship Training Program',\n",
       "       'Content Writing Internship Training Program',\n",
       "       'HR and Digital Marketing Dual Training Internship Course',\n",
       "       'SAP MM Business Analyst Internship Training Program',\n",
       "       'Business Development Internship Training Program',\n",
       "       'HR and Finance Dual Internship Training Course',\n",
       "       'ONLINE TUITION FOR CLASS STD 1, STD 2 And STD 3 (FREE 5 DAYS DEMO CLASS)',\n",
       "       'ONLINE CLASSES for STD 6 STD 7 STD 8 (FREE 5 DAYS DEMO CBSE)',\n",
       "       'Selaginella Life Sciences PCD Pharma Franchise & Manufacturer',\n",
       "       'Medical Representatives Internship Training Program',\n",
       "       'YouTuber Prabeen Kumar -YouTube Channel-3 Subscriber-504 Instagram Follower-3k',\n",
       "       'YouTuber Dipti Mishra -Subscriber-816 Instagram Follower-2k',\n",
       "       'Onesta Life Care PCD Pharma Franchise Manufacturer',\n",
       "       'ONLINE CLASSES for STD 9 and STD 10 (FREE 5 DAYS DEMO CBSE)',\n",
       "       'Microtek Fingertip Pulse Oximeter',\n",
       "       'Finance Internship Training Program',\n",
       "       'Computer Coding Class for Kids STD 1 to STD 10 (Free 5 Demo Classes)',\n",
       "       'Math and Finance Classes for Kids STD 1 to STD 10 (Free 5 Demo Classes)',\n",
       "       'Spoken English Classes For Kids (STD 1 to STD 10) Free 5 Demo Class',\n",
       "       'Maths and Computer Science Online Classes for STD 3 to STD 10 (FREE 5 DEMO CBSE Board)',\n",
       "       'YouTuber Akshay Bhansali YouTube Channel name - Experiment World and Subscriber- 133',\n",
       "       'Hindi Class For STD 1 to STD 10 Free 5 Demo Class',\n",
       "       'Carpenter Service and Wood Worker Supply Service',\n",
       "       'Chhota Investor The Small Investment Service',\n",
       "       'BBA Online Class Live Tuition Training Program with INTERNSHIP',\n",
       "       'B.TECH Online Class Live Tuition Training Program with INTERNSHIP',\n",
       "       'YouTuber Deepak Kumar YouTube Channel: Technical Exam and Sports Gyaani Subscriber- 7k,68k'],\n",
       "      dtype=object)"
      ]
     },
     "execution_count": 100,
     "metadata": {},
     "output_type": "execute_result"
    }
   ],
   "source": [
    "review['product_name'].unique()"
   ]
  },
  {
   "cell_type": "markdown",
   "metadata": {},
   "source": [
    "# Task 8"
   ]
  },
  {
   "cell_type": "code",
   "execution_count": 101,
   "metadata": {},
   "outputs": [],
   "source": [
    "order['Review'] = np.nan\n",
    "for i in order['LineItem Name'].index:\n",
    "    for j in review['product_name'].index:\n",
    "        if order['LineItem Name'][i].strip().replace(\" \", \"\") == review['product_name'][j].strip().replace(\" \", \"\"):\n",
    "            order['Review'][i] = review['stars'][j]"
   ]
  },
  {
   "cell_type": "code",
   "execution_count": 102,
   "metadata": {},
   "outputs": [],
   "source": [
    "order['Review'] = order['Review'].fillna('no_review')"
   ]
  },
  {
   "cell_type": "code",
   "execution_count": 103,
   "metadata": {},
   "outputs": [],
   "source": [
    "order_review = order.iloc[:,-3:]"
   ]
  },
  {
   "cell_type": "code",
   "execution_count": 104,
   "metadata": {},
   "outputs": [],
   "source": [
    "order_review['Count'] = np.nan"
   ]
  },
  {
   "cell_type": "code",
   "execution_count": 105,
   "metadata": {},
   "outputs": [],
   "source": [
    "order_review['Count'] = order_review['Count'].fillna(1)"
   ]
  },
  {
   "cell_type": "code",
   "execution_count": 106,
   "metadata": {},
   "outputs": [],
   "source": [
    "for ind in order_review.index:\n",
    "    if order_review['Review'][ind] != 'no_review':\n",
    "        if float(order_review['Review'][ind]) >= 4.5 and float(order_review['Review'][ind]) <= 5:\n",
    "            order_review['Review'][ind] = '4.5-5'\n",
    "        elif float(order_review['Review'][ind]) >= 4.0 and float(order_review['Review'][ind]) < 4.5:\n",
    "            order_review['Review'][ind] = '4.0-4.5'\n",
    "        elif float(order_review['Review'][ind]) >= 3.5 and float(order_review['Review'][ind]) < 4:\n",
    "            order_review['Review'][ind] = '3.5-4'\n",
    "        elif float(order_review['Review'][ind]) >= 3.0 and float(order_review['Review'][ind]) < 3.5:\n",
    "            order_review['Review'][ind] = '3-3.5'\n",
    "        elif float(order_review['Review'][ind]) < 3:\n",
    "            order_review['Review'][ind] = 'Less than 3'"
   ]
  },
  {
   "cell_type": "code",
   "execution_count": 113,
   "metadata": {},
   "outputs": [
    {
     "data": {
      "text/plain": [
       "array(['no_review', '4.5-5', '4.0-4.5', '3-3.5', 'Less than 3'],\n",
       "      dtype=object)"
      ]
     },
     "execution_count": 113,
     "metadata": {},
     "output_type": "execute_result"
    }
   ],
   "source": [
    "order_review['Review'].unique()"
   ]
  },
  {
   "cell_type": "code",
   "execution_count": 114,
   "metadata": {},
   "outputs": [
    {
     "data": {
      "image/png": "[encoded data removed]",
      "text/plain": [
       "<Figure size 720x720 with 1 Axes>"
      ]
     },
     "metadata": {
      "needs_background": "light"
     },
     "output_type": "display_data"
    },
    {
     "data": {
      "image/png": "[encoded data removed]",
      "text/plain": [
       "<Figure size 720x720 with 1 Axes>"
      ]
     },
     "metadata": {
      "needs_background": "light"
     },
     "output_type": "display_data"
    },
    {
     "data": {
      "image/png": "[encoded data removed]",
      "text/plain": [
       "<Figure size 720x720 with 1 Axes>"
      ]
     },
     "metadata": {
      "needs_background": "light"
     },
     "output_type": "display_data"
    },
    {
     "data": {
      "image/png": "[encoded data removed]",
      "text/plain": [
       "<Figure size 720x720 with 1 Axes>"
      ]
     },
     "metadata": {
      "needs_background": "light"
     },
     "output_type": "display_data"
    },
    {
     "data": {
      "image/png": "[encoded data removed]",
      "text/plain": [
       "<Figure size 720x720 with 1 Axes>"
      ]
     },
     "metadata": {
      "needs_background": "light"
     },
     "output_type": "display_data"
    }
   ],
   "source": [
    "pdfs = []\n",
    "\n",
    "for year in order_review['year'].unique():\n",
    "    df = order_review[order_review['year'] == year].groupby(['months', 'year', 'Review']).count()['Count']\n",
    "    # plot the result\n",
    "    df.unstack().plot(title = \"Review Analysis of Orders per Month in \"+str(year),figsize = (10,10))\n",
    "    plt.xticks(rotation=30)\n",
    "    plt.savefig('edatask8_'+str(year)+'.pdf')\n",
    "    pdfs.append('edatask8_'+str(year)+'.pdf')\n",
    "\n",
    "merger = PyPDF2.PdfMerger()\n",
    "\n",
    "for pdf in pdfs:\n",
    "    merger.append(pdf)\n",
    "\n",
    "merger.write(\"edatask8.pdf\")\n",
    "merger.close()"
   ]
  },
  {
   "cell_type": "code",
   "execution_count": 115,
   "metadata": {},
   "outputs": [],
   "source": [
    "for pdf in pdfs:\n",
    "    remove(pdf)"
   ]
  },
  {
   "cell_type": "markdown",
   "metadata": {},
   "source": [
    "# Task 9"
   ]
  },
  {
   "cell_type": "code",
   "execution_count": 116,
   "metadata": {},
   "outputs": [
    {
     "data": {
      "text/html": [
       "<div>\n",
       "<style scoped>\n",
       "    .dataframe tbody tr th:only-of-type {\n",
       "        vertical-align: middle;\n",
       "    }\n",
       "\n",
       "    .dataframe tbody tr th {\n",
       "        vertical-align: top;\n",
       "    }\n",
       "\n",
       "    .dataframe thead th {\n",
       "        text-align: right;\n",
       "    }\n",
       "</style>\n",
       "<table border=\"1\" class=\"dataframe\">\n",
       "  <thead>\n",
       "    <tr style=\"text-align: right;\">\n",
       "      <th></th>\n",
       "      <th>Time</th>\n",
       "      <th>LineItem Qty</th>\n",
       "    </tr>\n",
       "  </thead>\n",
       "  <tbody>\n",
       "    <tr>\n",
       "      <th>0</th>\n",
       "      <td>20</td>\n",
       "      <td>1</td>\n",
       "    </tr>\n",
       "    <tr>\n",
       "      <th>1</th>\n",
       "      <td>20</td>\n",
       "      <td>1</td>\n",
       "    </tr>\n",
       "    <tr>\n",
       "      <th>2</th>\n",
       "      <td>19</td>\n",
       "      <td>1</td>\n",
       "    </tr>\n",
       "    <tr>\n",
       "      <th>3</th>\n",
       "      <td>19</td>\n",
       "      <td>1</td>\n",
       "    </tr>\n",
       "    <tr>\n",
       "      <th>4</th>\n",
       "      <td>18</td>\n",
       "      <td>1</td>\n",
       "    </tr>\n",
       "    <tr>\n",
       "      <th>...</th>\n",
       "      <td>...</td>\n",
       "      <td>...</td>\n",
       "    </tr>\n",
       "    <tr>\n",
       "      <th>2292</th>\n",
       "      <td>4</td>\n",
       "      <td>1</td>\n",
       "    </tr>\n",
       "    <tr>\n",
       "      <th>2293</th>\n",
       "      <td>15</td>\n",
       "      <td>1</td>\n",
       "    </tr>\n",
       "    <tr>\n",
       "      <th>2294</th>\n",
       "      <td>18</td>\n",
       "      <td>2</td>\n",
       "    </tr>\n",
       "    <tr>\n",
       "      <th>2295</th>\n",
       "      <td>18</td>\n",
       "      <td>1</td>\n",
       "    </tr>\n",
       "    <tr>\n",
       "      <th>2296</th>\n",
       "      <td>15</td>\n",
       "      <td>1</td>\n",
       "    </tr>\n",
       "  </tbody>\n",
       "</table>\n",
       "<p>2297 rows × 2 columns</p>\n",
       "</div>"
      ],
      "text/plain": [
       "      Time  LineItem Qty\n",
       "0       20             1\n",
       "1       20             1\n",
       "2       19             1\n",
       "3       19             1\n",
       "4       18             1\n",
       "...    ...           ...\n",
       "2292     4             1\n",
       "2293    15             1\n",
       "2294    18             2\n",
       "2295    18             1\n",
       "2296    15             1\n",
       "\n",
       "[2297 rows x 2 columns]"
      ]
     },
     "execution_count": 116,
     "metadata": {},
     "output_type": "execute_result"
    }
   ],
   "source": [
    "review_parts_day = pd.DataFrame()\n",
    "review_parts_day['Time'] = order['months'] = pd.DatetimeIndex(order['Order Date and Time Stamp']).hour\n",
    "review_parts_day['LineItem Qty'] = order['LineItem Qty']\n",
    "review_parts_day"
   ]
  },
  {
   "cell_type": "code",
   "execution_count": 117,
   "metadata": {},
   "outputs": [
    {
     "data": {
      "text/html": [
       "<div>\n",
       "<style scoped>\n",
       "    .dataframe tbody tr th:only-of-type {\n",
       "        vertical-align: middle;\n",
       "    }\n",
       "\n",
       "    .dataframe tbody tr th {\n",
       "        vertical-align: top;\n",
       "    }\n",
       "\n",
       "    .dataframe thead th {\n",
       "        text-align: right;\n",
       "    }\n",
       "</style>\n",
       "<table border=\"1\" class=\"dataframe\">\n",
       "  <thead>\n",
       "    <tr style=\"text-align: right;\">\n",
       "      <th></th>\n",
       "      <th>Time</th>\n",
       "      <th>LineItem Qty</th>\n",
       "    </tr>\n",
       "  </thead>\n",
       "  <tbody>\n",
       "    <tr>\n",
       "      <th>0</th>\n",
       "      <td>Night (18:00-21:00)</td>\n",
       "      <td>1</td>\n",
       "    </tr>\n",
       "    <tr>\n",
       "      <th>1</th>\n",
       "      <td>Night (18:00-21:00)</td>\n",
       "      <td>1</td>\n",
       "    </tr>\n",
       "    <tr>\n",
       "      <th>2</th>\n",
       "      <td>Night (18:00-21:00)</td>\n",
       "      <td>1</td>\n",
       "    </tr>\n",
       "    <tr>\n",
       "      <th>3</th>\n",
       "      <td>Night (18:00-21:00)</td>\n",
       "      <td>1</td>\n",
       "    </tr>\n",
       "    <tr>\n",
       "      <th>4</th>\n",
       "      <td>Night (18:00-21:00)</td>\n",
       "      <td>1</td>\n",
       "    </tr>\n",
       "    <tr>\n",
       "      <th>...</th>\n",
       "      <td>...</td>\n",
       "      <td>...</td>\n",
       "    </tr>\n",
       "    <tr>\n",
       "      <th>2292</th>\n",
       "      <td>Early Morning (03:00-06:00)</td>\n",
       "      <td>1</td>\n",
       "    </tr>\n",
       "    <tr>\n",
       "      <th>2293</th>\n",
       "      <td>Evening (15:00-18:00)</td>\n",
       "      <td>1</td>\n",
       "    </tr>\n",
       "    <tr>\n",
       "      <th>2294</th>\n",
       "      <td>Night (18:00-21:00)</td>\n",
       "      <td>2</td>\n",
       "    </tr>\n",
       "    <tr>\n",
       "      <th>2295</th>\n",
       "      <td>Night (18:00-21:00)</td>\n",
       "      <td>1</td>\n",
       "    </tr>\n",
       "    <tr>\n",
       "      <th>2296</th>\n",
       "      <td>Evening (15:00-18:00)</td>\n",
       "      <td>1</td>\n",
       "    </tr>\n",
       "  </tbody>\n",
       "</table>\n",
       "<p>2297 rows × 2 columns</p>\n",
       "</div>"
      ],
      "text/plain": [
       "                             Time  LineItem Qty\n",
       "0             Night (18:00-21:00)             1\n",
       "1             Night (18:00-21:00)             1\n",
       "2             Night (18:00-21:00)             1\n",
       "3             Night (18:00-21:00)             1\n",
       "4             Night (18:00-21:00)             1\n",
       "...                           ...           ...\n",
       "2292  Early Morning (03:00-06:00)             1\n",
       "2293        Evening (15:00-18:00)             1\n",
       "2294          Night (18:00-21:00)             2\n",
       "2295          Night (18:00-21:00)             1\n",
       "2296        Evening (15:00-18:00)             1\n",
       "\n",
       "[2297 rows x 2 columns]"
      ]
     },
     "execution_count": 117,
     "metadata": {},
     "output_type": "execute_result"
    }
   ],
   "source": [
    "for ind in review_parts_day.index:\n",
    "    if float(review_parts_day['Time'][ind]) >= 6 and float(review_parts_day['Time'][ind]) < 9:\n",
    "        review_parts_day['Time'][ind] = \"Morning (6:00-9:00)\"\n",
    "    elif float(review_parts_day['Time'][ind]) >= 9 and float(review_parts_day['Time'][ind]) < 12:\n",
    "        review_parts_day['Time'][ind] = \"Late Morning (9:00-12:00)\"\n",
    "    elif float(review_parts_day['Time'][ind]) >= 12 and float(review_parts_day['Time'][ind]) < 15:\n",
    "        review_parts_day['Time'][ind] = \"Afternoon (12:00-15:00)\"\n",
    "    elif float(review_parts_day['Time'][ind]) >= 15 and float(review_parts_day['Time'][ind]) < 18:\n",
    "        review_parts_day['Time'][ind] = \"Evening (15:00-18:00)\"\n",
    "    elif float(review_parts_day['Time'][ind]) >= 18 and float(review_parts_day['Time'][ind]) < 21:\n",
    "        review_parts_day['Time'][ind] = \"Night (18:00-21:00)\"\n",
    "    elif float(review_parts_day['Time'][ind]) >= 21:\n",
    "        review_parts_day['Time'][ind] = \"Late Night (21:00-00:00)\"\n",
    "    elif float(review_parts_day['Time'][ind]) >= 0 and float(review_parts_day['Time'][ind]) < 3:\n",
    "        review_parts_day['Time'][ind] = \"Mid Night (00:00-03:00)\"\n",
    "    elif float(review_parts_day['Time'][ind]) >= 3 and float(review_parts_day['Time'][ind]) < 6:\n",
    "        review_parts_day['Time'][ind] = \"Early Morning (03:00-06:00)\"\n",
    "review_parts_day"
   ]
  },
  {
   "cell_type": "code",
   "execution_count": 118,
   "metadata": {},
   "outputs": [
    {
     "data": {
      "image/png": "[encoded data removed]",
      "text/plain": [
       "<Figure size 1440x720 with 1 Axes>"
      ]
     },
     "metadata": {
      "needs_background": "light"
     },
     "output_type": "display_data"
    }
   ],
   "source": [
    "plt.figure(figsize = (20,10))\n",
    "review_parts_day.groupby('Time')['LineItem Qty'].count().sort_values(ascending=False).plot.barh().set_title('Analysis of Number of Orders across different parts of the Day')\n",
    "plt.savefig('edatask9.pdf')"
   ]
  },
  {
   "cell_type": "markdown",
   "metadata": {},
   "source": [
    "# Task 10"
   ]
  },
  {
   "cell_type": "code",
   "execution_count": 119,
   "metadata": {},
   "outputs": [],
   "source": [
    "merger = PyPDF2.PdfMerger()\n",
    "for i in range(1,10):\n",
    "    merger.append('edatask'+str(i)+'.pdf')\n",
    "\n",
    "merger.write(\"Full Report.pdf\")\n",
    "merger.close()"
   ]
  },
  {
   "cell_type": "code",
   "execution_count": 2,
   "metadata": {},
   "outputs": [],
   "source": [
    "import tkinter\n",
    "\n",
    "master=tkinter.Tk()\n",
    "master.geometry(\"400x260\")\n",
    "\n",
    "def click(type):\n",
    "    startfile('edatask'+type+'.pdf')\n",
    "\n",
    "button1=tkinter.Button(master, text=\"1. Analysis of Customer Reviews\", command = lambda:click('1'))\n",
    "button1.grid(row=1,column=0, ipadx = '0px')\n",
    "\n",
    "button2=tkinter.Button(master, text=\"2. Analysis of Customer Payment Methods\", command = lambda:click('2'))\n",
    "button2.grid(row=2,column=0, padx= '0px')\n",
    "\n",
    "button3=tkinter.Button(master, text=\"3. Analysis of Top Consumer Indian States\", command = lambda:click('3'))\n",
    "button3.grid(row=3,column=0, padx= '0px')\n",
    "\n",
    "button4=tkinter.Button(master, text=\"4. Analysis of Top Indian Consumer Cities\", command = lambda:click('4'))\n",
    "button4.grid(row=4,column=0, padx= '0px')\n",
    "\n",
    "button5=tkinter.Button(master, text=\"5. Analysis of Top Selling Product Categories\", command = lambda:click('5'))\n",
    "button5.grid(row=5,column=0, padx= '0px')\n",
    "\n",
    "button6=tkinter.Button(master, text=\"6. Analysis of Top Product Category Reviews\", command = lambda:click('6'))\n",
    "button6.grid(row=6,column=0, padx= '0px')\n",
    "\n",
    "button7=tkinter.Button(master, text=\"7. Analysis of Number of Orders Per Month Per Year\", command = lambda:click('7'))\n",
    "button7.grid(row=7,column=0, padx= '0px')\n",
    "\n",
    "button8=tkinter.Button(master, text=\"8. Review Analysis for Number of Orders per Month per Year\", command = lambda:click('8'))\n",
    "button8.grid(row=8,column=0, padx= '20px')\n",
    "\n",
    "button9=tkinter.Button(master, text=\"9. Analysis of Number of Orders across parts of a Day\", command = lambda:click('9'))\n",
    "button9.grid(row=9,column=0, padx= '0px')\n",
    "\n",
    "button10=tkinter.Button(master, text=\"10. Full Report\", command = lambda: startfile('Full Report.pdf'))\n",
    "button10.grid(row=10,column=0, padx= '0px')\n",
    "\n",
    "master.mainloop()"
   ]
  },
  {
   "cell_type": "code",
   "execution_count": null,
   "metadata": {},
   "outputs": [],
   "source": []
  }
 ],
 "metadata": {
  "kernelspec": {
   "display_name": "Python 3 (ipykernel)",
   "language": "python",
   "name": "python3"
  },
  "language_info": {
   "codemirror_mode": {
    "name": "ipython",
    "version": 3
   },
   "file_extension": ".py",
   "mimetype": "text/x-python",
   "name": "python",
   "nbconvert_exporter": "python",
   "pygments_lexer": "ipython3",
   "version": "3.9.12"
  }
 },
 "nbformat": 4,
 "nbformat_minor": 4
}
